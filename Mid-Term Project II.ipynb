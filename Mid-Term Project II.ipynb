{
 "cells": [
  {
   "cell_type": "markdown",
   "id": "7ef661bd",
   "metadata": {},
   "source": [
    "# Mid-Term Project "
   ]
  },
  {
   "cell_type": "markdown",
   "id": "30bde152",
   "metadata": {},
   "source": [
    "The following code provides the entire exploratoratory data analysis, metrics, training and selecting the best models, exporting the models from the jupyter notebook and deploying the service tothe cloud"
   ]
  },
  {
   "cell_type": "markdown",
   "id": "5e5482a1",
   "metadata": {},
   "source": [
    "-------- Problem Statement ------\n",
    "\n",
    "Amazon has data on the 50 best sellers from 2009 to 2019. The company would like to have more insights about their customers through data visualizations and a model to predict user rating of a book. Amazon hopes to build a simple model that will help inform about customer behaviour through the rating of these best sellers."
   ]
  },
  {
   "cell_type": "markdown",
   "id": "a0928569",
   "metadata": {},
   "source": [
    "The first step is to import libraries that will be commonly used at all sections of our analyses"
   ]
  },
  {
   "cell_type": "code",
   "execution_count": 497,
   "id": "d71f5730",
   "metadata": {},
   "outputs": [],
   "source": [
    "#import pandas as pd and numpy as np"
   ]
  },
  {
   "cell_type": "code",
   "execution_count": 498,
   "id": "e06126b0",
   "metadata": {},
   "outputs": [],
   "source": [
    "import pandas as pd\n",
    "import numpy as np"
   ]
  },
  {
   "cell_type": "code",
   "execution_count": 499,
   "id": "5d3fac13",
   "metadata": {},
   "outputs": [],
   "source": [
    "#import matlab and seaborn plotting libraries, activate inline plotting using %inline"
   ]
  },
  {
   "cell_type": "code",
   "execution_count": 500,
   "id": "2e5c2230",
   "metadata": {},
   "outputs": [],
   "source": [
    "import seaborn as sns\n",
    "from matplotlib import pyplot as plt\n",
    "%matplotlib inline"
   ]
  },
  {
   "cell_type": "code",
   "execution_count": 501,
   "id": "dbb8dd1c",
   "metadata": {},
   "outputs": [],
   "source": [
    "#Source of the data on kaggle, more information can be obtained from this link: https://www.kaggle.com/sootersaalu/amazon-top-50-bestselling-books-2009-2019"
   ]
  },
  {
   "cell_type": "code",
   "execution_count": 502,
   "id": "96359c21",
   "metadata": {},
   "outputs": [],
   "source": [
    "#Use pandas to read 'csv' file of the data and store it to a variable called 'df'"
   ]
  },
  {
   "cell_type": "code",
   "execution_count": 503,
   "id": "a254ec8d",
   "metadata": {},
   "outputs": [],
   "source": [
    "df = pd.read_csv('data_kaggle.csv')"
   ]
  },
  {
   "cell_type": "code",
   "execution_count": 504,
   "id": "0d8980a4",
   "metadata": {},
   "outputs": [],
   "source": [
    "##Exploratory Data Analysis"
   ]
  },
  {
   "cell_type": "code",
   "execution_count": 505,
   "id": "050af2e3",
   "metadata": {},
   "outputs": [],
   "source": [
    "#inspect headers and rows of the data"
   ]
  },
  {
   "cell_type": "code",
   "execution_count": 506,
   "id": "261a5e70",
   "metadata": {},
   "outputs": [
    {
     "data": {
      "text/html": [
       "<div>\n",
       "<style scoped>\n",
       "    .dataframe tbody tr th:only-of-type {\n",
       "        vertical-align: middle;\n",
       "    }\n",
       "\n",
       "    .dataframe tbody tr th {\n",
       "        vertical-align: top;\n",
       "    }\n",
       "\n",
       "    .dataframe thead th {\n",
       "        text-align: right;\n",
       "    }\n",
       "</style>\n",
       "<table border=\"1\" class=\"dataframe\">\n",
       "  <thead>\n",
       "    <tr style=\"text-align: right;\">\n",
       "      <th></th>\n",
       "      <th>Name</th>\n",
       "      <th>Author</th>\n",
       "      <th>User Rating</th>\n",
       "      <th>Reviews</th>\n",
       "      <th>Price</th>\n",
       "      <th>Year</th>\n",
       "      <th>Genre</th>\n",
       "    </tr>\n",
       "  </thead>\n",
       "  <tbody>\n",
       "    <tr>\n",
       "      <th>0</th>\n",
       "      <td>10-Day Green Smoothie Cleanse</td>\n",
       "      <td>JJ Smith</td>\n",
       "      <td>4.7</td>\n",
       "      <td>17350</td>\n",
       "      <td>8</td>\n",
       "      <td>2016</td>\n",
       "      <td>Non Fiction</td>\n",
       "    </tr>\n",
       "    <tr>\n",
       "      <th>1</th>\n",
       "      <td>11/22/63: A Novel</td>\n",
       "      <td>Stephen King</td>\n",
       "      <td>4.6</td>\n",
       "      <td>2052</td>\n",
       "      <td>22</td>\n",
       "      <td>2011</td>\n",
       "      <td>Fiction</td>\n",
       "    </tr>\n",
       "    <tr>\n",
       "      <th>2</th>\n",
       "      <td>12 Rules for Life: An Antidote to Chaos</td>\n",
       "      <td>Jordan B. Peterson</td>\n",
       "      <td>4.7</td>\n",
       "      <td>18979</td>\n",
       "      <td>15</td>\n",
       "      <td>2018</td>\n",
       "      <td>Non Fiction</td>\n",
       "    </tr>\n",
       "    <tr>\n",
       "      <th>3</th>\n",
       "      <td>1984 (Signet Classics)</td>\n",
       "      <td>George Orwell</td>\n",
       "      <td>4.7</td>\n",
       "      <td>21424</td>\n",
       "      <td>6</td>\n",
       "      <td>2017</td>\n",
       "      <td>Fiction</td>\n",
       "    </tr>\n",
       "    <tr>\n",
       "      <th>4</th>\n",
       "      <td>5,000 Awesome Facts (About Everything!) (Natio...</td>\n",
       "      <td>National Geographic Kids</td>\n",
       "      <td>4.8</td>\n",
       "      <td>7665</td>\n",
       "      <td>12</td>\n",
       "      <td>2019</td>\n",
       "      <td>Non Fiction</td>\n",
       "    </tr>\n",
       "    <tr>\n",
       "      <th>...</th>\n",
       "      <td>...</td>\n",
       "      <td>...</td>\n",
       "      <td>...</td>\n",
       "      <td>...</td>\n",
       "      <td>...</td>\n",
       "      <td>...</td>\n",
       "      <td>...</td>\n",
       "    </tr>\n",
       "    <tr>\n",
       "      <th>545</th>\n",
       "      <td>Wrecking Ball (Diary of a Wimpy Kid Book 14)</td>\n",
       "      <td>Jeff Kinney</td>\n",
       "      <td>4.9</td>\n",
       "      <td>9413</td>\n",
       "      <td>8</td>\n",
       "      <td>2019</td>\n",
       "      <td>Fiction</td>\n",
       "    </tr>\n",
       "    <tr>\n",
       "      <th>546</th>\n",
       "      <td>You Are a Badass: How to Stop Doubting Your Gr...</td>\n",
       "      <td>Jen Sincero</td>\n",
       "      <td>4.7</td>\n",
       "      <td>14331</td>\n",
       "      <td>8</td>\n",
       "      <td>2016</td>\n",
       "      <td>Non Fiction</td>\n",
       "    </tr>\n",
       "    <tr>\n",
       "      <th>547</th>\n",
       "      <td>You Are a Badass: How to Stop Doubting Your Gr...</td>\n",
       "      <td>Jen Sincero</td>\n",
       "      <td>4.7</td>\n",
       "      <td>14331</td>\n",
       "      <td>8</td>\n",
       "      <td>2017</td>\n",
       "      <td>Non Fiction</td>\n",
       "    </tr>\n",
       "    <tr>\n",
       "      <th>548</th>\n",
       "      <td>You Are a Badass: How to Stop Doubting Your Gr...</td>\n",
       "      <td>Jen Sincero</td>\n",
       "      <td>4.7</td>\n",
       "      <td>14331</td>\n",
       "      <td>8</td>\n",
       "      <td>2018</td>\n",
       "      <td>Non Fiction</td>\n",
       "    </tr>\n",
       "    <tr>\n",
       "      <th>549</th>\n",
       "      <td>You Are a Badass: How to Stop Doubting Your Gr...</td>\n",
       "      <td>Jen Sincero</td>\n",
       "      <td>4.7</td>\n",
       "      <td>14331</td>\n",
       "      <td>8</td>\n",
       "      <td>2019</td>\n",
       "      <td>Non Fiction</td>\n",
       "    </tr>\n",
       "  </tbody>\n",
       "</table>\n",
       "<p>550 rows × 7 columns</p>\n",
       "</div>"
      ],
      "text/plain": [
       "                                                  Name  \\\n",
       "0                        10-Day Green Smoothie Cleanse   \n",
       "1                                    11/22/63: A Novel   \n",
       "2              12 Rules for Life: An Antidote to Chaos   \n",
       "3                               1984 (Signet Classics)   \n",
       "4    5,000 Awesome Facts (About Everything!) (Natio...   \n",
       "..                                                 ...   \n",
       "545       Wrecking Ball (Diary of a Wimpy Kid Book 14)   \n",
       "546  You Are a Badass: How to Stop Doubting Your Gr...   \n",
       "547  You Are a Badass: How to Stop Doubting Your Gr...   \n",
       "548  You Are a Badass: How to Stop Doubting Your Gr...   \n",
       "549  You Are a Badass: How to Stop Doubting Your Gr...   \n",
       "\n",
       "                       Author  User Rating  Reviews  Price  Year        Genre  \n",
       "0                    JJ Smith          4.7    17350      8  2016  Non Fiction  \n",
       "1                Stephen King          4.6     2052     22  2011      Fiction  \n",
       "2          Jordan B. Peterson          4.7    18979     15  2018  Non Fiction  \n",
       "3               George Orwell          4.7    21424      6  2017      Fiction  \n",
       "4    National Geographic Kids          4.8     7665     12  2019  Non Fiction  \n",
       "..                        ...          ...      ...    ...   ...          ...  \n",
       "545               Jeff Kinney          4.9     9413      8  2019      Fiction  \n",
       "546               Jen Sincero          4.7    14331      8  2016  Non Fiction  \n",
       "547               Jen Sincero          4.7    14331      8  2017  Non Fiction  \n",
       "548               Jen Sincero          4.7    14331      8  2018  Non Fiction  \n",
       "549               Jen Sincero          4.7    14331      8  2019  Non Fiction  \n",
       "\n",
       "[550 rows x 7 columns]"
      ]
     },
     "execution_count": 506,
     "metadata": {},
     "output_type": "execute_result"
    }
   ],
   "source": [
    "df"
   ]
  },
  {
   "cell_type": "code",
   "execution_count": 507,
   "id": "82b2334f",
   "metadata": {},
   "outputs": [],
   "source": [
    "#inspect the data types for each column  "
   ]
  },
  {
   "cell_type": "code",
   "execution_count": 508,
   "id": "6cc52f65",
   "metadata": {
    "scrolled": true
   },
   "outputs": [
    {
     "name": "stdout",
     "output_type": "stream",
     "text": [
      "<class 'pandas.core.frame.DataFrame'>\n",
      "RangeIndex: 550 entries, 0 to 549\n",
      "Data columns (total 7 columns):\n",
      " #   Column       Non-Null Count  Dtype  \n",
      "---  ------       --------------  -----  \n",
      " 0   Name         550 non-null    object \n",
      " 1   Author       550 non-null    object \n",
      " 2   User Rating  550 non-null    float64\n",
      " 3   Reviews      550 non-null    int64  \n",
      " 4   Price        550 non-null    int64  \n",
      " 5   Year         550 non-null    int64  \n",
      " 6   Genre        550 non-null    object \n",
      "dtypes: float64(1), int64(3), object(3)\n",
      "memory usage: 30.2+ KB\n"
     ]
    }
   ],
   "source": [
    "df.info()"
   ]
  },
  {
   "cell_type": "markdown",
   "id": "1b3113b6",
   "metadata": {},
   "source": [
    "Before we can use our data, its important to have column names of similar form, remove spaces in headers and check data for spaces and special characters that may hinder accessing the data or hinder analysis"
   ]
  },
  {
   "cell_type": "code",
   "execution_count": 509,
   "id": "de5c7c27",
   "metadata": {},
   "outputs": [],
   "source": [
    "#change all headers to lower case and replace spaces with '_'"
   ]
  },
  {
   "cell_type": "code",
   "execution_count": 510,
   "id": "281f72d3",
   "metadata": {},
   "outputs": [],
   "source": [
    "df.columns = df.columns.str.lower().str.replace(' ', '_')"
   ]
  },
  {
   "cell_type": "code",
   "execution_count": 511,
   "id": "584a036a",
   "metadata": {},
   "outputs": [
    {
     "data": {
      "text/plain": [
       "Index(['name', 'author', 'user_rating', 'reviews', 'price', 'year', 'genre'], dtype='object')"
      ]
     },
     "execution_count": 511,
     "metadata": {},
     "output_type": "execute_result"
    }
   ],
   "source": [
    "df.columns"
   ]
  },
  {
   "cell_type": "code",
   "execution_count": 512,
   "id": "a54f68f3",
   "metadata": {},
   "outputs": [],
   "source": [
    "#identify data of type object and change the entries to lower case, replace spaces with '_'"
   ]
  },
  {
   "cell_type": "code",
   "execution_count": 513,
   "id": "ab1dbef1",
   "metadata": {},
   "outputs": [
    {
     "data": {
      "text/plain": [
       "name            True\n",
       "author          True\n",
       "user_rating    False\n",
       "reviews        False\n",
       "price          False\n",
       "year           False\n",
       "genre           True\n",
       "dtype: bool"
      ]
     },
     "execution_count": 513,
     "metadata": {},
     "output_type": "execute_result"
    }
   ],
   "source": [
    "df.dtypes == 'object'"
   ]
  },
  {
   "cell_type": "code",
   "execution_count": 514,
   "id": "11e02304",
   "metadata": {
    "scrolled": true
   },
   "outputs": [
    {
     "data": {
      "text/html": [
       "<div>\n",
       "<style scoped>\n",
       "    .dataframe tbody tr th:only-of-type {\n",
       "        vertical-align: middle;\n",
       "    }\n",
       "\n",
       "    .dataframe tbody tr th {\n",
       "        vertical-align: top;\n",
       "    }\n",
       "\n",
       "    .dataframe thead th {\n",
       "        text-align: right;\n",
       "    }\n",
       "</style>\n",
       "<table border=\"1\" class=\"dataframe\">\n",
       "  <thead>\n",
       "    <tr style=\"text-align: right;\">\n",
       "      <th></th>\n",
       "      <th>name</th>\n",
       "      <th>author</th>\n",
       "      <th>user_rating</th>\n",
       "      <th>reviews</th>\n",
       "      <th>price</th>\n",
       "      <th>year</th>\n",
       "      <th>genre</th>\n",
       "    </tr>\n",
       "  </thead>\n",
       "  <tbody>\n",
       "    <tr>\n",
       "      <th>0</th>\n",
       "      <td>10-Day Green Smoothie Cleanse</td>\n",
       "      <td>JJ Smith</td>\n",
       "      <td>4.7</td>\n",
       "      <td>17350</td>\n",
       "      <td>8</td>\n",
       "      <td>2016</td>\n",
       "      <td>Non Fiction</td>\n",
       "    </tr>\n",
       "    <tr>\n",
       "      <th>1</th>\n",
       "      <td>11/22/63: A Novel</td>\n",
       "      <td>Stephen King</td>\n",
       "      <td>4.6</td>\n",
       "      <td>2052</td>\n",
       "      <td>22</td>\n",
       "      <td>2011</td>\n",
       "      <td>Fiction</td>\n",
       "    </tr>\n",
       "    <tr>\n",
       "      <th>2</th>\n",
       "      <td>12 Rules for Life: An Antidote to Chaos</td>\n",
       "      <td>Jordan B. Peterson</td>\n",
       "      <td>4.7</td>\n",
       "      <td>18979</td>\n",
       "      <td>15</td>\n",
       "      <td>2018</td>\n",
       "      <td>Non Fiction</td>\n",
       "    </tr>\n",
       "    <tr>\n",
       "      <th>3</th>\n",
       "      <td>1984 (Signet Classics)</td>\n",
       "      <td>George Orwell</td>\n",
       "      <td>4.7</td>\n",
       "      <td>21424</td>\n",
       "      <td>6</td>\n",
       "      <td>2017</td>\n",
       "      <td>Fiction</td>\n",
       "    </tr>\n",
       "    <tr>\n",
       "      <th>4</th>\n",
       "      <td>5,000 Awesome Facts (About Everything!) (Natio...</td>\n",
       "      <td>National Geographic Kids</td>\n",
       "      <td>4.8</td>\n",
       "      <td>7665</td>\n",
       "      <td>12</td>\n",
       "      <td>2019</td>\n",
       "      <td>Non Fiction</td>\n",
       "    </tr>\n",
       "    <tr>\n",
       "      <th>...</th>\n",
       "      <td>...</td>\n",
       "      <td>...</td>\n",
       "      <td>...</td>\n",
       "      <td>...</td>\n",
       "      <td>...</td>\n",
       "      <td>...</td>\n",
       "      <td>...</td>\n",
       "    </tr>\n",
       "    <tr>\n",
       "      <th>545</th>\n",
       "      <td>Wrecking Ball (Diary of a Wimpy Kid Book 14)</td>\n",
       "      <td>Jeff Kinney</td>\n",
       "      <td>4.9</td>\n",
       "      <td>9413</td>\n",
       "      <td>8</td>\n",
       "      <td>2019</td>\n",
       "      <td>Fiction</td>\n",
       "    </tr>\n",
       "    <tr>\n",
       "      <th>546</th>\n",
       "      <td>You Are a Badass: How to Stop Doubting Your Gr...</td>\n",
       "      <td>Jen Sincero</td>\n",
       "      <td>4.7</td>\n",
       "      <td>14331</td>\n",
       "      <td>8</td>\n",
       "      <td>2016</td>\n",
       "      <td>Non Fiction</td>\n",
       "    </tr>\n",
       "    <tr>\n",
       "      <th>547</th>\n",
       "      <td>You Are a Badass: How to Stop Doubting Your Gr...</td>\n",
       "      <td>Jen Sincero</td>\n",
       "      <td>4.7</td>\n",
       "      <td>14331</td>\n",
       "      <td>8</td>\n",
       "      <td>2017</td>\n",
       "      <td>Non Fiction</td>\n",
       "    </tr>\n",
       "    <tr>\n",
       "      <th>548</th>\n",
       "      <td>You Are a Badass: How to Stop Doubting Your Gr...</td>\n",
       "      <td>Jen Sincero</td>\n",
       "      <td>4.7</td>\n",
       "      <td>14331</td>\n",
       "      <td>8</td>\n",
       "      <td>2018</td>\n",
       "      <td>Non Fiction</td>\n",
       "    </tr>\n",
       "    <tr>\n",
       "      <th>549</th>\n",
       "      <td>You Are a Badass: How to Stop Doubting Your Gr...</td>\n",
       "      <td>Jen Sincero</td>\n",
       "      <td>4.7</td>\n",
       "      <td>14331</td>\n",
       "      <td>8</td>\n",
       "      <td>2019</td>\n",
       "      <td>Non Fiction</td>\n",
       "    </tr>\n",
       "  </tbody>\n",
       "</table>\n",
       "<p>550 rows × 7 columns</p>\n",
       "</div>"
      ],
      "text/plain": [
       "                                                  name  \\\n",
       "0                        10-Day Green Smoothie Cleanse   \n",
       "1                                    11/22/63: A Novel   \n",
       "2              12 Rules for Life: An Antidote to Chaos   \n",
       "3                               1984 (Signet Classics)   \n",
       "4    5,000 Awesome Facts (About Everything!) (Natio...   \n",
       "..                                                 ...   \n",
       "545       Wrecking Ball (Diary of a Wimpy Kid Book 14)   \n",
       "546  You Are a Badass: How to Stop Doubting Your Gr...   \n",
       "547  You Are a Badass: How to Stop Doubting Your Gr...   \n",
       "548  You Are a Badass: How to Stop Doubting Your Gr...   \n",
       "549  You Are a Badass: How to Stop Doubting Your Gr...   \n",
       "\n",
       "                       author  user_rating  reviews  price  year        genre  \n",
       "0                    JJ Smith          4.7    17350      8  2016  Non Fiction  \n",
       "1                Stephen King          4.6     2052     22  2011      Fiction  \n",
       "2          Jordan B. Peterson          4.7    18979     15  2018  Non Fiction  \n",
       "3               George Orwell          4.7    21424      6  2017      Fiction  \n",
       "4    National Geographic Kids          4.8     7665     12  2019  Non Fiction  \n",
       "..                        ...          ...      ...    ...   ...          ...  \n",
       "545               Jeff Kinney          4.9     9413      8  2019      Fiction  \n",
       "546               Jen Sincero          4.7    14331      8  2016  Non Fiction  \n",
       "547               Jen Sincero          4.7    14331      8  2017  Non Fiction  \n",
       "548               Jen Sincero          4.7    14331      8  2018  Non Fiction  \n",
       "549               Jen Sincero          4.7    14331      8  2019  Non Fiction  \n",
       "\n",
       "[550 rows x 7 columns]"
      ]
     },
     "execution_count": 514,
     "metadata": {},
     "output_type": "execute_result"
    }
   ],
   "source": [
    "df"
   ]
  },
  {
   "cell_type": "code",
   "execution_count": 515,
   "id": "6246fe30",
   "metadata": {},
   "outputs": [],
   "source": [
    "#Check the data for null entries"
   ]
  },
  {
   "cell_type": "code",
   "execution_count": 516,
   "id": "a1ab049e",
   "metadata": {},
   "outputs": [
    {
     "data": {
      "text/html": [
       "<div>\n",
       "<style scoped>\n",
       "    .dataframe tbody tr th:only-of-type {\n",
       "        vertical-align: middle;\n",
       "    }\n",
       "\n",
       "    .dataframe tbody tr th {\n",
       "        vertical-align: top;\n",
       "    }\n",
       "\n",
       "    .dataframe thead th {\n",
       "        text-align: right;\n",
       "    }\n",
       "</style>\n",
       "<table border=\"1\" class=\"dataframe\">\n",
       "  <thead>\n",
       "    <tr style=\"text-align: right;\">\n",
       "      <th></th>\n",
       "      <th>user_rating</th>\n",
       "      <th>reviews</th>\n",
       "      <th>price</th>\n",
       "      <th>year</th>\n",
       "    </tr>\n",
       "  </thead>\n",
       "  <tbody>\n",
       "    <tr>\n",
       "      <th>count</th>\n",
       "      <td>550.000000</td>\n",
       "      <td>550.000000</td>\n",
       "      <td>550.000000</td>\n",
       "      <td>550.000000</td>\n",
       "    </tr>\n",
       "    <tr>\n",
       "      <th>mean</th>\n",
       "      <td>4.618364</td>\n",
       "      <td>11953.281818</td>\n",
       "      <td>13.100000</td>\n",
       "      <td>2014.000000</td>\n",
       "    </tr>\n",
       "    <tr>\n",
       "      <th>std</th>\n",
       "      <td>0.226980</td>\n",
       "      <td>11731.132017</td>\n",
       "      <td>10.842262</td>\n",
       "      <td>3.165156</td>\n",
       "    </tr>\n",
       "    <tr>\n",
       "      <th>min</th>\n",
       "      <td>3.300000</td>\n",
       "      <td>37.000000</td>\n",
       "      <td>0.000000</td>\n",
       "      <td>2009.000000</td>\n",
       "    </tr>\n",
       "    <tr>\n",
       "      <th>25%</th>\n",
       "      <td>4.500000</td>\n",
       "      <td>4058.000000</td>\n",
       "      <td>7.000000</td>\n",
       "      <td>2011.000000</td>\n",
       "    </tr>\n",
       "    <tr>\n",
       "      <th>50%</th>\n",
       "      <td>4.700000</td>\n",
       "      <td>8580.000000</td>\n",
       "      <td>11.000000</td>\n",
       "      <td>2014.000000</td>\n",
       "    </tr>\n",
       "    <tr>\n",
       "      <th>75%</th>\n",
       "      <td>4.800000</td>\n",
       "      <td>17253.250000</td>\n",
       "      <td>16.000000</td>\n",
       "      <td>2017.000000</td>\n",
       "    </tr>\n",
       "    <tr>\n",
       "      <th>max</th>\n",
       "      <td>4.900000</td>\n",
       "      <td>87841.000000</td>\n",
       "      <td>105.000000</td>\n",
       "      <td>2019.000000</td>\n",
       "    </tr>\n",
       "  </tbody>\n",
       "</table>\n",
       "</div>"
      ],
      "text/plain": [
       "       user_rating       reviews       price         year\n",
       "count   550.000000    550.000000  550.000000   550.000000\n",
       "mean      4.618364  11953.281818   13.100000  2014.000000\n",
       "std       0.226980  11731.132017   10.842262     3.165156\n",
       "min       3.300000     37.000000    0.000000  2009.000000\n",
       "25%       4.500000   4058.000000    7.000000  2011.000000\n",
       "50%       4.700000   8580.000000   11.000000  2014.000000\n",
       "75%       4.800000  17253.250000   16.000000  2017.000000\n",
       "max       4.900000  87841.000000  105.000000  2019.000000"
      ]
     },
     "execution_count": 516,
     "metadata": {},
     "output_type": "execute_result"
    }
   ],
   "source": [
    "df.describe()"
   ]
  },
  {
   "cell_type": "code",
   "execution_count": 517,
   "id": "a2c30469",
   "metadata": {
    "scrolled": true
   },
   "outputs": [
    {
     "data": {
      "text/plain": [
       "name           0\n",
       "author         0\n",
       "user_rating    0\n",
       "reviews        0\n",
       "price          0\n",
       "year           0\n",
       "genre          0\n",
       "dtype: int64"
      ]
     },
     "execution_count": 517,
     "metadata": {},
     "output_type": "execute_result"
    }
   ],
   "source": [
    "df.isnull().sum()"
   ]
  },
  {
   "cell_type": "markdown",
   "id": "86b9c8f1",
   "metadata": {},
   "source": [
    "The data has 4 columns of numeric values and 3 columns of categorical type. \n",
    "Data has no missing values"
   ]
  },
  {
   "cell_type": "code",
   "execution_count": 518,
   "id": "57609243",
   "metadata": {},
   "outputs": [],
   "source": [
    "#install and use missingno library to visualize missing data"
   ]
  },
  {
   "cell_type": "code",
   "execution_count": 519,
   "id": "c5955c7c",
   "metadata": {},
   "outputs": [
    {
     "name": "stdout",
     "output_type": "stream",
     "text": [
      "Requirement already satisfied: missingno in /home/zach/anaconda3/envs/ml-zoomcamp/lib/python3.8/site-packages (0.5.0)\n",
      "Requirement already satisfied: matplotlib in /home/zach/anaconda3/envs/ml-zoomcamp/lib/python3.8/site-packages (from missingno) (3.4.2)\n",
      "Requirement already satisfied: scipy in /home/zach/anaconda3/envs/ml-zoomcamp/lib/python3.8/site-packages (from missingno) (1.7.1)\n",
      "Requirement already satisfied: numpy in /home/zach/anaconda3/envs/ml-zoomcamp/lib/python3.8/site-packages (from missingno) (1.19.5)\n",
      "Requirement already satisfied: seaborn in /home/zach/anaconda3/envs/ml-zoomcamp/lib/python3.8/site-packages (from missingno) (0.11.2)\n",
      "Requirement already satisfied: pyparsing>=2.2.1 in /home/zach/anaconda3/envs/ml-zoomcamp/lib/python3.8/site-packages (from matplotlib->missingno) (2.4.7)\n",
      "Requirement already satisfied: pillow>=6.2.0 in /home/zach/anaconda3/envs/ml-zoomcamp/lib/python3.8/site-packages (from matplotlib->missingno) (8.3.1)\n",
      "Requirement already satisfied: kiwisolver>=1.0.1 in /home/zach/anaconda3/envs/ml-zoomcamp/lib/python3.8/site-packages (from matplotlib->missingno) (1.3.1)\n",
      "Requirement already satisfied: python-dateutil>=2.7 in /home/zach/anaconda3/envs/ml-zoomcamp/lib/python3.8/site-packages (from matplotlib->missingno) (2.8.2)\n",
      "Requirement already satisfied: cycler>=0.10 in /home/zach/anaconda3/envs/ml-zoomcamp/lib/python3.8/site-packages (from matplotlib->missingno) (0.10.0)\n",
      "Requirement already satisfied: six in /home/zach/anaconda3/envs/ml-zoomcamp/lib/python3.8/site-packages (from cycler>=0.10->matplotlib->missingno) (1.15.0)\n",
      "Requirement already satisfied: pandas>=0.23 in /home/zach/anaconda3/envs/ml-zoomcamp/lib/python3.8/site-packages (from seaborn->missingno) (1.3.3)\n",
      "Requirement already satisfied: pytz>=2017.3 in /home/zach/anaconda3/envs/ml-zoomcamp/lib/python3.8/site-packages (from pandas>=0.23->seaborn->missingno) (2021.3)\n",
      "Note: you may need to restart the kernel to use updated packages.\n"
     ]
    }
   ],
   "source": [
    "pip install missingno"
   ]
  },
  {
   "cell_type": "code",
   "execution_count": 520,
   "id": "3933e7de",
   "metadata": {},
   "outputs": [],
   "source": [
    "import missingno"
   ]
  },
  {
   "cell_type": "code",
   "execution_count": 521,
   "id": "671300a6",
   "metadata": {},
   "outputs": [
    {
     "name": "stderr",
     "output_type": "stream",
     "text": [
      "/home/zach/anaconda3/envs/ml-zoomcamp/lib/python3.8/site-packages/seaborn/matrix.py:305: UserWarning: Attempting to set identical left == right == 0 results in singular transformations; automatically expanding.\n",
      "  ax.set(xlim=(0, self.data.shape[1]), ylim=(0, self.data.shape[0]))\n",
      "/home/zach/anaconda3/envs/ml-zoomcamp/lib/python3.8/site-packages/seaborn/matrix.py:305: UserWarning: Attempting to set identical bottom == top == 0 results in singular transformations; automatically expanding.\n",
      "  ax.set(xlim=(0, self.data.shape[1]), ylim=(0, self.data.shape[0]))\n"
     ]
    },
    {
     "data": {
      "text/plain": [
       "<AxesSubplot:>"
      ]
     },
     "execution_count": 521,
     "metadata": {},
     "output_type": "execute_result"
    },
    {
     "data": {
      "image/png": "[encoded data removed]",
      "text/plain": [
       "<Figure size 360x360 with 2 Axes>"
      ]
     },
     "metadata": {
      "needs_background": "light"
     },
     "output_type": "display_data"
    }
   ],
   "source": [
    "missingno.heatmap(df, figsize=(5,5), fontsize=12 )"
   ]
  },
  {
   "cell_type": "code",
   "execution_count": 522,
   "id": "64ea883f",
   "metadata": {},
   "outputs": [
    {
     "data": {
      "text/plain": [
       "<AxesSubplot:>"
      ]
     },
     "execution_count": 522,
     "metadata": {},
     "output_type": "execute_result"
    },
    {
     "data": {
      "image/png": "[encoded data removed]",
      "text/plain": [
       "<Figure size 360x360 with 3 Axes>"
      ]
     },
     "metadata": {
      "needs_background": "light"
     },
     "output_type": "display_data"
    }
   ],
   "source": [
    "missingno.bar(df, color='g', figsize=(5,5), fontsize=12 )"
   ]
  },
  {
   "cell_type": "markdown",
   "id": "568f57cf",
   "metadata": {},
   "source": [
    "Conclusion: There are no missing values in our dataframe"
   ]
  },
  {
   "cell_type": "code",
   "execution_count": 523,
   "id": "efab5385",
   "metadata": {},
   "outputs": [],
   "source": [
    "#Check for duplicates in categorical columns"
   ]
  },
  {
   "cell_type": "code",
   "execution_count": 524,
   "id": "2814dcb8",
   "metadata": {},
   "outputs": [],
   "source": [
    "data_type_cat_col = list(df.select_dtypes(exclude=('int64', 'float64')).columns)"
   ]
  },
  {
   "cell_type": "code",
   "execution_count": 525,
   "id": "70457b7f",
   "metadata": {},
   "outputs": [
    {
     "data": {
      "text/plain": [
       "['name', 'author', 'genre']"
      ]
     },
     "execution_count": 525,
     "metadata": {},
     "output_type": "execute_result"
    }
   ],
   "source": [
    "data_type_cat_col"
   ]
  },
  {
   "cell_type": "code",
   "execution_count": 526,
   "id": "bfaea807",
   "metadata": {},
   "outputs": [
    {
     "name": "stdout",
     "output_type": "stream",
     "text": [
      "Columns with categorical entries: name, author, genre.\n"
     ]
    }
   ],
   "source": [
    "print(f\"Columns with categorical entries: {', '.join(data_type_cat_col)}.\")"
   ]
  },
  {
   "cell_type": "code",
   "execution_count": 527,
   "id": "90368cc6",
   "metadata": {},
   "outputs": [],
   "source": [
    "#loop through data_type_cat_col to check for duplicates in each column"
   ]
  },
  {
   "cell_type": "code",
   "execution_count": 528,
   "id": "fc61c0a6",
   "metadata": {},
   "outputs": [
    {
     "name": "stdout",
     "output_type": "stream",
     "text": [
      "name column contains duplicates.\n",
      "author column contains duplicates.\n",
      "genre column contains duplicates.\n"
     ]
    }
   ],
   "source": [
    "for col in data_type_cat_col:\n",
    "    if df[col].duplicated().any() == True:\n",
    "        print(f'{col} column contains duplicates.')\n",
    "    else:\n",
    "        print(f'{col} column has no duplicates.')"
   ]
  },
  {
   "cell_type": "markdown",
   "id": "6a14d546",
   "metadata": {},
   "source": [
    "categorical columns have duplicates, check for words in different cases or extra spaces "
   ]
  },
  {
   "cell_type": "code",
   "execution_count": 529,
   "id": "26175bb5",
   "metadata": {},
   "outputs": [],
   "source": [
    "#loop through each categorical column for typos"
   ]
  },
  {
   "cell_type": "code",
   "execution_count": 530,
   "id": "09967b01",
   "metadata": {},
   "outputs": [
    {
     "name": "stdout",
     "output_type": "stream",
     "text": [
      "Current count of name entries: 351 <-----> Crosschecking name entries: 350\n",
      "Current count of author entries: 248 <-----> Crosschecking author entries: 248\n",
      "Current count of genre entries: 2 <-----> Crosschecking genre entries: 2\n"
     ]
    }
   ],
   "source": [
    "for col in data_type_cat_col:\n",
    "    print(f'Current count of {col} entries: {len(set(df[col]))} <-----> Crosschecking {col} entries: {len(set(df[col].str.title().str.strip()))}')"
   ]
  },
  {
   "cell_type": "markdown",
   "id": "2f9ad384",
   "metadata": {},
   "source": [
    "There are entries with typos in the name column"
   ]
  },
  {
   "cell_type": "code",
   "execution_count": 531,
   "id": "3a6f5f8b",
   "metadata": {},
   "outputs": [],
   "source": [
    "#correct the typing errors in the Name column"
   ]
  },
  {
   "cell_type": "code",
   "execution_count": 532,
   "id": "dd47aeb5",
   "metadata": {},
   "outputs": [],
   "source": [
    "df.name = df.name.str.title().str.strip()"
   ]
  },
  {
   "cell_type": "code",
   "execution_count": 533,
   "id": "dabf193e",
   "metadata": {},
   "outputs": [],
   "source": [
    "#Cross check if correction has been applied to the name column using previous code"
   ]
  },
  {
   "cell_type": "code",
   "execution_count": 534,
   "id": "087b128b",
   "metadata": {
    "scrolled": true
   },
   "outputs": [
    {
     "name": "stdout",
     "output_type": "stream",
     "text": [
      "Current count of name entries: 350 <-----> Crosschecking name entries: 350\n",
      "Current count of author entries: 248 <-----> Crosschecking author entries: 248\n",
      "Current count of genre entries: 2 <-----> Crosschecking genre entries: 2\n"
     ]
    }
   ],
   "source": [
    "for col in data_type_cat_col:\n",
    "    print(f'Current count of {col} entries: {len(set(df[col]))} <-----> Crosschecking {col} entries: {len(set(df[col].str.title().str.strip()))}')"
   ]
  },
  {
   "cell_type": "markdown",
   "id": "878cf797",
   "metadata": {},
   "source": [
    "All entries have been corrected"
   ]
  },
  {
   "cell_type": "code",
   "execution_count": 535,
   "id": "76aa1e9e",
   "metadata": {},
   "outputs": [],
   "source": [
    "#Check authors for spelling mistakes and repetitions"
   ]
  },
  {
   "cell_type": "code",
   "execution_count": 536,
   "id": "c2a5e63d",
   "metadata": {},
   "outputs": [],
   "source": [
    "#Install fuzzywuzzy library to string match names of repeated authors"
   ]
  },
  {
   "cell_type": "code",
   "execution_count": 537,
   "id": "c6c89617",
   "metadata": {},
   "outputs": [
    {
     "name": "stdout",
     "output_type": "stream",
     "text": [
      "Requirement already satisfied: fuzzywuzzy in /home/zach/anaconda3/envs/ml-zoomcamp/lib/python3.8/site-packages (0.18.0)\n",
      "Note: you may need to restart the kernel to use updated packages.\n"
     ]
    }
   ],
   "source": [
    "pip install fuzzywuzzy"
   ]
  },
  {
   "cell_type": "code",
   "execution_count": 538,
   "id": "5027b7b7",
   "metadata": {},
   "outputs": [],
   "source": [
    "from fuzzywuzzy import fuzz\n",
    "from fuzzywuzzy import process"
   ]
  },
  {
   "cell_type": "code",
   "execution_count": 539,
   "id": "b3a50fd0",
   "metadata": {
    "scrolled": true
   },
   "outputs": [
    {
     "data": {
      "text/plain": [
       "[('George R.R. Martin', 100, 118),\n",
       " ('George R.R. Martin', 100, 119),\n",
       " ('George R.R. Martin', 100, 120),\n",
       " ('George R. R. Martin', 97, 5),\n",
       " ('George R. R. Martin', 97, 6)]"
      ]
     },
     "execution_count": 539,
     "metadata": {},
     "output_type": "execute_result"
    }
   ],
   "source": [
    "process.extract('George R.R. Martin', df.author, limit=5)"
   ]
  },
  {
   "cell_type": "code",
   "execution_count": 540,
   "id": "189be276",
   "metadata": {},
   "outputs": [
    {
     "data": {
      "text/plain": [
       "[('J.K. Rowling', 100, 102),\n",
       " ('J.K. Rowling', 100, 153),\n",
       " ('J.K. Rowling', 100, 154),\n",
       " ('J.K. Rowling', 100, 156),\n",
       " ('J.K. Rowling', 100, 157),\n",
       " ('J.K. Rowling', 100, 353),\n",
       " ('J. K. Rowling', 96, 155),\n",
       " ('J. K. Rowling', 96, 159),\n",
       " ('Jim Collins', 52, 139),\n",
       " ('Jim Collins', 52, 140)]"
      ]
     },
     "execution_count": 540,
     "metadata": {},
     "output_type": "execute_result"
    }
   ],
   "source": [
    "process.extract('J.K. Rowling', df.author, limit=10)"
   ]
  },
  {
   "cell_type": "markdown",
   "id": "d49b7e92",
   "metadata": {},
   "source": [
    "Author names R.R. Martin and J.K. Rowling are repeated in the column author"
   ]
  },
  {
   "cell_type": "code",
   "execution_count": 541,
   "id": "22867b4c",
   "metadata": {},
   "outputs": [],
   "source": [
    "#Replace similar names with the correct name"
   ]
  },
  {
   "cell_type": "code",
   "execution_count": 542,
   "id": "ca3dfdc9",
   "metadata": {},
   "outputs": [],
   "source": [
    "df = df.replace('George R. R. Martin', 'George R.R. Martin')\n",
    "df = df.replace('J. K. Rowling', 'J.K. Rowling')"
   ]
  },
  {
   "cell_type": "code",
   "execution_count": 543,
   "id": "d905465f",
   "metadata": {},
   "outputs": [],
   "source": [
    "#Cross check entries for any repetitions"
   ]
  },
  {
   "cell_type": "code",
   "execution_count": 544,
   "id": "9be97a0a",
   "metadata": {},
   "outputs": [
    {
     "name": "stdout",
     "output_type": "stream",
     "text": [
      "Current count of name entries: 350 <-----> Crosschecking name entries: 350\n",
      "Current count of author entries: 246 <-----> Crosschecking author entries: 246\n",
      "Current count of genre entries: 2 <-----> Crosschecking genre entries: 2\n"
     ]
    }
   ],
   "source": [
    "for col in data_type_cat_col:\n",
    "    print(f'Current count of {col} entries: {len(set(df[col]))} <-----> Crosschecking {col} entries: {len(set(df[col].str.title().str.strip()))}')"
   ]
  },
  {
   "cell_type": "code",
   "execution_count": 545,
   "id": "2e348312",
   "metadata": {
    "scrolled": true
   },
   "outputs": [
    {
     "data": {
      "text/plain": [
       "array(['Abraham Verghese', 'Adam Gasiewski', 'Adam Mansbach', 'Adir Levy',\n",
       "       'Admiral William H. McRaven', 'Adult Coloring Book Designs',\n",
       "       'Alan Moore', 'Alex Michaelides', 'Alice Schertle', 'Allie Brosh',\n",
       "       'American Psychiatric Association',\n",
       "       'American Psychological Association', 'Amor Towles', 'Amy Ramos',\n",
       "       'Amy Shields', 'Andy Weir', 'Angie Grace', 'Angie Thomas',\n",
       "       'Ann Voskamp', 'Ann Whitford Paul', 'Anthony Bourdain',\n",
       "       'Anthony Doerr', 'Atul Gawande', 'Audrey Niffenegger',\n",
       "       'B. J. Novak', 'Bessel van der Kolk M.D.', 'Bill Martin Jr.',\n",
       "       \"Bill O'Reilly\", 'Bill Simmons', 'Blue Star Coloring',\n",
       "       'Bob Woodward', 'Brandon Stanton', 'Brené Brown',\n",
       "       'Brian Kilmeade', 'Bruce Springsteen', 'Carol S. Dweck',\n",
       "       'Celeste Ng', 'Charlaine Harris', 'Charles Duhigg',\n",
       "       'Charles Krauthammer', 'Cheryl Strayed', 'Chip Gaines',\n",
       "       'Chip Heath', 'Chris Cleave', 'Chris Kyle', 'Chrissy Teigen',\n",
       "       'Christina Baker Kline', 'Christopher Paolini',\n",
       "       'Coloring Books for Adults', 'Craig Smith', 'Crispin Boyer', 'DK',\n",
       "       'Dale Carnegie', 'Dan Brown', 'Daniel H. Pink',\n",
       "       'Daniel James Brown', 'Daniel Kahneman', 'Daniel Lipkowitz',\n",
       "       'Dav Pilkey', 'Dave Ramsey', 'David Goggins', 'David Grann',\n",
       "       'David McCullough', 'David Perlmutter MD', 'David Platt',\n",
       "       'David Zinczenko', 'Deborah Diesen',\n",
       "       'Delegates of the Constitutional\\x85', 'Delia Owens',\n",
       "       'Dinah Bucholz', 'Don Miguel Ruiz', 'Donna Tartt', 'Doug Lemov',\n",
       "       'Dr. Seuss', 'Dr. Steven R Gundry MD', 'Drew Daywalt', 'E L James',\n",
       "       'Eben Alexander', 'Edward Klein', 'Edward M. Kennedy',\n",
       "       'Elie Wiesel', 'Elizabeth Strout', 'Emily Winfield Martin',\n",
       "       'Eric Carle', 'Eric Larson', 'Ernest Cline', 'F. A. Hayek',\n",
       "       'F. Scott Fitzgerald', 'Francis Chan', 'Fredrik Backman', 'Gallup',\n",
       "       'Garth Stein', 'Gary Chapman', 'Gayle Forman', 'Geneen Roth',\n",
       "       'George Orwell', 'George R.R. Martin', 'George W. Bush',\n",
       "       'Giles Andreae', 'Gillian Flynn', 'Glenn Beck', 'Golden Books',\n",
       "       'Greg Mortenson', 'Harper Lee', 'Heidi Murkoff',\n",
       "       'Hillary Rodham Clinton', 'Hopscotch Girls', 'Howard Stern',\n",
       "       'Ian K. Smith M.D.', 'Ina Garten', 'J. D. Vance', 'J.K. Rowling',\n",
       "       'JJ Smith', 'James Comey', 'James Dashner', 'James Patterson',\n",
       "       'Jay Asher', 'Jaycee Dugard', 'Jeff Kinney', 'Jen Sincero',\n",
       "       'Jennifer Smith', 'Jill Twiss', 'Jim Collins', 'Joanna Gaines',\n",
       "       'Joel Fuhrman MD', 'Johanna Basford', 'John Green', 'John Grisham',\n",
       "       'John Heilemann', 'Jon Meacham', 'Jon Stewart', 'Jonathan Cahn',\n",
       "       'Jordan B. Peterson', 'Julia Child', 'Justin Halpern',\n",
       "       'Kathryn Stockett', 'Keith Richards', 'Ken Follett', 'Kevin Kwan',\n",
       "       'Khaled Hosseini', 'Kristin Hannah', 'Larry Schweikart',\n",
       "       'Laura Hillenbrand', 'Laurel Randolph', 'Lin-Manuel Miranda',\n",
       "       'Lysa TerKeurst', 'M Prefontaine', \"Madeleine L'Engle\",\n",
       "       'Malcolm Gladwell', 'Margaret Atwood', 'Margaret Wise Brown',\n",
       "       'Marie Kondō', 'Marjorie Sarnat', 'Mark Hyman M.D.', 'Mark Manson',\n",
       "       'Mark Owen', 'Mark R. Levin', 'Mark Twain', 'Markus Zusak',\n",
       "       'Marty Noble', 'Mary Ann Shaffer', 'Maurice Sendak',\n",
       "       'Melissa Hartwig Urban', 'Michael Lewis', 'Michael Pollan',\n",
       "       'Michael Wolff', 'Michelle Obama', 'Mike Moreno', 'Mitch Albom',\n",
       "       'Muriel Barbery', 'Naomi Kleinberg', 'Nathan W. Pyle',\n",
       "       'National Geographic Kids', 'Neil deGrasse Tyson',\n",
       "       'Paper Peony Press', 'Patrick Lencioni', 'Patrick Thorpe',\n",
       "       'Paul Kalanithi', 'Paula Hawkins', 'Paula McLain', 'Paulo Coelho',\n",
       "       'Pete Souza', 'Peter A. Lillback', 'Phil Robertson',\n",
       "       'Pierre Dukan', 'Pretty Simple Press', 'R. J. Palacio',\n",
       "       'RH Disney', 'Rachel Hollis', 'Raina Telgemeier', 'Randall Munroe',\n",
       "       'Randy Pausch', 'Ray Bradbury', 'Rebecca Skloot', 'Ree Drummond',\n",
       "       'Rick Riordan', 'Rob Bell', 'Rob Elliott', 'Robert Jordan',\n",
       "       'Robert Munsch', 'Rod Campbell', 'Roger Priddy', 'Ron Chernow',\n",
       "       'Rupi Kaur', 'Rush Limbaugh', 'Samin Nosrat', 'Sandra Boynton',\n",
       "       'Sara Gruen', 'Sarah Palin', 'Sarah Young', \"Sasha O'Hara\",\n",
       "       'Scholastic', 'School Zone', 'Sherri Duskey Rinker',\n",
       "       'Sheryl Sandberg', 'Silly Bear', 'Stephen Kendrick',\n",
       "       'Stephen King', 'Stephen R. Covey', 'Stephenie Meyer',\n",
       "       'Steve Harvey', 'Steven D. Levitt', 'Stieg Larsson', 'Susan Cain',\n",
       "       'Suzanne Collins', 'Ta-Nehisi Coates', 'Tara Westover',\n",
       "       'Tatiana de Rosnay', 'The College Board',\n",
       "       'The Staff of The Late Show with\\x85', 'The Washington Post',\n",
       "       'Thomas Campbell', 'Thomas Piketty', 'Thug Kitchen',\n",
       "       'Timothy Ferriss', 'Tina Fey', 'Todd Burpo', 'Tony Hsieh',\n",
       "       'Tucker Carlson', 'Veronica Roth', 'W. Cleon Skousen',\n",
       "       'Walter Isaacson', 'William Davis', 'William P. Young',\n",
       "       'Wizards RPG Team', 'Zhi Gang Sha'], dtype=object)"
      ]
     },
     "execution_count": 545,
     "metadata": {},
     "output_type": "execute_result"
    }
   ],
   "source": [
    "df.author.sort_values().unique()"
   ]
  },
  {
   "cell_type": "code",
   "execution_count": 546,
   "id": "793fd121",
   "metadata": {},
   "outputs": [],
   "source": [
    "#check the genre"
   ]
  },
  {
   "cell_type": "code",
   "execution_count": 547,
   "id": "fad30c2a",
   "metadata": {},
   "outputs": [
    {
     "data": {
      "text/plain": [
       "array(['Non Fiction', 'Fiction'], dtype=object)"
      ]
     },
     "execution_count": 547,
     "metadata": {},
     "output_type": "execute_result"
    }
   ],
   "source": [
    "df.genre.unique()"
   ]
  },
  {
   "cell_type": "code",
   "execution_count": 548,
   "id": "a34bbadd",
   "metadata": {},
   "outputs": [],
   "source": [
    "#check the years column"
   ]
  },
  {
   "cell_type": "code",
   "execution_count": 549,
   "id": "89bbdf33",
   "metadata": {},
   "outputs": [
    {
     "data": {
      "text/plain": [
       "array([2009, 2010, 2011, 2012, 2013, 2014, 2015, 2016, 2017, 2018, 2019])"
      ]
     },
     "execution_count": 549,
     "metadata": {},
     "output_type": "execute_result"
    }
   ],
   "source": [
    "df.year.sort_values().unique()"
   ]
  },
  {
   "cell_type": "code",
   "execution_count": 550,
   "id": "119c30c5",
   "metadata": {},
   "outputs": [],
   "source": [
    "#finally check entire dataframe"
   ]
  },
  {
   "cell_type": "code",
   "execution_count": 551,
   "id": "647114db",
   "metadata": {},
   "outputs": [
    {
     "data": {
      "text/html": [
       "<div>\n",
       "<style scoped>\n",
       "    .dataframe tbody tr th:only-of-type {\n",
       "        vertical-align: middle;\n",
       "    }\n",
       "\n",
       "    .dataframe tbody tr th {\n",
       "        vertical-align: top;\n",
       "    }\n",
       "\n",
       "    .dataframe thead th {\n",
       "        text-align: right;\n",
       "    }\n",
       "</style>\n",
       "<table border=\"1\" class=\"dataframe\">\n",
       "  <thead>\n",
       "    <tr style=\"text-align: right;\">\n",
       "      <th></th>\n",
       "      <th>name</th>\n",
       "      <th>author</th>\n",
       "      <th>user_rating</th>\n",
       "      <th>reviews</th>\n",
       "      <th>price</th>\n",
       "      <th>year</th>\n",
       "      <th>genre</th>\n",
       "    </tr>\n",
       "  </thead>\n",
       "  <tbody>\n",
       "    <tr>\n",
       "      <th>0</th>\n",
       "      <td>10-Day Green Smoothie Cleanse</td>\n",
       "      <td>JJ Smith</td>\n",
       "      <td>4.7</td>\n",
       "      <td>17350</td>\n",
       "      <td>8</td>\n",
       "      <td>2016</td>\n",
       "      <td>Non Fiction</td>\n",
       "    </tr>\n",
       "    <tr>\n",
       "      <th>1</th>\n",
       "      <td>11/22/63: A Novel</td>\n",
       "      <td>Stephen King</td>\n",
       "      <td>4.6</td>\n",
       "      <td>2052</td>\n",
       "      <td>22</td>\n",
       "      <td>2011</td>\n",
       "      <td>Fiction</td>\n",
       "    </tr>\n",
       "    <tr>\n",
       "      <th>2</th>\n",
       "      <td>12 Rules For Life: An Antidote To Chaos</td>\n",
       "      <td>Jordan B. Peterson</td>\n",
       "      <td>4.7</td>\n",
       "      <td>18979</td>\n",
       "      <td>15</td>\n",
       "      <td>2018</td>\n",
       "      <td>Non Fiction</td>\n",
       "    </tr>\n",
       "    <tr>\n",
       "      <th>3</th>\n",
       "      <td>1984 (Signet Classics)</td>\n",
       "      <td>George Orwell</td>\n",
       "      <td>4.7</td>\n",
       "      <td>21424</td>\n",
       "      <td>6</td>\n",
       "      <td>2017</td>\n",
       "      <td>Fiction</td>\n",
       "    </tr>\n",
       "    <tr>\n",
       "      <th>4</th>\n",
       "      <td>5,000 Awesome Facts (About Everything!) (Natio...</td>\n",
       "      <td>National Geographic Kids</td>\n",
       "      <td>4.8</td>\n",
       "      <td>7665</td>\n",
       "      <td>12</td>\n",
       "      <td>2019</td>\n",
       "      <td>Non Fiction</td>\n",
       "    </tr>\n",
       "    <tr>\n",
       "      <th>...</th>\n",
       "      <td>...</td>\n",
       "      <td>...</td>\n",
       "      <td>...</td>\n",
       "      <td>...</td>\n",
       "      <td>...</td>\n",
       "      <td>...</td>\n",
       "      <td>...</td>\n",
       "    </tr>\n",
       "    <tr>\n",
       "      <th>545</th>\n",
       "      <td>Wrecking Ball (Diary Of A Wimpy Kid Book 14)</td>\n",
       "      <td>Jeff Kinney</td>\n",
       "      <td>4.9</td>\n",
       "      <td>9413</td>\n",
       "      <td>8</td>\n",
       "      <td>2019</td>\n",
       "      <td>Fiction</td>\n",
       "    </tr>\n",
       "    <tr>\n",
       "      <th>546</th>\n",
       "      <td>You Are A Badass: How To Stop Doubting Your Gr...</td>\n",
       "      <td>Jen Sincero</td>\n",
       "      <td>4.7</td>\n",
       "      <td>14331</td>\n",
       "      <td>8</td>\n",
       "      <td>2016</td>\n",
       "      <td>Non Fiction</td>\n",
       "    </tr>\n",
       "    <tr>\n",
       "      <th>547</th>\n",
       "      <td>You Are A Badass: How To Stop Doubting Your Gr...</td>\n",
       "      <td>Jen Sincero</td>\n",
       "      <td>4.7</td>\n",
       "      <td>14331</td>\n",
       "      <td>8</td>\n",
       "      <td>2017</td>\n",
       "      <td>Non Fiction</td>\n",
       "    </tr>\n",
       "    <tr>\n",
       "      <th>548</th>\n",
       "      <td>You Are A Badass: How To Stop Doubting Your Gr...</td>\n",
       "      <td>Jen Sincero</td>\n",
       "      <td>4.7</td>\n",
       "      <td>14331</td>\n",
       "      <td>8</td>\n",
       "      <td>2018</td>\n",
       "      <td>Non Fiction</td>\n",
       "    </tr>\n",
       "    <tr>\n",
       "      <th>549</th>\n",
       "      <td>You Are A Badass: How To Stop Doubting Your Gr...</td>\n",
       "      <td>Jen Sincero</td>\n",
       "      <td>4.7</td>\n",
       "      <td>14331</td>\n",
       "      <td>8</td>\n",
       "      <td>2019</td>\n",
       "      <td>Non Fiction</td>\n",
       "    </tr>\n",
       "  </tbody>\n",
       "</table>\n",
       "<p>550 rows × 7 columns</p>\n",
       "</div>"
      ],
      "text/plain": [
       "                                                  name  \\\n",
       "0                        10-Day Green Smoothie Cleanse   \n",
       "1                                    11/22/63: A Novel   \n",
       "2              12 Rules For Life: An Antidote To Chaos   \n",
       "3                               1984 (Signet Classics)   \n",
       "4    5,000 Awesome Facts (About Everything!) (Natio...   \n",
       "..                                                 ...   \n",
       "545       Wrecking Ball (Diary Of A Wimpy Kid Book 14)   \n",
       "546  You Are A Badass: How To Stop Doubting Your Gr...   \n",
       "547  You Are A Badass: How To Stop Doubting Your Gr...   \n",
       "548  You Are A Badass: How To Stop Doubting Your Gr...   \n",
       "549  You Are A Badass: How To Stop Doubting Your Gr...   \n",
       "\n",
       "                       author  user_rating  reviews  price  year        genre  \n",
       "0                    JJ Smith          4.7    17350      8  2016  Non Fiction  \n",
       "1                Stephen King          4.6     2052     22  2011      Fiction  \n",
       "2          Jordan B. Peterson          4.7    18979     15  2018  Non Fiction  \n",
       "3               George Orwell          4.7    21424      6  2017      Fiction  \n",
       "4    National Geographic Kids          4.8     7665     12  2019  Non Fiction  \n",
       "..                        ...          ...      ...    ...   ...          ...  \n",
       "545               Jeff Kinney          4.9     9413      8  2019      Fiction  \n",
       "546               Jen Sincero          4.7    14331      8  2016  Non Fiction  \n",
       "547               Jen Sincero          4.7    14331      8  2017  Non Fiction  \n",
       "548               Jen Sincero          4.7    14331      8  2018  Non Fiction  \n",
       "549               Jen Sincero          4.7    14331      8  2019  Non Fiction  \n",
       "\n",
       "[550 rows x 7 columns]"
      ]
     },
     "execution_count": 551,
     "metadata": {},
     "output_type": "execute_result"
    }
   ],
   "source": [
    "df"
   ]
  },
  {
   "cell_type": "markdown",
   "id": "11540528",
   "metadata": {},
   "source": [
    "Some rows are repeated"
   ]
  },
  {
   "cell_type": "code",
   "execution_count": 552,
   "id": "9f897ddf",
   "metadata": {},
   "outputs": [],
   "source": [
    "#delete year column "
   ]
  },
  {
   "cell_type": "code",
   "execution_count": 553,
   "id": "aa91faf9",
   "metadata": {},
   "outputs": [],
   "source": [
    "del df['year']"
   ]
  },
  {
   "cell_type": "code",
   "execution_count": 554,
   "id": "4c21d8c9",
   "metadata": {},
   "outputs": [
    {
     "data": {
      "text/html": [
       "<div>\n",
       "<style scoped>\n",
       "    .dataframe tbody tr th:only-of-type {\n",
       "        vertical-align: middle;\n",
       "    }\n",
       "\n",
       "    .dataframe tbody tr th {\n",
       "        vertical-align: top;\n",
       "    }\n",
       "\n",
       "    .dataframe thead th {\n",
       "        text-align: right;\n",
       "    }\n",
       "</style>\n",
       "<table border=\"1\" class=\"dataframe\">\n",
       "  <thead>\n",
       "    <tr style=\"text-align: right;\">\n",
       "      <th></th>\n",
       "      <th>name</th>\n",
       "      <th>author</th>\n",
       "      <th>user_rating</th>\n",
       "      <th>reviews</th>\n",
       "      <th>price</th>\n",
       "      <th>genre</th>\n",
       "    </tr>\n",
       "  </thead>\n",
       "  <tbody>\n",
       "    <tr>\n",
       "      <th>0</th>\n",
       "      <td>10-Day Green Smoothie Cleanse</td>\n",
       "      <td>JJ Smith</td>\n",
       "      <td>4.7</td>\n",
       "      <td>17350</td>\n",
       "      <td>8</td>\n",
       "      <td>Non Fiction</td>\n",
       "    </tr>\n",
       "    <tr>\n",
       "      <th>1</th>\n",
       "      <td>11/22/63: A Novel</td>\n",
       "      <td>Stephen King</td>\n",
       "      <td>4.6</td>\n",
       "      <td>2052</td>\n",
       "      <td>22</td>\n",
       "      <td>Fiction</td>\n",
       "    </tr>\n",
       "    <tr>\n",
       "      <th>2</th>\n",
       "      <td>12 Rules For Life: An Antidote To Chaos</td>\n",
       "      <td>Jordan B. Peterson</td>\n",
       "      <td>4.7</td>\n",
       "      <td>18979</td>\n",
       "      <td>15</td>\n",
       "      <td>Non Fiction</td>\n",
       "    </tr>\n",
       "    <tr>\n",
       "      <th>3</th>\n",
       "      <td>1984 (Signet Classics)</td>\n",
       "      <td>George Orwell</td>\n",
       "      <td>4.7</td>\n",
       "      <td>21424</td>\n",
       "      <td>6</td>\n",
       "      <td>Fiction</td>\n",
       "    </tr>\n",
       "    <tr>\n",
       "      <th>4</th>\n",
       "      <td>5,000 Awesome Facts (About Everything!) (Natio...</td>\n",
       "      <td>National Geographic Kids</td>\n",
       "      <td>4.8</td>\n",
       "      <td>7665</td>\n",
       "      <td>12</td>\n",
       "      <td>Non Fiction</td>\n",
       "    </tr>\n",
       "    <tr>\n",
       "      <th>...</th>\n",
       "      <td>...</td>\n",
       "      <td>...</td>\n",
       "      <td>...</td>\n",
       "      <td>...</td>\n",
       "      <td>...</td>\n",
       "      <td>...</td>\n",
       "    </tr>\n",
       "    <tr>\n",
       "      <th>545</th>\n",
       "      <td>Wrecking Ball (Diary Of A Wimpy Kid Book 14)</td>\n",
       "      <td>Jeff Kinney</td>\n",
       "      <td>4.9</td>\n",
       "      <td>9413</td>\n",
       "      <td>8</td>\n",
       "      <td>Fiction</td>\n",
       "    </tr>\n",
       "    <tr>\n",
       "      <th>546</th>\n",
       "      <td>You Are A Badass: How To Stop Doubting Your Gr...</td>\n",
       "      <td>Jen Sincero</td>\n",
       "      <td>4.7</td>\n",
       "      <td>14331</td>\n",
       "      <td>8</td>\n",
       "      <td>Non Fiction</td>\n",
       "    </tr>\n",
       "    <tr>\n",
       "      <th>547</th>\n",
       "      <td>You Are A Badass: How To Stop Doubting Your Gr...</td>\n",
       "      <td>Jen Sincero</td>\n",
       "      <td>4.7</td>\n",
       "      <td>14331</td>\n",
       "      <td>8</td>\n",
       "      <td>Non Fiction</td>\n",
       "    </tr>\n",
       "    <tr>\n",
       "      <th>548</th>\n",
       "      <td>You Are A Badass: How To Stop Doubting Your Gr...</td>\n",
       "      <td>Jen Sincero</td>\n",
       "      <td>4.7</td>\n",
       "      <td>14331</td>\n",
       "      <td>8</td>\n",
       "      <td>Non Fiction</td>\n",
       "    </tr>\n",
       "    <tr>\n",
       "      <th>549</th>\n",
       "      <td>You Are A Badass: How To Stop Doubting Your Gr...</td>\n",
       "      <td>Jen Sincero</td>\n",
       "      <td>4.7</td>\n",
       "      <td>14331</td>\n",
       "      <td>8</td>\n",
       "      <td>Non Fiction</td>\n",
       "    </tr>\n",
       "  </tbody>\n",
       "</table>\n",
       "<p>550 rows × 6 columns</p>\n",
       "</div>"
      ],
      "text/plain": [
       "                                                  name  \\\n",
       "0                        10-Day Green Smoothie Cleanse   \n",
       "1                                    11/22/63: A Novel   \n",
       "2              12 Rules For Life: An Antidote To Chaos   \n",
       "3                               1984 (Signet Classics)   \n",
       "4    5,000 Awesome Facts (About Everything!) (Natio...   \n",
       "..                                                 ...   \n",
       "545       Wrecking Ball (Diary Of A Wimpy Kid Book 14)   \n",
       "546  You Are A Badass: How To Stop Doubting Your Gr...   \n",
       "547  You Are A Badass: How To Stop Doubting Your Gr...   \n",
       "548  You Are A Badass: How To Stop Doubting Your Gr...   \n",
       "549  You Are A Badass: How To Stop Doubting Your Gr...   \n",
       "\n",
       "                       author  user_rating  reviews  price        genre  \n",
       "0                    JJ Smith          4.7    17350      8  Non Fiction  \n",
       "1                Stephen King          4.6     2052     22      Fiction  \n",
       "2          Jordan B. Peterson          4.7    18979     15  Non Fiction  \n",
       "3               George Orwell          4.7    21424      6      Fiction  \n",
       "4    National Geographic Kids          4.8     7665     12  Non Fiction  \n",
       "..                        ...          ...      ...    ...          ...  \n",
       "545               Jeff Kinney          4.9     9413      8      Fiction  \n",
       "546               Jen Sincero          4.7    14331      8  Non Fiction  \n",
       "547               Jen Sincero          4.7    14331      8  Non Fiction  \n",
       "548               Jen Sincero          4.7    14331      8  Non Fiction  \n",
       "549               Jen Sincero          4.7    14331      8  Non Fiction  \n",
       "\n",
       "[550 rows x 6 columns]"
      ]
     },
     "execution_count": 554,
     "metadata": {},
     "output_type": "execute_result"
    }
   ],
   "source": [
    "df"
   ]
  },
  {
   "cell_type": "code",
   "execution_count": 555,
   "id": "03df6e11",
   "metadata": {},
   "outputs": [],
   "source": [
    "df = df.drop_duplicates(keep = 'first')"
   ]
  },
  {
   "cell_type": "code",
   "execution_count": 556,
   "id": "957ea032",
   "metadata": {},
   "outputs": [
    {
     "data": {
      "text/html": [
       "<div>\n",
       "<style scoped>\n",
       "    .dataframe tbody tr th:only-of-type {\n",
       "        vertical-align: middle;\n",
       "    }\n",
       "\n",
       "    .dataframe tbody tr th {\n",
       "        vertical-align: top;\n",
       "    }\n",
       "\n",
       "    .dataframe thead th {\n",
       "        text-align: right;\n",
       "    }\n",
       "</style>\n",
       "<table border=\"1\" class=\"dataframe\">\n",
       "  <thead>\n",
       "    <tr style=\"text-align: right;\">\n",
       "      <th></th>\n",
       "      <th>name</th>\n",
       "      <th>author</th>\n",
       "      <th>user_rating</th>\n",
       "      <th>reviews</th>\n",
       "      <th>price</th>\n",
       "      <th>genre</th>\n",
       "    </tr>\n",
       "  </thead>\n",
       "  <tbody>\n",
       "    <tr>\n",
       "      <th>0</th>\n",
       "      <td>10-Day Green Smoothie Cleanse</td>\n",
       "      <td>JJ Smith</td>\n",
       "      <td>4.7</td>\n",
       "      <td>17350</td>\n",
       "      <td>8</td>\n",
       "      <td>Non Fiction</td>\n",
       "    </tr>\n",
       "    <tr>\n",
       "      <th>1</th>\n",
       "      <td>11/22/63: A Novel</td>\n",
       "      <td>Stephen King</td>\n",
       "      <td>4.6</td>\n",
       "      <td>2052</td>\n",
       "      <td>22</td>\n",
       "      <td>Fiction</td>\n",
       "    </tr>\n",
       "    <tr>\n",
       "      <th>2</th>\n",
       "      <td>12 Rules For Life: An Antidote To Chaos</td>\n",
       "      <td>Jordan B. Peterson</td>\n",
       "      <td>4.7</td>\n",
       "      <td>18979</td>\n",
       "      <td>15</td>\n",
       "      <td>Non Fiction</td>\n",
       "    </tr>\n",
       "    <tr>\n",
       "      <th>3</th>\n",
       "      <td>1984 (Signet Classics)</td>\n",
       "      <td>George Orwell</td>\n",
       "      <td>4.7</td>\n",
       "      <td>21424</td>\n",
       "      <td>6</td>\n",
       "      <td>Fiction</td>\n",
       "    </tr>\n",
       "    <tr>\n",
       "      <th>4</th>\n",
       "      <td>5,000 Awesome Facts (About Everything!) (Natio...</td>\n",
       "      <td>National Geographic Kids</td>\n",
       "      <td>4.8</td>\n",
       "      <td>7665</td>\n",
       "      <td>12</td>\n",
       "      <td>Non Fiction</td>\n",
       "    </tr>\n",
       "    <tr>\n",
       "      <th>...</th>\n",
       "      <td>...</td>\n",
       "      <td>...</td>\n",
       "      <td>...</td>\n",
       "      <td>...</td>\n",
       "      <td>...</td>\n",
       "      <td>...</td>\n",
       "    </tr>\n",
       "    <tr>\n",
       "      <th>538</th>\n",
       "      <td>Winter Of The World: Book Two Of The Century T...</td>\n",
       "      <td>Ken Follett</td>\n",
       "      <td>4.5</td>\n",
       "      <td>10760</td>\n",
       "      <td>15</td>\n",
       "      <td>Fiction</td>\n",
       "    </tr>\n",
       "    <tr>\n",
       "      <th>539</th>\n",
       "      <td>Women Food And God: An Unexpected Path To Almo...</td>\n",
       "      <td>Geneen Roth</td>\n",
       "      <td>4.2</td>\n",
       "      <td>1302</td>\n",
       "      <td>11</td>\n",
       "      <td>Non Fiction</td>\n",
       "    </tr>\n",
       "    <tr>\n",
       "      <th>540</th>\n",
       "      <td>Wonder</td>\n",
       "      <td>R. J. Palacio</td>\n",
       "      <td>4.8</td>\n",
       "      <td>21625</td>\n",
       "      <td>9</td>\n",
       "      <td>Fiction</td>\n",
       "    </tr>\n",
       "    <tr>\n",
       "      <th>545</th>\n",
       "      <td>Wrecking Ball (Diary Of A Wimpy Kid Book 14)</td>\n",
       "      <td>Jeff Kinney</td>\n",
       "      <td>4.9</td>\n",
       "      <td>9413</td>\n",
       "      <td>8</td>\n",
       "      <td>Fiction</td>\n",
       "    </tr>\n",
       "    <tr>\n",
       "      <th>546</th>\n",
       "      <td>You Are A Badass: How To Stop Doubting Your Gr...</td>\n",
       "      <td>Jen Sincero</td>\n",
       "      <td>4.7</td>\n",
       "      <td>14331</td>\n",
       "      <td>8</td>\n",
       "      <td>Non Fiction</td>\n",
       "    </tr>\n",
       "  </tbody>\n",
       "</table>\n",
       "<p>361 rows × 6 columns</p>\n",
       "</div>"
      ],
      "text/plain": [
       "                                                  name  \\\n",
       "0                        10-Day Green Smoothie Cleanse   \n",
       "1                                    11/22/63: A Novel   \n",
       "2              12 Rules For Life: An Antidote To Chaos   \n",
       "3                               1984 (Signet Classics)   \n",
       "4    5,000 Awesome Facts (About Everything!) (Natio...   \n",
       "..                                                 ...   \n",
       "538  Winter Of The World: Book Two Of The Century T...   \n",
       "539  Women Food And God: An Unexpected Path To Almo...   \n",
       "540                                             Wonder   \n",
       "545       Wrecking Ball (Diary Of A Wimpy Kid Book 14)   \n",
       "546  You Are A Badass: How To Stop Doubting Your Gr...   \n",
       "\n",
       "                       author  user_rating  reviews  price        genre  \n",
       "0                    JJ Smith          4.7    17350      8  Non Fiction  \n",
       "1                Stephen King          4.6     2052     22      Fiction  \n",
       "2          Jordan B. Peterson          4.7    18979     15  Non Fiction  \n",
       "3               George Orwell          4.7    21424      6      Fiction  \n",
       "4    National Geographic Kids          4.8     7665     12  Non Fiction  \n",
       "..                        ...          ...      ...    ...          ...  \n",
       "538               Ken Follett          4.5    10760     15      Fiction  \n",
       "539               Geneen Roth          4.2     1302     11  Non Fiction  \n",
       "540             R. J. Palacio          4.8    21625      9      Fiction  \n",
       "545               Jeff Kinney          4.9     9413      8      Fiction  \n",
       "546               Jen Sincero          4.7    14331      8  Non Fiction  \n",
       "\n",
       "[361 rows x 6 columns]"
      ]
     },
     "execution_count": 556,
     "metadata": {},
     "output_type": "execute_result"
    }
   ],
   "source": [
    "df"
   ]
  },
  {
   "cell_type": "code",
   "execution_count": 557,
   "id": "10ab5085",
   "metadata": {},
   "outputs": [
    {
     "data": {
      "text/plain": [
       "[('Wonder', 100, 540),\n",
       " ('The Wonderful Things You Will Be', 90, 486),\n",
       " ('Alexander Hamilton', 60, 19),\n",
       " (\"Balance (Angie'S Extreme Stress Menders)\", 60, 29),\n",
       " ('Liberty And Tyranny: A Conservative Manifesto', 60, 216),\n",
       " ('Strengthsfinder 2.0', 60, 304),\n",
       " ('The Pioneer Woman Cooks: Food From My Frontier', 60, 448),\n",
       " ('The Sun And Her Flowers', 60, 467),\n",
       " ('Under The Dome: A Novel', 60, 520),\n",
       " ('The Blood Of Olympus (The Heroes Of Olympus (5))', 57, 343)]"
      ]
     },
     "execution_count": 557,
     "metadata": {},
     "output_type": "execute_result"
    }
   ],
   "source": [
    "process.extract('Wonder', df.name, limit=10)"
   ]
  },
  {
   "cell_type": "code",
   "execution_count": 558,
   "id": "06b4157e",
   "metadata": {},
   "outputs": [
    {
     "data": {
      "text/plain": [
       "[('The Girl On The Train', 95, 382),\n",
       " ('The Girl On The Train', 95, 383),\n",
       " (\"A Patriot'S History Of The United States: From Columbus'S Great Discovery To The War On Terror\",\n",
       "  86,\n",
       "  11),\n",
       " ('All The Light We Cannot See', 86, 20),\n",
       " ('American Sniper: The Autobiography Of The Most Lethal Sniper In U.S. Military History',\n",
       "  86,\n",
       "  23),\n",
       " ('And The Mountains Echoed', 86, 24),\n",
       " ('Being Mortal: Medicine And What Matters In The End', 86, 34),\n",
       " ('Between The World And Me', 86, 35),\n",
       " ('Breaking Dawn (The Twilight Saga, Book 4)', 86, 38),\n",
       " ('Broke: The Plan To Restore Our Trust, Truth And Treasure', 86, 39)]"
      ]
     },
     "execution_count": 558,
     "metadata": {},
     "output_type": "execute_result"
    }
   ],
   "source": [
    "process.extract('The Girl On The', df.name, limit=10)"
   ]
  },
  {
   "cell_type": "markdown",
   "id": "4a89b417",
   "metadata": {},
   "source": [
    "Some of the books are repeated, this could be due to the same book being sold at at different price"
   ]
  },
  {
   "cell_type": "code",
   "execution_count": 559,
   "id": "51c89e01",
   "metadata": {},
   "outputs": [],
   "source": [
    "#Count repeated books in our data"
   ]
  },
  {
   "cell_type": "code",
   "execution_count": 560,
   "id": "6552079a",
   "metadata": {},
   "outputs": [],
   "source": [
    "from collections import Counter"
   ]
  },
  {
   "cell_type": "code",
   "execution_count": 561,
   "id": "fa52b5a9",
   "metadata": {},
   "outputs": [],
   "source": [
    "repeat_books = Counter(df.name.tolist())"
   ]
  },
  {
   "cell_type": "code",
   "execution_count": 562,
   "id": "9e086994",
   "metadata": {},
   "outputs": [
    {
     "data": {
      "text/plain": [
       "[('The Help', 3),\n",
       " ('Gone Girl', 2),\n",
       " (\"Quiet: The Power Of Introverts In A World That Can'T Stop Talking\", 2),\n",
       " ('The 5 Love Languages: The Secret To Love That Lasts', 2),\n",
       " ('The 7 Habits Of Highly Effective People: Powerful Lessons In Personal Change',\n",
       "  2),\n",
       " ('The Fault In Our Stars', 2),\n",
       " ('The Girl On The Train', 2),\n",
       " ('The Immortal Life Of Henrietta Lacks', 2),\n",
       " ('To Kill A Mockingbird', 2),\n",
       " ('Unbroken: A World War Ii Story Of Survival, Resilience, And Redemption', 2)]"
      ]
     },
     "execution_count": 562,
     "metadata": {},
     "output_type": "execute_result"
    }
   ],
   "source": [
    "repeat_books.most_common(10)"
   ]
  },
  {
   "cell_type": "code",
   "execution_count": 563,
   "id": "7f5fe6c2",
   "metadata": {},
   "outputs": [],
   "source": [
    "#Remove duplicates, keep last entry of duplicates"
   ]
  },
  {
   "cell_type": "code",
   "execution_count": 564,
   "id": "c91a2d99",
   "metadata": {},
   "outputs": [
    {
     "data": {
      "text/html": [
       "<div>\n",
       "<style scoped>\n",
       "    .dataframe tbody tr th:only-of-type {\n",
       "        vertical-align: middle;\n",
       "    }\n",
       "\n",
       "    .dataframe tbody tr th {\n",
       "        vertical-align: top;\n",
       "    }\n",
       "\n",
       "    .dataframe thead th {\n",
       "        text-align: right;\n",
       "    }\n",
       "</style>\n",
       "<table border=\"1\" class=\"dataframe\">\n",
       "  <thead>\n",
       "    <tr style=\"text-align: right;\">\n",
       "      <th></th>\n",
       "      <th>name</th>\n",
       "      <th>author</th>\n",
       "      <th>user_rating</th>\n",
       "      <th>reviews</th>\n",
       "      <th>price</th>\n",
       "      <th>genre</th>\n",
       "    </tr>\n",
       "  </thead>\n",
       "  <tbody>\n",
       "    <tr>\n",
       "      <th>0</th>\n",
       "      <td>10-Day Green Smoothie Cleanse</td>\n",
       "      <td>JJ Smith</td>\n",
       "      <td>4.7</td>\n",
       "      <td>17350</td>\n",
       "      <td>8</td>\n",
       "      <td>Non Fiction</td>\n",
       "    </tr>\n",
       "    <tr>\n",
       "      <th>1</th>\n",
       "      <td>11/22/63: A Novel</td>\n",
       "      <td>Stephen King</td>\n",
       "      <td>4.6</td>\n",
       "      <td>2052</td>\n",
       "      <td>22</td>\n",
       "      <td>Fiction</td>\n",
       "    </tr>\n",
       "    <tr>\n",
       "      <th>2</th>\n",
       "      <td>12 Rules For Life: An Antidote To Chaos</td>\n",
       "      <td>Jordan B. Peterson</td>\n",
       "      <td>4.7</td>\n",
       "      <td>18979</td>\n",
       "      <td>15</td>\n",
       "      <td>Non Fiction</td>\n",
       "    </tr>\n",
       "    <tr>\n",
       "      <th>3</th>\n",
       "      <td>1984 (Signet Classics)</td>\n",
       "      <td>George Orwell</td>\n",
       "      <td>4.7</td>\n",
       "      <td>21424</td>\n",
       "      <td>6</td>\n",
       "      <td>Fiction</td>\n",
       "    </tr>\n",
       "    <tr>\n",
       "      <th>4</th>\n",
       "      <td>5,000 Awesome Facts (About Everything!) (Natio...</td>\n",
       "      <td>National Geographic Kids</td>\n",
       "      <td>4.8</td>\n",
       "      <td>7665</td>\n",
       "      <td>12</td>\n",
       "      <td>Non Fiction</td>\n",
       "    </tr>\n",
       "    <tr>\n",
       "      <th>...</th>\n",
       "      <td>...</td>\n",
       "      <td>...</td>\n",
       "      <td>...</td>\n",
       "      <td>...</td>\n",
       "      <td>...</td>\n",
       "      <td>...</td>\n",
       "    </tr>\n",
       "    <tr>\n",
       "      <th>538</th>\n",
       "      <td>Winter Of The World: Book Two Of The Century T...</td>\n",
       "      <td>Ken Follett</td>\n",
       "      <td>4.5</td>\n",
       "      <td>10760</td>\n",
       "      <td>15</td>\n",
       "      <td>Fiction</td>\n",
       "    </tr>\n",
       "    <tr>\n",
       "      <th>539</th>\n",
       "      <td>Women Food And God: An Unexpected Path To Almo...</td>\n",
       "      <td>Geneen Roth</td>\n",
       "      <td>4.2</td>\n",
       "      <td>1302</td>\n",
       "      <td>11</td>\n",
       "      <td>Non Fiction</td>\n",
       "    </tr>\n",
       "    <tr>\n",
       "      <th>540</th>\n",
       "      <td>Wonder</td>\n",
       "      <td>R. J. Palacio</td>\n",
       "      <td>4.8</td>\n",
       "      <td>21625</td>\n",
       "      <td>9</td>\n",
       "      <td>Fiction</td>\n",
       "    </tr>\n",
       "    <tr>\n",
       "      <th>545</th>\n",
       "      <td>Wrecking Ball (Diary Of A Wimpy Kid Book 14)</td>\n",
       "      <td>Jeff Kinney</td>\n",
       "      <td>4.9</td>\n",
       "      <td>9413</td>\n",
       "      <td>8</td>\n",
       "      <td>Fiction</td>\n",
       "    </tr>\n",
       "    <tr>\n",
       "      <th>546</th>\n",
       "      <td>You Are A Badass: How To Stop Doubting Your Gr...</td>\n",
       "      <td>Jen Sincero</td>\n",
       "      <td>4.7</td>\n",
       "      <td>14331</td>\n",
       "      <td>8</td>\n",
       "      <td>Non Fiction</td>\n",
       "    </tr>\n",
       "  </tbody>\n",
       "</table>\n",
       "<p>350 rows × 6 columns</p>\n",
       "</div>"
      ],
      "text/plain": [
       "                                                  name  \\\n",
       "0                        10-Day Green Smoothie Cleanse   \n",
       "1                                    11/22/63: A Novel   \n",
       "2              12 Rules For Life: An Antidote To Chaos   \n",
       "3                               1984 (Signet Classics)   \n",
       "4    5,000 Awesome Facts (About Everything!) (Natio...   \n",
       "..                                                 ...   \n",
       "538  Winter Of The World: Book Two Of The Century T...   \n",
       "539  Women Food And God: An Unexpected Path To Almo...   \n",
       "540                                             Wonder   \n",
       "545       Wrecking Ball (Diary Of A Wimpy Kid Book 14)   \n",
       "546  You Are A Badass: How To Stop Doubting Your Gr...   \n",
       "\n",
       "                       author  user_rating  reviews  price        genre  \n",
       "0                    JJ Smith          4.7    17350      8  Non Fiction  \n",
       "1                Stephen King          4.6     2052     22      Fiction  \n",
       "2          Jordan B. Peterson          4.7    18979     15  Non Fiction  \n",
       "3               George Orwell          4.7    21424      6      Fiction  \n",
       "4    National Geographic Kids          4.8     7665     12  Non Fiction  \n",
       "..                        ...          ...      ...    ...          ...  \n",
       "538               Ken Follett          4.5    10760     15      Fiction  \n",
       "539               Geneen Roth          4.2     1302     11  Non Fiction  \n",
       "540             R. J. Palacio          4.8    21625      9      Fiction  \n",
       "545               Jeff Kinney          4.9     9413      8      Fiction  \n",
       "546               Jen Sincero          4.7    14331      8  Non Fiction  \n",
       "\n",
       "[350 rows x 6 columns]"
      ]
     },
     "execution_count": 564,
     "metadata": {},
     "output_type": "execute_result"
    }
   ],
   "source": [
    "df.drop_duplicates(subset='name', keep='last')"
   ]
  },
  {
   "cell_type": "code",
   "execution_count": 565,
   "id": "645e7aa4",
   "metadata": {},
   "outputs": [],
   "source": [
    "df=df.drop_duplicates(subset='name', keep='last')"
   ]
  },
  {
   "cell_type": "code",
   "execution_count": 566,
   "id": "d6cb3e22",
   "metadata": {
    "scrolled": true
   },
   "outputs": [
    {
     "data": {
      "text/html": [
       "<div>\n",
       "<style scoped>\n",
       "    .dataframe tbody tr th:only-of-type {\n",
       "        vertical-align: middle;\n",
       "    }\n",
       "\n",
       "    .dataframe tbody tr th {\n",
       "        vertical-align: top;\n",
       "    }\n",
       "\n",
       "    .dataframe thead th {\n",
       "        text-align: right;\n",
       "    }\n",
       "</style>\n",
       "<table border=\"1\" class=\"dataframe\">\n",
       "  <thead>\n",
       "    <tr style=\"text-align: right;\">\n",
       "      <th></th>\n",
       "      <th>name</th>\n",
       "      <th>author</th>\n",
       "      <th>user_rating</th>\n",
       "      <th>reviews</th>\n",
       "      <th>price</th>\n",
       "      <th>genre</th>\n",
       "    </tr>\n",
       "  </thead>\n",
       "  <tbody>\n",
       "    <tr>\n",
       "      <th>0</th>\n",
       "      <td>10-Day Green Smoothie Cleanse</td>\n",
       "      <td>JJ Smith</td>\n",
       "      <td>4.7</td>\n",
       "      <td>17350</td>\n",
       "      <td>8</td>\n",
       "      <td>Non Fiction</td>\n",
       "    </tr>\n",
       "    <tr>\n",
       "      <th>1</th>\n",
       "      <td>11/22/63: A Novel</td>\n",
       "      <td>Stephen King</td>\n",
       "      <td>4.6</td>\n",
       "      <td>2052</td>\n",
       "      <td>22</td>\n",
       "      <td>Fiction</td>\n",
       "    </tr>\n",
       "    <tr>\n",
       "      <th>2</th>\n",
       "      <td>12 Rules For Life: An Antidote To Chaos</td>\n",
       "      <td>Jordan B. Peterson</td>\n",
       "      <td>4.7</td>\n",
       "      <td>18979</td>\n",
       "      <td>15</td>\n",
       "      <td>Non Fiction</td>\n",
       "    </tr>\n",
       "    <tr>\n",
       "      <th>3</th>\n",
       "      <td>1984 (Signet Classics)</td>\n",
       "      <td>George Orwell</td>\n",
       "      <td>4.7</td>\n",
       "      <td>21424</td>\n",
       "      <td>6</td>\n",
       "      <td>Fiction</td>\n",
       "    </tr>\n",
       "    <tr>\n",
       "      <th>4</th>\n",
       "      <td>5,000 Awesome Facts (About Everything!) (Natio...</td>\n",
       "      <td>National Geographic Kids</td>\n",
       "      <td>4.8</td>\n",
       "      <td>7665</td>\n",
       "      <td>12</td>\n",
       "      <td>Non Fiction</td>\n",
       "    </tr>\n",
       "    <tr>\n",
       "      <th>...</th>\n",
       "      <td>...</td>\n",
       "      <td>...</td>\n",
       "      <td>...</td>\n",
       "      <td>...</td>\n",
       "      <td>...</td>\n",
       "      <td>...</td>\n",
       "    </tr>\n",
       "    <tr>\n",
       "      <th>538</th>\n",
       "      <td>Winter Of The World: Book Two Of The Century T...</td>\n",
       "      <td>Ken Follett</td>\n",
       "      <td>4.5</td>\n",
       "      <td>10760</td>\n",
       "      <td>15</td>\n",
       "      <td>Fiction</td>\n",
       "    </tr>\n",
       "    <tr>\n",
       "      <th>539</th>\n",
       "      <td>Women Food And God: An Unexpected Path To Almo...</td>\n",
       "      <td>Geneen Roth</td>\n",
       "      <td>4.2</td>\n",
       "      <td>1302</td>\n",
       "      <td>11</td>\n",
       "      <td>Non Fiction</td>\n",
       "    </tr>\n",
       "    <tr>\n",
       "      <th>540</th>\n",
       "      <td>Wonder</td>\n",
       "      <td>R. J. Palacio</td>\n",
       "      <td>4.8</td>\n",
       "      <td>21625</td>\n",
       "      <td>9</td>\n",
       "      <td>Fiction</td>\n",
       "    </tr>\n",
       "    <tr>\n",
       "      <th>545</th>\n",
       "      <td>Wrecking Ball (Diary Of A Wimpy Kid Book 14)</td>\n",
       "      <td>Jeff Kinney</td>\n",
       "      <td>4.9</td>\n",
       "      <td>9413</td>\n",
       "      <td>8</td>\n",
       "      <td>Fiction</td>\n",
       "    </tr>\n",
       "    <tr>\n",
       "      <th>546</th>\n",
       "      <td>You Are A Badass: How To Stop Doubting Your Gr...</td>\n",
       "      <td>Jen Sincero</td>\n",
       "      <td>4.7</td>\n",
       "      <td>14331</td>\n",
       "      <td>8</td>\n",
       "      <td>Non Fiction</td>\n",
       "    </tr>\n",
       "  </tbody>\n",
       "</table>\n",
       "<p>350 rows × 6 columns</p>\n",
       "</div>"
      ],
      "text/plain": [
       "                                                  name  \\\n",
       "0                        10-Day Green Smoothie Cleanse   \n",
       "1                                    11/22/63: A Novel   \n",
       "2              12 Rules For Life: An Antidote To Chaos   \n",
       "3                               1984 (Signet Classics)   \n",
       "4    5,000 Awesome Facts (About Everything!) (Natio...   \n",
       "..                                                 ...   \n",
       "538  Winter Of The World: Book Two Of The Century T...   \n",
       "539  Women Food And God: An Unexpected Path To Almo...   \n",
       "540                                             Wonder   \n",
       "545       Wrecking Ball (Diary Of A Wimpy Kid Book 14)   \n",
       "546  You Are A Badass: How To Stop Doubting Your Gr...   \n",
       "\n",
       "                       author  user_rating  reviews  price        genre  \n",
       "0                    JJ Smith          4.7    17350      8  Non Fiction  \n",
       "1                Stephen King          4.6     2052     22      Fiction  \n",
       "2          Jordan B. Peterson          4.7    18979     15  Non Fiction  \n",
       "3               George Orwell          4.7    21424      6      Fiction  \n",
       "4    National Geographic Kids          4.8     7665     12  Non Fiction  \n",
       "..                        ...          ...      ...    ...          ...  \n",
       "538               Ken Follett          4.5    10760     15      Fiction  \n",
       "539               Geneen Roth          4.2     1302     11  Non Fiction  \n",
       "540             R. J. Palacio          4.8    21625      9      Fiction  \n",
       "545               Jeff Kinney          4.9     9413      8      Fiction  \n",
       "546               Jen Sincero          4.7    14331      8  Non Fiction  \n",
       "\n",
       "[350 rows x 6 columns]"
      ]
     },
     "execution_count": 566,
     "metadata": {},
     "output_type": "execute_result"
    }
   ],
   "source": [
    "df"
   ]
  },
  {
   "cell_type": "markdown",
   "id": "d1124271",
   "metadata": {},
   "source": [
    "Lets visualize user ratings "
   ]
  },
  {
   "cell_type": "code",
   "execution_count": 567,
   "id": "6ab88471",
   "metadata": {
    "scrolled": false
   },
   "outputs": [
    {
     "data": {
      "image/png": "[encoded data removed]",
      "text/plain": [
       "<Figure size 432x288 with 1 Axes>"
      ]
     },
     "metadata": {
      "needs_background": "light"
     },
     "output_type": "display_data"
    }
   ],
   "source": [
    "plot = sns.histplot(df, x='user_rating', color= 'g')"
   ]
  },
  {
   "cell_type": "markdown",
   "id": "58314a1f",
   "metadata": {},
   "source": [
    "From the graph most books receive a high rating(rating > 4). \n",
    "A few books have a rating less than 4\n"
   ]
  },
  {
   "cell_type": "markdown",
   "id": "e483e407",
   "metadata": {},
   "source": [
    "Lets answer some questions about our prolific authors"
   ]
  },
  {
   "cell_type": "code",
   "execution_count": 568,
   "id": "482b47f9",
   "metadata": {},
   "outputs": [],
   "source": [
    "#Top 10 authors"
   ]
  },
  {
   "cell_type": "code",
   "execution_count": 569,
   "id": "377e5d63",
   "metadata": {},
   "outputs": [],
   "source": [
    "top_10_authors = df.groupby('author')[['user_rating']].mean().sort_values('user_rating', ascending = False)"
   ]
  },
  {
   "cell_type": "code",
   "execution_count": 570,
   "id": "746d7b59",
   "metadata": {
    "scrolled": true
   },
   "outputs": [],
   "source": [
    "top_10_authors=top_10_authors.head(10).reset_index()"
   ]
  },
  {
   "cell_type": "code",
   "execution_count": 571,
   "id": "4955533e",
   "metadata": {},
   "outputs": [
    {
     "data": {
      "text/html": [
       "<div>\n",
       "<style scoped>\n",
       "    .dataframe tbody tr th:only-of-type {\n",
       "        vertical-align: middle;\n",
       "    }\n",
       "\n",
       "    .dataframe tbody tr th {\n",
       "        vertical-align: top;\n",
       "    }\n",
       "\n",
       "    .dataframe thead th {\n",
       "        text-align: right;\n",
       "    }\n",
       "</style>\n",
       "<table border=\"1\" class=\"dataframe\">\n",
       "  <thead>\n",
       "    <tr style=\"text-align: right;\">\n",
       "      <th></th>\n",
       "      <th>author</th>\n",
       "      <th>user_rating</th>\n",
       "    </tr>\n",
       "  </thead>\n",
       "  <tbody>\n",
       "    <tr>\n",
       "      <th>0</th>\n",
       "      <td>Nathan W. Pyle</td>\n",
       "      <td>4.9</td>\n",
       "    </tr>\n",
       "    <tr>\n",
       "      <th>1</th>\n",
       "      <td>Bill Martin Jr.</td>\n",
       "      <td>4.9</td>\n",
       "    </tr>\n",
       "    <tr>\n",
       "      <th>2</th>\n",
       "      <td>Jill Twiss</td>\n",
       "      <td>4.9</td>\n",
       "    </tr>\n",
       "    <tr>\n",
       "      <th>3</th>\n",
       "      <td>Rush Limbaugh</td>\n",
       "      <td>4.9</td>\n",
       "    </tr>\n",
       "    <tr>\n",
       "      <th>4</th>\n",
       "      <td>Pete Souza</td>\n",
       "      <td>4.9</td>\n",
       "    </tr>\n",
       "    <tr>\n",
       "      <th>5</th>\n",
       "      <td>Sarah Young</td>\n",
       "      <td>4.9</td>\n",
       "    </tr>\n",
       "    <tr>\n",
       "      <th>6</th>\n",
       "      <td>Lin-Manuel Miranda</td>\n",
       "      <td>4.9</td>\n",
       "    </tr>\n",
       "    <tr>\n",
       "      <th>7</th>\n",
       "      <td>Patrick Thorpe</td>\n",
       "      <td>4.9</td>\n",
       "    </tr>\n",
       "    <tr>\n",
       "      <th>8</th>\n",
       "      <td>Dav Pilkey</td>\n",
       "      <td>4.9</td>\n",
       "    </tr>\n",
       "    <tr>\n",
       "      <th>9</th>\n",
       "      <td>Alice Schertle</td>\n",
       "      <td>4.9</td>\n",
       "    </tr>\n",
       "  </tbody>\n",
       "</table>\n",
       "</div>"
      ],
      "text/plain": [
       "               author  user_rating\n",
       "0      Nathan W. Pyle          4.9\n",
       "1     Bill Martin Jr.          4.9\n",
       "2          Jill Twiss          4.9\n",
       "3       Rush Limbaugh          4.9\n",
       "4          Pete Souza          4.9\n",
       "5         Sarah Young          4.9\n",
       "6  Lin-Manuel Miranda          4.9\n",
       "7      Patrick Thorpe          4.9\n",
       "8          Dav Pilkey          4.9\n",
       "9      Alice Schertle          4.9"
      ]
     },
     "execution_count": 571,
     "metadata": {},
     "output_type": "execute_result"
    }
   ],
   "source": [
    "top_10_authors"
   ]
  },
  {
   "cell_type": "code",
   "execution_count": 572,
   "id": "fc980536",
   "metadata": {},
   "outputs": [],
   "source": [
    "#Number of books written by authors"
   ]
  },
  {
   "cell_type": "code",
   "execution_count": 573,
   "id": "95f3f3f0",
   "metadata": {},
   "outputs": [],
   "source": [
    "number_of_books_written = df.groupby('author')[['name']].count().sort_values('name', ascending=False).head(10).reset_index()"
   ]
  },
  {
   "cell_type": "code",
   "execution_count": 574,
   "id": "f9ac586f",
   "metadata": {
    "scrolled": false
   },
   "outputs": [
    {
     "data": {
      "text/html": [
       "<div>\n",
       "<style scoped>\n",
       "    .dataframe tbody tr th:only-of-type {\n",
       "        vertical-align: middle;\n",
       "    }\n",
       "\n",
       "    .dataframe tbody tr th {\n",
       "        vertical-align: top;\n",
       "    }\n",
       "\n",
       "    .dataframe thead th {\n",
       "        text-align: right;\n",
       "    }\n",
       "</style>\n",
       "<table border=\"1\" class=\"dataframe\">\n",
       "  <thead>\n",
       "    <tr style=\"text-align: right;\">\n",
       "      <th></th>\n",
       "      <th>author</th>\n",
       "      <th>name</th>\n",
       "    </tr>\n",
       "  </thead>\n",
       "  <tbody>\n",
       "    <tr>\n",
       "      <th>0</th>\n",
       "      <td>Jeff Kinney</td>\n",
       "      <td>12</td>\n",
       "    </tr>\n",
       "    <tr>\n",
       "      <th>1</th>\n",
       "      <td>Rick Riordan</td>\n",
       "      <td>10</td>\n",
       "    </tr>\n",
       "    <tr>\n",
       "      <th>2</th>\n",
       "      <td>J.K. Rowling</td>\n",
       "      <td>8</td>\n",
       "    </tr>\n",
       "    <tr>\n",
       "      <th>3</th>\n",
       "      <td>Stephenie Meyer</td>\n",
       "      <td>7</td>\n",
       "    </tr>\n",
       "    <tr>\n",
       "      <th>4</th>\n",
       "      <td>Dav Pilkey</td>\n",
       "      <td>6</td>\n",
       "    </tr>\n",
       "    <tr>\n",
       "      <th>5</th>\n",
       "      <td>Bill O'Reilly</td>\n",
       "      <td>6</td>\n",
       "    </tr>\n",
       "    <tr>\n",
       "      <th>6</th>\n",
       "      <td>John Grisham</td>\n",
       "      <td>5</td>\n",
       "    </tr>\n",
       "    <tr>\n",
       "      <th>7</th>\n",
       "      <td>E L James</td>\n",
       "      <td>5</td>\n",
       "    </tr>\n",
       "    <tr>\n",
       "      <th>8</th>\n",
       "      <td>Suzanne Collins</td>\n",
       "      <td>5</td>\n",
       "    </tr>\n",
       "    <tr>\n",
       "      <th>9</th>\n",
       "      <td>Charlaine Harris</td>\n",
       "      <td>4</td>\n",
       "    </tr>\n",
       "  </tbody>\n",
       "</table>\n",
       "</div>"
      ],
      "text/plain": [
       "             author  name\n",
       "0       Jeff Kinney    12\n",
       "1      Rick Riordan    10\n",
       "2      J.K. Rowling     8\n",
       "3   Stephenie Meyer     7\n",
       "4        Dav Pilkey     6\n",
       "5     Bill O'Reilly     6\n",
       "6      John Grisham     5\n",
       "7         E L James     5\n",
       "8   Suzanne Collins     5\n",
       "9  Charlaine Harris     4"
      ]
     },
     "execution_count": 574,
     "metadata": {},
     "output_type": "execute_result"
    }
   ],
   "source": [
    "number_of_books_written"
   ]
  },
  {
   "cell_type": "code",
   "execution_count": 575,
   "id": "8daffdd8",
   "metadata": {},
   "outputs": [],
   "source": [
    "#Number of books in each genre"
   ]
  },
  {
   "cell_type": "code",
   "execution_count": 576,
   "id": "dbdee7ef",
   "metadata": {},
   "outputs": [],
   "source": [
    "number_of_books_by_genre = df.groupby('genre')[['name']].count().sort_values('name', ascending=False).head(10).reset_index()"
   ]
  },
  {
   "cell_type": "code",
   "execution_count": 577,
   "id": "533e7af6",
   "metadata": {
    "scrolled": true
   },
   "outputs": [
    {
     "data": {
      "text/html": [
       "<div>\n",
       "<style scoped>\n",
       "    .dataframe tbody tr th:only-of-type {\n",
       "        vertical-align: middle;\n",
       "    }\n",
       "\n",
       "    .dataframe tbody tr th {\n",
       "        vertical-align: top;\n",
       "    }\n",
       "\n",
       "    .dataframe thead th {\n",
       "        text-align: right;\n",
       "    }\n",
       "</style>\n",
       "<table border=\"1\" class=\"dataframe\">\n",
       "  <thead>\n",
       "    <tr style=\"text-align: right;\">\n",
       "      <th></th>\n",
       "      <th>genre</th>\n",
       "      <th>name</th>\n",
       "    </tr>\n",
       "  </thead>\n",
       "  <tbody>\n",
       "    <tr>\n",
       "      <th>0</th>\n",
       "      <td>Non Fiction</td>\n",
       "      <td>190</td>\n",
       "    </tr>\n",
       "    <tr>\n",
       "      <th>1</th>\n",
       "      <td>Fiction</td>\n",
       "      <td>160</td>\n",
       "    </tr>\n",
       "  </tbody>\n",
       "</table>\n",
       "</div>"
      ],
      "text/plain": [
       "         genre  name\n",
       "0  Non Fiction   190\n",
       "1      Fiction   160"
      ]
     },
     "execution_count": 577,
     "metadata": {},
     "output_type": "execute_result"
    }
   ],
   "source": [
    "number_of_books_by_genre "
   ]
  },
  {
   "cell_type": "markdown",
   "id": "02d4d4e9",
   "metadata": {},
   "source": [
    "Create Models to Predict User Ratings: These models will give us insights into user rating behaviour"
   ]
  },
  {
   "cell_type": "code",
   "execution_count": 578,
   "id": "d8538a71",
   "metadata": {},
   "outputs": [],
   "source": [
    "#Create heatmap of correlation between different numeric attributes"
   ]
  },
  {
   "cell_type": "code",
   "execution_count": 579,
   "id": "72f7d8ce",
   "metadata": {
    "scrolled": false
   },
   "outputs": [
    {
     "data": {
      "image/png": "[encoded data removed]",
      "text/plain": [
       "<Figure size 720x360 with 2 Axes>"
      ]
     },
     "metadata": {
      "needs_background": "light"
     },
     "output_type": "display_data"
    }
   ],
   "source": [
    "plt.figure(figsize=(10,5))\n",
    "sns.heatmap(df.corr(), annot = True, fmt= '.3f', linewidths=.5, cmap=\"Blues\")\n",
    "plt.show()"
   ]
  },
  {
   "cell_type": "code",
   "execution_count": 580,
   "id": "e703eef3",
   "metadata": {},
   "outputs": [],
   "source": [
    "#Numeric data do not have strong correlation(-tive or +tive)"
   ]
  },
  {
   "cell_type": "code",
   "execution_count": 581,
   "id": "c56a29ab",
   "metadata": {},
   "outputs": [
    {
     "name": "stdout",
     "output_type": "stream",
     "text": [
      "<class 'pandas.core.frame.DataFrame'>\n",
      "Int64Index: 350 entries, 0 to 546\n",
      "Data columns (total 6 columns):\n",
      " #   Column       Non-Null Count  Dtype  \n",
      "---  ------       --------------  -----  \n",
      " 0   name         350 non-null    object \n",
      " 1   author       350 non-null    object \n",
      " 2   user_rating  350 non-null    float64\n",
      " 3   reviews      350 non-null    int64  \n",
      " 4   price        350 non-null    int64  \n",
      " 5   genre        350 non-null    object \n",
      "dtypes: float64(1), int64(2), object(3)\n",
      "memory usage: 19.1+ KB\n"
     ]
    }
   ],
   "source": [
    "df.info()"
   ]
  },
  {
   "cell_type": "markdown",
   "id": "eccc8bb1",
   "metadata": {},
   "source": [
    "#Lets predict the user ratings, therefore our target is the user_rating"
   ]
  },
  {
   "cell_type": "code",
   "execution_count": 582,
   "id": "8b329c78",
   "metadata": {},
   "outputs": [],
   "source": [
    "#create dataframes for train, full_train, validating and finally testing our models"
   ]
  },
  {
   "cell_type": "code",
   "execution_count": 583,
   "id": "e4f930ee",
   "metadata": {},
   "outputs": [],
   "source": [
    "#import train_test_split \n",
    "from sklearn.model_selection import train_test_split"
   ]
  },
  {
   "cell_type": "code",
   "execution_count": 584,
   "id": "1781ca24",
   "metadata": {},
   "outputs": [],
   "source": [
    "df_full_train, df_test = train_test_split(df, test_size=0.2, random_state=28)\n",
    "df_train, df_val = train_test_split(df_full_train, test_size=0.25, random_state=28)"
   ]
  },
  {
   "cell_type": "code",
   "execution_count": 585,
   "id": "285a9ce9",
   "metadata": {},
   "outputs": [],
   "source": [
    "y_train = df_train.user_rating\n",
    "y_test = df_test.user_rating\n",
    "y_val = df_val.user_rating\n",
    "y_full_train = df_full_train.user_rating"
   ]
  },
  {
   "cell_type": "code",
   "execution_count": 586,
   "id": "350e930b",
   "metadata": {},
   "outputs": [],
   "source": [
    "#delete target values from our dataframes using in prediction & final test\n",
    "del df_train['user_rating']\n",
    "del df_test['user_rating']\n",
    "del df_val['user_rating']\n",
    "del df_full_train['user_rating']"
   ]
  },
  {
   "cell_type": "code",
   "execution_count": 587,
   "id": "2845b256",
   "metadata": {
    "scrolled": true
   },
   "outputs": [
    {
     "data": {
      "text/html": [
       "<div>\n",
       "<style scoped>\n",
       "    .dataframe tbody tr th:only-of-type {\n",
       "        vertical-align: middle;\n",
       "    }\n",
       "\n",
       "    .dataframe tbody tr th {\n",
       "        vertical-align: top;\n",
       "    }\n",
       "\n",
       "    .dataframe thead th {\n",
       "        text-align: right;\n",
       "    }\n",
       "</style>\n",
       "<table border=\"1\" class=\"dataframe\">\n",
       "  <thead>\n",
       "    <tr style=\"text-align: right;\">\n",
       "      <th></th>\n",
       "      <th>name</th>\n",
       "      <th>author</th>\n",
       "      <th>reviews</th>\n",
       "      <th>price</th>\n",
       "      <th>genre</th>\n",
       "    </tr>\n",
       "  </thead>\n",
       "  <tbody>\n",
       "    <tr>\n",
       "      <th>172</th>\n",
       "      <td>Humans Of New York</td>\n",
       "      <td>Brandon Stanton</td>\n",
       "      <td>3490</td>\n",
       "      <td>15</td>\n",
       "      <td>Non Fiction</td>\n",
       "    </tr>\n",
       "    <tr>\n",
       "      <th>316</th>\n",
       "      <td>Teach Like A Champion: 49 Techniques That Put ...</td>\n",
       "      <td>Doug Lemov</td>\n",
       "      <td>637</td>\n",
       "      <td>20</td>\n",
       "      <td>Non Fiction</td>\n",
       "    </tr>\n",
       "    <tr>\n",
       "      <th>536</th>\n",
       "      <td>Whose Boat Is This Boat?: Comments That Don'T ...</td>\n",
       "      <td>The Staff of The Late Show with</td>\n",
       "      <td>6669</td>\n",
       "      <td>12</td>\n",
       "      <td>Non Fiction</td>\n",
       "    </tr>\n",
       "    <tr>\n",
       "      <th>213</th>\n",
       "      <td>Lean In: Women, Work, And The Will To Lead</td>\n",
       "      <td>Sheryl Sandberg</td>\n",
       "      <td>6132</td>\n",
       "      <td>13</td>\n",
       "      <td>Non Fiction</td>\n",
       "    </tr>\n",
       "    <tr>\n",
       "      <th>298</th>\n",
       "      <td>Shred: The Revolutionary Diet: 6 Weeks 4 Inche...</td>\n",
       "      <td>Ian K. Smith M.D.</td>\n",
       "      <td>2272</td>\n",
       "      <td>6</td>\n",
       "      <td>Non Fiction</td>\n",
       "    </tr>\n",
       "    <tr>\n",
       "      <th>...</th>\n",
       "      <td>...</td>\n",
       "      <td>...</td>\n",
       "      <td>...</td>\n",
       "      <td>...</td>\n",
       "      <td>...</td>\n",
       "    </tr>\n",
       "    <tr>\n",
       "      <th>92</th>\n",
       "      <td>Eat This, Not That! Thousands Of Simple Food S...</td>\n",
       "      <td>David Zinczenko</td>\n",
       "      <td>956</td>\n",
       "      <td>14</td>\n",
       "      <td>Non Fiction</td>\n",
       "    </tr>\n",
       "    <tr>\n",
       "      <th>344</th>\n",
       "      <td>The Blood Sugar Solution: The Ultrahealthy Pro...</td>\n",
       "      <td>Mark Hyman M.D.</td>\n",
       "      <td>1789</td>\n",
       "      <td>14</td>\n",
       "      <td>Non Fiction</td>\n",
       "    </tr>\n",
       "    <tr>\n",
       "      <th>528</th>\n",
       "      <td>What Pet Should I Get? (Classic Seuss)</td>\n",
       "      <td>Dr. Seuss</td>\n",
       "      <td>1873</td>\n",
       "      <td>14</td>\n",
       "      <td>Fiction</td>\n",
       "    </tr>\n",
       "    <tr>\n",
       "      <th>88</th>\n",
       "      <td>Double Down (Diary Of A Wimpy Kid #11)</td>\n",
       "      <td>Jeff Kinney</td>\n",
       "      <td>5118</td>\n",
       "      <td>20</td>\n",
       "      <td>Fiction</td>\n",
       "    </tr>\n",
       "    <tr>\n",
       "      <th>521</th>\n",
       "      <td>Unfreedom Of The Press</td>\n",
       "      <td>Mark R. Levin</td>\n",
       "      <td>5956</td>\n",
       "      <td>11</td>\n",
       "      <td>Non Fiction</td>\n",
       "    </tr>\n",
       "  </tbody>\n",
       "</table>\n",
       "<p>210 rows × 5 columns</p>\n",
       "</div>"
      ],
      "text/plain": [
       "                                                  name  \\\n",
       "172                                 Humans Of New York   \n",
       "316  Teach Like A Champion: 49 Techniques That Put ...   \n",
       "536  Whose Boat Is This Boat?: Comments That Don'T ...   \n",
       "213         Lean In: Women, Work, And The Will To Lead   \n",
       "298  Shred: The Revolutionary Diet: 6 Weeks 4 Inche...   \n",
       "..                                                 ...   \n",
       "92   Eat This, Not That! Thousands Of Simple Food S...   \n",
       "344  The Blood Sugar Solution: The Ultrahealthy Pro...   \n",
       "528             What Pet Should I Get? (Classic Seuss)   \n",
       "88              Double Down (Diary Of A Wimpy Kid #11)   \n",
       "521                             Unfreedom Of The Press   \n",
       "\n",
       "                               author  reviews  price        genre  \n",
       "172                   Brandon Stanton     3490     15  Non Fiction  \n",
       "316                        Doug Lemov      637     20  Non Fiction  \n",
       "536  The Staff of The Late Show with\n",
       "     6669     12  Non Fiction  \n",
       "213                   Sheryl Sandberg     6132     13  Non Fiction  \n",
       "298                 Ian K. Smith M.D.     2272      6  Non Fiction  \n",
       "..                                ...      ...    ...          ...  \n",
       "92                    David Zinczenko      956     14  Non Fiction  \n",
       "344                   Mark Hyman M.D.     1789     14  Non Fiction  \n",
       "528                         Dr. Seuss     1873     14      Fiction  \n",
       "88                        Jeff Kinney     5118     20      Fiction  \n",
       "521                     Mark R. Levin     5956     11  Non Fiction  \n",
       "\n",
       "[210 rows x 5 columns]"
      ]
     },
     "execution_count": 587,
     "metadata": {},
     "output_type": "execute_result"
    }
   ],
   "source": [
    "df_train"
   ]
  },
  {
   "cell_type": "code",
   "execution_count": 588,
   "id": "ef3542dd",
   "metadata": {},
   "outputs": [],
   "source": [
    "#reset indexes of our dataframes"
   ]
  },
  {
   "cell_type": "code",
   "execution_count": 589,
   "id": "52d3af87",
   "metadata": {},
   "outputs": [],
   "source": [
    "df_train = df_train.reset_index(drop=True)\n",
    "df_test = df_test.reset_index(drop=True)\n",
    "df_val = df_val.reset_index(drop=True)"
   ]
  },
  {
   "cell_type": "code",
   "execution_count": 590,
   "id": "5098b549",
   "metadata": {},
   "outputs": [],
   "source": [
    "#create dictionaries and vectorise training & val dataframe"
   ]
  },
  {
   "cell_type": "code",
   "execution_count": 591,
   "id": "b7d73b9d",
   "metadata": {},
   "outputs": [],
   "source": [
    "#import DictVectorizer, mean_squared_error, roc_auc_score\n",
    "\n",
    "from sklearn.feature_extraction import DictVectorizer \n",
    "from sklearn.metrics import mean_squared_error\n",
    "from sklearn.metrics import roc_auc_score"
   ]
  },
  {
   "cell_type": "code",
   "execution_count": 592,
   "id": "8ccfb1d4",
   "metadata": {},
   "outputs": [],
   "source": [
    "train_dicts = df_train.to_dict(orient = 'records')"
   ]
  },
  {
   "cell_type": "code",
   "execution_count": 593,
   "id": "00af0645",
   "metadata": {},
   "outputs": [
    {
     "data": {
      "text/plain": [
       "[{'name': 'Humans Of New York',\n",
       "  'author': 'Brandon Stanton',\n",
       "  'reviews': 3490,\n",
       "  'price': 15,\n",
       "  'genre': 'Non Fiction'},\n",
       " {'name': 'Teach Like A Champion: 49 Techniques That Put Students On The Path To College',\n",
       "  'author': 'Doug Lemov',\n",
       "  'reviews': 637,\n",
       "  'price': 20,\n",
       "  'genre': 'Non Fiction'},\n",
       " {'name': \"Whose Boat Is This Boat?: Comments That Don'T Help In The Aftermath Of A Hurricane\",\n",
       "  'author': 'The Staff of The Late Show with\\x85',\n",
       "  'reviews': 6669,\n",
       "  'price': 12,\n",
       "  'genre': 'Non Fiction'},\n",
       " {'name': 'Lean In: Women, Work, And The Will To Lead',\n",
       "  'author': 'Sheryl Sandberg',\n",
       "  'reviews': 6132,\n",
       "  'price': 13,\n",
       "  'genre': 'Non Fiction'},\n",
       " {'name': 'Shred: The Revolutionary Diet: 6 Weeks 4 Inches 2 Sizes',\n",
       "  'author': 'Ian K. Smith M.D.',\n",
       "  'reviews': 2272,\n",
       "  'price': 6,\n",
       "  'genre': 'Non Fiction'},\n",
       " {'name': '1984 (Signet Classics)',\n",
       "  'author': 'George Orwell',\n",
       "  'reviews': 21424,\n",
       "  'price': 6,\n",
       "  'genre': 'Fiction'},\n",
       " {'name': 'Dog Man: Lord Of The Fleas: From The Creator Of Captain Underpants (Dog Man #5)',\n",
       "  'author': 'Dav Pilkey',\n",
       "  'reviews': 5470,\n",
       "  'price': 6,\n",
       "  'genre': 'Fiction'},\n",
       " {'name': 'Secret Garden: An Inky Treasure Hunt And Coloring Book (For Adults, Mindfulness Coloring)',\n",
       "  'author': 'Johanna Basford',\n",
       "  'reviews': 9366,\n",
       "  'price': 9,\n",
       "  'genre': 'Non Fiction'},\n",
       " {'name': 'Jesus Calling: Enjoying Peace In His Presence (With Scripture References)',\n",
       "  'author': 'Sarah Young',\n",
       "  'reviews': 19576,\n",
       "  'price': 8,\n",
       "  'genre': 'Non Fiction'},\n",
       " {'name': \"Proof Of Heaven: A Neurosurgeon'S Journey Into The Afterlife\",\n",
       "  'author': 'Eben Alexander',\n",
       "  'reviews': 13616,\n",
       "  'price': 10,\n",
       "  'genre': 'Non Fiction'},\n",
       " {'name': 'The Shack: Where Tragedy Confronts Eternity',\n",
       "  'author': 'William P. Young',\n",
       "  'reviews': 19720,\n",
       "  'price': 8,\n",
       "  'genre': 'Fiction'},\n",
       " {'name': 'Origin: A Novel (Robert Langdon)',\n",
       "  'author': 'Dan Brown',\n",
       "  'reviews': 18904,\n",
       "  'price': 13,\n",
       "  'genre': 'Fiction'},\n",
       " {'name': \"Food Rules: An Eater'S Manual\",\n",
       "  'author': 'Michael Pollan',\n",
       "  'reviews': 1555,\n",
       "  'price': 9,\n",
       "  'genre': 'Non Fiction'},\n",
       " {'name': 'Journey To The Ice P',\n",
       "  'author': 'RH Disney',\n",
       "  'reviews': 978,\n",
       "  'price': 0,\n",
       "  'genre': 'Fiction'},\n",
       " {'name': 'The Five Love Languages: How To Express Heartfelt Commitment To Your Mate',\n",
       "  'author': 'Gary Chapman',\n",
       "  'reviews': 803,\n",
       "  'price': 9,\n",
       "  'genre': 'Non Fiction'},\n",
       " {'name': 'Arguing With Idiots: How To Stop Small Minds And Big Government',\n",
       "  'author': 'Glenn Beck',\n",
       "  'reviews': 798,\n",
       "  'price': 5,\n",
       "  'genre': 'Non Fiction'},\n",
       " {'name': 'The Dukan Diet: 2 Steps To Lose The Weight, 2 Steps To Keep It Off Forever',\n",
       "  'author': 'Pierre Dukan',\n",
       "  'reviews': 2023,\n",
       "  'price': 15,\n",
       "  'genre': 'Non Fiction'},\n",
       " {'name': 'The Hunger Games (Book 1)',\n",
       "  'author': 'Suzanne Collins',\n",
       "  'reviews': 32122,\n",
       "  'price': 8,\n",
       "  'genre': 'Fiction'},\n",
       " {'name': 'Sookie Stackhouse',\n",
       "  'author': 'Charlaine Harris',\n",
       "  'reviews': 973,\n",
       "  'price': 25,\n",
       "  'genre': 'Fiction'},\n",
       " {'name': 'The Very Hungry Caterpillar',\n",
       "  'author': 'Eric Carle',\n",
       "  'reviews': 19546,\n",
       "  'price': 5,\n",
       "  'genre': 'Fiction'},\n",
       " {'name': 'Diagnostic And Statistical Manual Of Mental Disorders, 5Th Edition: Dsm-5',\n",
       "  'author': 'American Psychiatric Association',\n",
       "  'reviews': 6679,\n",
       "  'price': 105,\n",
       "  'genre': 'Non Fiction'},\n",
       " {'name': 'The Casual Vacancy',\n",
       "  'author': 'J.K. Rowling',\n",
       "  'reviews': 9372,\n",
       "  'price': 12,\n",
       "  'genre': 'Fiction'},\n",
       " {'name': 'Diary Of A Wimpy Kid: Hard Luck, Book 8',\n",
       "  'author': 'Jeff Kinney',\n",
       "  'reviews': 6812,\n",
       "  'price': 0,\n",
       "  'genre': 'Fiction'},\n",
       " {'name': 'Laugh-Out-Loud Jokes For Kids',\n",
       "  'author': 'Rob Elliott',\n",
       "  'reviews': 6990,\n",
       "  'price': 4,\n",
       "  'genre': 'Non Fiction'},\n",
       " {'name': 'A Wrinkle In Time (Time Quintet)',\n",
       "  'author': \"Madeleine L'Engle\",\n",
       "  'reviews': 5153,\n",
       "  'price': 5,\n",
       "  'genre': 'Fiction'},\n",
       " {'name': 'The Nightingale: A Novel',\n",
       "  'author': 'Kristin Hannah',\n",
       "  'reviews': 49288,\n",
       "  'price': 11,\n",
       "  'genre': 'Fiction'},\n",
       " {'name': 'Delivering Happiness: A Path To Profits, Passion, And Purpose',\n",
       "  'author': 'Tony Hsieh',\n",
       "  'reviews': 1651,\n",
       "  'price': 15,\n",
       "  'genre': 'Non Fiction'},\n",
       " {'name': 'The Subtle Art Of Not Giving A F*Ck: A Counterintuitive Approach To Living A Good Life',\n",
       "  'author': 'Mark Manson',\n",
       "  'reviews': 26490,\n",
       "  'price': 15,\n",
       "  'genre': 'Non Fiction'},\n",
       " {'name': 'Ready Player One: A Novel',\n",
       "  'author': 'Ernest Cline',\n",
       "  'reviews': 22536,\n",
       "  'price': 12,\n",
       "  'genre': 'Fiction'},\n",
       " {'name': '10-Day Green Smoothie Cleanse',\n",
       "  'author': 'JJ Smith',\n",
       "  'reviews': 17350,\n",
       "  'price': 8,\n",
       "  'genre': 'Non Fiction'},\n",
       " {'name': 'The Lego Ideas Book: Unlock Your Imagination',\n",
       "  'author': 'Daniel Lipkowitz',\n",
       "  'reviews': 4247,\n",
       "  'price': 13,\n",
       "  'genre': 'Non Fiction'},\n",
       " {'name': 'Alexander Hamilton',\n",
       "  'author': 'Ron Chernow',\n",
       "  'reviews': 9198,\n",
       "  'price': 13,\n",
       "  'genre': 'Non Fiction'},\n",
       " {'name': 'The President Is Missing: A Novel',\n",
       "  'author': 'James Patterson',\n",
       "  'reviews': 10191,\n",
       "  'price': 18,\n",
       "  'genre': 'Fiction'},\n",
       " {'name': 'Gone Girl',\n",
       "  'author': 'Gillian Flynn',\n",
       "  'reviews': 57271,\n",
       "  'price': 9,\n",
       "  'genre': 'Fiction'},\n",
       " {'name': 'The Ugly Truth (Diary Of A Wimpy Kid, Book 5)',\n",
       "  'author': 'Jeff Kinney',\n",
       "  'reviews': 3796,\n",
       "  'price': 12,\n",
       "  'genre': 'Fiction'},\n",
       " {'name': 'Adult Coloring Book: Stress Relieving Animal Designs',\n",
       "  'author': 'Blue Star Coloring',\n",
       "  'reviews': 2925,\n",
       "  'price': 6,\n",
       "  'genre': 'Non Fiction'},\n",
       " {'name': 'The Book With No Pictures',\n",
       "  'author': 'B. J. Novak',\n",
       "  'reviews': 8081,\n",
       "  'price': 8,\n",
       "  'genre': 'Fiction'},\n",
       " {'name': 'Kitchen Confidential Updated Edition: Adventures In The Culinary Underbelly (P.S.)',\n",
       "  'author': 'Anthony Bourdain',\n",
       "  'reviews': 2507,\n",
       "  'price': 8,\n",
       "  'genre': 'Non Fiction'},\n",
       " {'name': 'The Plant Paradox: The Hidden Dangers In \"Healthy\" Foods That Cause Disease And Weight Gain',\n",
       "  'author': 'Dr. Steven R Gundry MD',\n",
       "  'reviews': 7058,\n",
       "  'price': 17,\n",
       "  'genre': 'Non Fiction'},\n",
       " {'name': 'The Racketeer',\n",
       "  'author': 'John Grisham',\n",
       "  'reviews': 14493,\n",
       "  'price': 18,\n",
       "  'genre': 'Fiction'},\n",
       " {'name': '11/22/63: A Novel',\n",
       "  'author': 'Stephen King',\n",
       "  'reviews': 2052,\n",
       "  'price': 22,\n",
       "  'genre': 'Fiction'},\n",
       " {'name': 'Killing Kennedy: The End Of Camelot',\n",
       "  'author': \"Bill O'Reilly\",\n",
       "  'reviews': 8634,\n",
       "  'price': 25,\n",
       "  'genre': 'Non Fiction'},\n",
       " {'name': 'Fifty Shades Freed: Book Three Of The Fifty Shades Trilogy (Fifty Shades Of Grey Series) (English Edition)',\n",
       "  'author': 'E L James',\n",
       "  'reviews': 20262,\n",
       "  'price': 11,\n",
       "  'genre': 'Fiction'},\n",
       " {'name': 'Where The Crawdads Sing',\n",
       "  'author': 'Delia Owens',\n",
       "  'reviews': 87841,\n",
       "  'price': 15,\n",
       "  'genre': 'Fiction'},\n",
       " {'name': 'The China Study: The Most Comprehensive Study Of Nutrition Ever Conducted And The Startling Implications For Diet…',\n",
       "  'author': 'Thomas Campbell',\n",
       "  'reviews': 4633,\n",
       "  'price': 21,\n",
       "  'genre': 'Non Fiction'},\n",
       " {'name': 'Thirteen Reasons Why',\n",
       "  'author': 'Jay Asher',\n",
       "  'reviews': 7932,\n",
       "  'price': 9,\n",
       "  'genre': 'Fiction'},\n",
       " {'name': 'Mindset: The New Psychology Of Success',\n",
       "  'author': 'Carol S. Dweck',\n",
       "  'reviews': 5542,\n",
       "  'price': 10,\n",
       "  'genre': 'Non Fiction'},\n",
       " {'name': 'Wild: From Lost To Found On The Pacific Crest Trail',\n",
       "  'author': 'Cheryl Strayed',\n",
       "  'reviews': 17044,\n",
       "  'price': 18,\n",
       "  'genre': 'Non Fiction'},\n",
       " {'name': 'The Blood Of Olympus (The Heroes Of Olympus (5))',\n",
       "  'author': 'Rick Riordan',\n",
       "  'reviews': 6600,\n",
       "  'price': 11,\n",
       "  'genre': 'Fiction'},\n",
       " {'name': 'The Book Thief',\n",
       "  'author': 'Markus Zusak',\n",
       "  'reviews': 23148,\n",
       "  'price': 6,\n",
       "  'genre': 'Fiction'},\n",
       " {'name': 'Inferno',\n",
       "  'author': 'Dan Brown',\n",
       "  'reviews': 29651,\n",
       "  'price': 14,\n",
       "  'genre': 'Fiction'},\n",
       " {'name': 'The Short Second Life Of Bree Tanner: An Eclipse Novella (The Twilight Saga)',\n",
       "  'author': 'Stephenie Meyer',\n",
       "  'reviews': 2122,\n",
       "  'price': 0,\n",
       "  'genre': 'Fiction'},\n",
       " {'name': 'New Moon (The Twilight Saga)',\n",
       "  'author': 'Stephenie Meyer',\n",
       "  'reviews': 5680,\n",
       "  'price': 10,\n",
       "  'genre': 'Fiction'},\n",
       " {'name': \"Killing Reagan: The Violent Assault That Changed A Presidency (Bill O'Reilly'S Killing Series)\",\n",
       "  'author': \"Bill O'Reilly\",\n",
       "  'reviews': 5235,\n",
       "  'price': 5,\n",
       "  'genre': 'Non Fiction'},\n",
       " {'name': \"Harry Potter And The Sorcerer'S Stone: The Illustrated Edition (Harry Potter, Book 1)\",\n",
       "  'author': 'J.K. Rowling',\n",
       "  'reviews': 10052,\n",
       "  'price': 22,\n",
       "  'genre': 'Fiction'},\n",
       " {'name': 'The Wonky Donkey',\n",
       "  'author': 'Craig Smith',\n",
       "  'reviews': 30183,\n",
       "  'price': 4,\n",
       "  'genre': 'Fiction'},\n",
       " {'name': 'Dog Man And Cat Kid: From The Creator Of Captain Underpants (Dog Man #4)',\n",
       "  'author': 'Dav Pilkey',\n",
       "  'reviews': 5062,\n",
       "  'price': 6,\n",
       "  'genre': 'Fiction'},\n",
       " {'name': \"The Girl Who Kicked The Hornet'S Nest (Millennium Trilogy)\",\n",
       "  'author': 'Stieg Larsson',\n",
       "  'reviews': 7747,\n",
       "  'price': 14,\n",
       "  'genre': 'Fiction'},\n",
       " {'name': 'The Lost Hero (Heroes Of Olympus, Book 1)',\n",
       "  'author': 'Rick Riordan',\n",
       "  'reviews': 4506,\n",
       "  'price': 14,\n",
       "  'genre': 'Fiction'},\n",
       " {'name': 'Girl, Stop Apologizing: A Shame-Free Plan For Embracing And Achieving Your Goals',\n",
       "  'author': 'Rachel Hollis',\n",
       "  'reviews': 7660,\n",
       "  'price': 12,\n",
       "  'genre': 'Non Fiction'},\n",
       " {'name': 'The Alchemist',\n",
       "  'author': 'Paulo Coelho',\n",
       "  'reviews': 35799,\n",
       "  'price': 39,\n",
       "  'genre': 'Fiction'},\n",
       " {'name': 'The Art Of Racing In The Rain: A Novel',\n",
       "  'author': 'Garth Stein',\n",
       "  'reviews': 11813,\n",
       "  'price': 10,\n",
       "  'genre': 'Fiction'},\n",
       " {'name': 'Sh*T My Dad Says',\n",
       "  'author': 'Justin Halpern',\n",
       "  'reviews': 1265,\n",
       "  'price': 11,\n",
       "  'genre': 'Non Fiction'},\n",
       " {'name': 'Make Your Bed: Little Things That Can Change Your Life...And Maybe The World',\n",
       "  'author': 'Admiral William H. McRaven',\n",
       "  'reviews': 10199,\n",
       "  'price': 11,\n",
       "  'genre': 'Non Fiction'},\n",
       " {'name': \"Glenn Beck'S Common Sense: The Case Against An Out-Of-Control Government, Inspired By Thomas Paine\",\n",
       "  'author': 'Glenn Beck',\n",
       "  'reviews': 1365,\n",
       "  'price': 11,\n",
       "  'genre': 'Non Fiction'},\n",
       " {'name': 'The Boys In The Boat: Nine Americans And Their Epic Quest For Gold At The 1936 Berlin Olympics',\n",
       "  'author': 'Daniel James Brown',\n",
       "  'reviews': 23358,\n",
       "  'price': 12,\n",
       "  'genre': 'Non Fiction'},\n",
       " {'name': 'Fahrenheit 451',\n",
       "  'author': 'Ray Bradbury',\n",
       "  'reviews': 10721,\n",
       "  'price': 8,\n",
       "  'genre': 'Fiction'},\n",
       " {'name': \"The Serpent'S Shadow (The Kane Chronicles, Book 3)\",\n",
       "  'author': 'Rick Riordan',\n",
       "  'reviews': 2091,\n",
       "  'price': 12,\n",
       "  'genre': 'Fiction'},\n",
       " {'name': 'The Confession: A Novel',\n",
       "  'author': 'John Grisham',\n",
       "  'reviews': 3523,\n",
       "  'price': 13,\n",
       "  'genre': 'Fiction'},\n",
       " {'name': 'True Compass: A Memoir',\n",
       "  'author': 'Edward M. Kennedy',\n",
       "  'reviews': 438,\n",
       "  'price': 15,\n",
       "  'genre': 'Non Fiction'},\n",
       " {'name': 'The Getaway',\n",
       "  'author': 'Jeff Kinney',\n",
       "  'reviews': 5836,\n",
       "  'price': 0,\n",
       "  'genre': 'Fiction'},\n",
       " {'name': 'Difficult Riddles For Smart Kids: 300 Difficult Riddles And Brain Teasers Families Will Love (Books For Smart Kids)',\n",
       "  'author': 'M Prefontaine',\n",
       "  'reviews': 7955,\n",
       "  'price': 5,\n",
       "  'genre': 'Non Fiction'},\n",
       " {'name': 'Divine Soul Mind Body Healing And Transmission System: The Divine Way To Heal You, Humanity, Mother Earth, And All…',\n",
       "  'author': 'Zhi Gang Sha',\n",
       "  'reviews': 37,\n",
       "  'price': 6,\n",
       "  'genre': 'Non Fiction'},\n",
       " {'name': 'Diary Of A Wimpy Kid: The Long Haul',\n",
       "  'author': 'Jeff Kinney',\n",
       "  'reviews': 6540,\n",
       "  'price': 22,\n",
       "  'genre': 'Fiction'},\n",
       " {'name': 'Diary Of A Wimpy Kid: The Last Straw (Book 3)',\n",
       "  'author': 'Jeff Kinney',\n",
       "  'reviews': 3837,\n",
       "  'price': 15,\n",
       "  'genre': 'Fiction'},\n",
       " {'name': 'Cutting For Stone',\n",
       "  'author': 'Abraham Verghese',\n",
       "  'reviews': 4866,\n",
       "  'price': 11,\n",
       "  'genre': 'Fiction'},\n",
       " {'name': 'Harry Potter Paperback Box Set (Books 1-7)',\n",
       "  'author': 'J.K. Rowling',\n",
       "  'reviews': 13471,\n",
       "  'price': 52,\n",
       "  'genre': 'Fiction'},\n",
       " {'name': 'The Road To Serfdom: Text And Documents--The Definitive Edition (The Collected Works Of F. A. Hayek, Volume 2)',\n",
       "  'author': 'F. A. Hayek',\n",
       "  'reviews': 1204,\n",
       "  'price': 14,\n",
       "  'genre': 'Non Fiction'},\n",
       " {'name': 'The Five Dysfunctions Of A Team: A Leadership Fable',\n",
       "  'author': 'Patrick Lencioni',\n",
       "  'reviews': 3207,\n",
       "  'price': 6,\n",
       "  'genre': 'Non Fiction'},\n",
       " {'name': 'The Third Wheel (Diary Of A Wimpy Kid, Book 7)',\n",
       "  'author': 'Jeff Kinney',\n",
       "  'reviews': 6377,\n",
       "  'price': 7,\n",
       "  'genre': 'Fiction'},\n",
       " {'name': 'Mockingjay (The Hunger Games)',\n",
       "  'author': 'Suzanne Collins',\n",
       "  'reviews': 26741,\n",
       "  'price': 8,\n",
       "  'genre': 'Fiction'},\n",
       " {'name': 'You Are A Badass: How To Stop Doubting Your Greatness And Start Living An Awesome Life',\n",
       "  'author': 'Jen Sincero',\n",
       "  'reviews': 14331,\n",
       "  'price': 8,\n",
       "  'genre': 'Non Fiction'},\n",
       " {'name': 'Calm The F*Ck Down: An Irreverent Adult Coloring Book (Irreverent Book Series)',\n",
       "  'author': \"Sasha O'Hara\",\n",
       "  'reviews': 10369,\n",
       "  'price': 4,\n",
       "  'genre': 'Non Fiction'},\n",
       " {'name': 'The Help',\n",
       "  'author': 'Kathryn Stockett',\n",
       "  'reviews': 13871,\n",
       "  'price': 7,\n",
       "  'genre': 'Fiction'},\n",
       " {'name': 'Decision Points',\n",
       "  'author': 'George W. Bush',\n",
       "  'reviews': 2137,\n",
       "  'price': 17,\n",
       "  'genre': 'Non Fiction'},\n",
       " {'name': 'Looking For Alaska',\n",
       "  'author': 'John Green',\n",
       "  'reviews': 8491,\n",
       "  'price': 7,\n",
       "  'genre': 'Fiction'},\n",
       " {'name': 'Last Week Tonight With John Oliver Presents A Day In The Life Of Marlon Bundo (Better Bundo Book, Lgbt Children\\x92S Book)',\n",
       "  'author': 'Jill Twiss',\n",
       "  'reviews': 11881,\n",
       "  'price': 13,\n",
       "  'genre': 'Fiction'},\n",
       " {'name': 'Humans Of New York : Stories',\n",
       "  'author': 'Brandon Stanton',\n",
       "  'reviews': 2812,\n",
       "  'price': 17,\n",
       "  'genre': 'Non Fiction'},\n",
       " {'name': 'To Kill A Mockingbird',\n",
       "  'author': 'Harper Lee',\n",
       "  'reviews': 26234,\n",
       "  'price': 7,\n",
       "  'genre': 'Fiction'},\n",
       " {'name': 'Life',\n",
       "  'author': 'Keith Richards',\n",
       "  'reviews': 2752,\n",
       "  'price': 18,\n",
       "  'genre': 'Non Fiction'},\n",
       " {'name': 'Percy Jackson And The Olympians Paperback Boxed Set (Books 1-3)',\n",
       "  'author': 'Rick Riordan',\n",
       "  'reviews': 548,\n",
       "  'price': 2,\n",
       "  'genre': 'Fiction'},\n",
       " {'name': 'American Sniper: The Autobiography Of The Most Lethal Sniper In U.S. Military History',\n",
       "  'author': 'Chris Kyle',\n",
       "  'reviews': 15921,\n",
       "  'price': 9,\n",
       "  'genre': 'Non Fiction'},\n",
       " {'name': '12 Rules For Life: An Antidote To Chaos',\n",
       "  'author': 'Jordan B. Peterson',\n",
       "  'reviews': 18979,\n",
       "  'price': 15,\n",
       "  'genre': 'Non Fiction'},\n",
       " {'name': 'Rush Revere And The Brave Pilgrims: Time-Travel Adventures With Exceptional Americans (1)',\n",
       "  'author': 'Rush Limbaugh',\n",
       "  'reviews': 7150,\n",
       "  'price': 12,\n",
       "  'genre': 'Fiction'},\n",
       " {'name': 'Hillbilly Elegy: A Memoir Of A Family And Culture In Crisis',\n",
       "  'author': 'J. D. Vance',\n",
       "  'reviews': 15526,\n",
       "  'price': 14,\n",
       "  'genre': 'Non Fiction'},\n",
       " {'name': 'Little Bee: A Novel',\n",
       "  'author': 'Chris Cleave',\n",
       "  'reviews': 1467,\n",
       "  'price': 10,\n",
       "  'genre': 'Fiction'},\n",
       " {'name': 'The Mueller Report',\n",
       "  'author': 'The Washington Post',\n",
       "  'reviews': 2744,\n",
       "  'price': 12,\n",
       "  'genre': 'Non Fiction'},\n",
       " {'name': 'Adult Coloring Book: Stress Relieving Patterns',\n",
       "  'author': 'Blue Star Coloring',\n",
       "  'reviews': 2951,\n",
       "  'price': 6,\n",
       "  'genre': 'Non Fiction'},\n",
       " {'name': 'Love You Forever',\n",
       "  'author': 'Robert Munsch',\n",
       "  'reviews': 18613,\n",
       "  'price': 5,\n",
       "  'genre': 'Fiction'},\n",
       " {'name': 'A Gentleman In Moscow: A Novel',\n",
       "  'author': 'Amor Towles',\n",
       "  'reviews': 19699,\n",
       "  'price': 15,\n",
       "  'genre': 'Fiction'},\n",
       " {'name': 'The Tipping Point: How Little Things Can Make A Big Difference',\n",
       "  'author': 'Malcolm Gladwell',\n",
       "  'reviews': 3503,\n",
       "  'price': 9,\n",
       "  'genre': 'Non Fiction'},\n",
       " {'name': \"Balance (Angie'S Extreme Stress Menders)\",\n",
       "  'author': 'Angie Grace',\n",
       "  'reviews': 1909,\n",
       "  'price': 11,\n",
       "  'genre': 'Non Fiction'},\n",
       " {'name': 'The Last Olympian (Percy Jackson And The Olympians, Book 5)',\n",
       "  'author': 'Rick Riordan',\n",
       "  'reviews': 4628,\n",
       "  'price': 7,\n",
       "  'genre': 'Fiction'},\n",
       " {'name': 'Autobiography Of Mark Twain, Vol. 1',\n",
       "  'author': 'Mark Twain',\n",
       "  'reviews': 491,\n",
       "  'price': 14,\n",
       "  'genre': 'Non Fiction'},\n",
       " {'name': 'The Meltdown (Diary Of A Wimpy Kid Book 13)',\n",
       "  'author': 'Jeff Kinney',\n",
       "  'reviews': 5898,\n",
       "  'price': 8,\n",
       "  'genre': 'Fiction'},\n",
       " {'name': 'Little Blue Truck',\n",
       "  'author': 'Alice Schertle',\n",
       "  'reviews': 1884,\n",
       "  'price': 0,\n",
       "  'genre': 'Fiction'},\n",
       " {'name': 'First 100 Words',\n",
       "  'author': 'Roger Priddy',\n",
       "  'reviews': 17323,\n",
       "  'price': 4,\n",
       "  'genre': 'Non Fiction'},\n",
       " {'name': 'Magnolia Table: A Collection Of Recipes For Gathering',\n",
       "  'author': 'Joanna Gaines',\n",
       "  'reviews': 9867,\n",
       "  'price': 16,\n",
       "  'genre': 'Non Fiction'},\n",
       " {'name': 'Uninvited: Living Loved When You Feel Less Than, Left Out, And Lonely',\n",
       "  'author': 'Lysa TerKeurst',\n",
       "  'reviews': 4585,\n",
       "  'price': 9,\n",
       "  'genre': 'Non Fiction'},\n",
       " {'name': 'Good Days Start With Gratitude: A 52 Week Guide To Cultivate An Attitude Of Gratitude: Gratitude Journal',\n",
       "  'author': 'Pretty Simple Press',\n",
       "  'reviews': 10141,\n",
       "  'price': 6,\n",
       "  'genre': 'Non Fiction'},\n",
       " {'name': 'Thug Kitchen: The Official Cookbook: Eat Like You Give A F*Ck (Thug Kitchen Cookbooks)',\n",
       "  'author': 'Thug Kitchen',\n",
       "  'reviews': 11128,\n",
       "  'price': 23,\n",
       "  'genre': 'Non Fiction'},\n",
       " {'name': 'The Magnolia Story',\n",
       "  'author': 'Chip Gaines',\n",
       "  'reviews': 7861,\n",
       "  'price': 5,\n",
       "  'genre': 'Non Fiction'},\n",
       " {'name': 'Towers Of Midnight (Wheel Of Time, Book Thirteen)',\n",
       "  'author': 'Robert Jordan',\n",
       "  'reviews': 2282,\n",
       "  'price': 21,\n",
       "  'genre': 'Fiction'},\n",
       " {'name': 'Eat To Live: The Amazing Nutrient-Rich Program For Fast And Sustained Weight Loss, Revised Edition',\n",
       "  'author': 'Joel Fuhrman MD',\n",
       "  'reviews': 6346,\n",
       "  'price': 9,\n",
       "  'genre': 'Non Fiction'},\n",
       " {'name': 'The Going-To-Bed Book',\n",
       "  'author': 'Sandra Boynton',\n",
       "  'reviews': 5249,\n",
       "  'price': 5,\n",
       "  'genre': 'Fiction'},\n",
       " {'name': 'Water For Elephants: A Novel',\n",
       "  'author': 'Sara Gruen',\n",
       "  'reviews': 8958,\n",
       "  'price': 12,\n",
       "  'genre': 'Fiction'},\n",
       " {'name': 'Under The Dome: A Novel',\n",
       "  'author': 'Stephen King',\n",
       "  'reviews': 6740,\n",
       "  'price': 20,\n",
       "  'genre': 'Fiction'},\n",
       " {'name': 'Night (Night)',\n",
       "  'author': 'Elie Wiesel',\n",
       "  'reviews': 5178,\n",
       "  'price': 9,\n",
       "  'genre': 'Non Fiction'},\n",
       " {'name': 'Publication Manual Of The American Psychological Association, 6Th Edition',\n",
       "  'author': 'American Psychological Association',\n",
       "  'reviews': 8580,\n",
       "  'price': 46,\n",
       "  'genre': 'Non Fiction'},\n",
       " {'name': 'Switch: How To Change Things When Change Is Hard',\n",
       "  'author': 'Chip Heath',\n",
       "  'reviews': 1907,\n",
       "  'price': 13,\n",
       "  'genre': 'Non Fiction'},\n",
       " {'name': 'The 4 Hour Body: An Uncommon Guide To Rapid Fat Loss, Incredible Sex And Becoming Superhuman',\n",
       "  'author': 'Timothy Ferriss',\n",
       "  'reviews': 4587,\n",
       "  'price': 21,\n",
       "  'genre': 'Non Fiction'},\n",
       " {'name': 'Crazy Rich Asians (Crazy Rich Asians Trilogy)',\n",
       "  'author': 'Kevin Kwan',\n",
       "  'reviews': 6143,\n",
       "  'price': 8,\n",
       "  'genre': 'Fiction'},\n",
       " {'name': \"It'S Not Supposed To Be This Way: Finding Unexpected Strength When Disappointments Leave You Shattered\",\n",
       "  'author': 'Lysa TerKeurst',\n",
       "  'reviews': 7062,\n",
       "  'price': 12,\n",
       "  'genre': 'Non Fiction'},\n",
       " {'name': \"In The Garden Of Beasts: Love, Terror, And An American Family In Hitler'S Berlin\",\n",
       "  'author': 'Eric Larson',\n",
       "  'reviews': 4571,\n",
       "  'price': 21,\n",
       "  'genre': 'Non Fiction'},\n",
       " {'name': 'Obama: An Intimate Portrait',\n",
       "  'author': 'Pete Souza',\n",
       "  'reviews': 3192,\n",
       "  'price': 22,\n",
       "  'genre': 'Non Fiction'},\n",
       " {'name': 'I Am Confident, Brave & Beautiful: A Coloring Book For Girls',\n",
       "  'author': 'Hopscotch Girls',\n",
       "  'reviews': 9737,\n",
       "  'price': 7,\n",
       "  'genre': 'Non Fiction'},\n",
       " {'name': 'Thomas Jefferson: The Art Of Power',\n",
       "  'author': 'Jon Meacham',\n",
       "  'reviews': 1904,\n",
       "  'price': 23,\n",
       "  'genre': 'Non Fiction'},\n",
       " {'name': 'Orphan Train',\n",
       "  'author': 'Christina Baker Kline',\n",
       "  'reviews': 21930,\n",
       "  'price': 11,\n",
       "  'genre': 'Fiction'},\n",
       " {'name': 'Puppy Birthday To You! (Paw Patrol) (Little Golden Book)',\n",
       "  'author': 'Golden Books',\n",
       "  'reviews': 4757,\n",
       "  'price': 4,\n",
       "  'genre': 'Fiction'},\n",
       " {'name': 'Dog Man: Brawl Of The Wild: From The Creator Of Captain Underpants (Dog Man #6)',\n",
       "  'author': 'Dav Pilkey',\n",
       "  'reviews': 7235,\n",
       "  'price': 4,\n",
       "  'genre': 'Fiction'},\n",
       " {'name': 'The Girl Who Played With Fire (Millennium)',\n",
       "  'author': 'Stieg Larsson',\n",
       "  'reviews': 7251,\n",
       "  'price': 16,\n",
       "  'genre': 'Fiction'},\n",
       " {'name': 'The Instant Pot Electric Pressure Cooker Cookbook: Easy Recipes For Fast & Healthy Meals',\n",
       "  'author': 'Laurel Randolph',\n",
       "  'reviews': 7368,\n",
       "  'price': 7,\n",
       "  'genre': 'Non Fiction'},\n",
       " {'name': 'What If?: Serious Scientific Answers To Absurd Hypothetical Questions',\n",
       "  'author': 'Randall Munroe',\n",
       "  'reviews': 9292,\n",
       "  'price': 17,\n",
       "  'genre': 'Non Fiction'},\n",
       " {'name': 'The 7 Habits Of Highly Effective People: Powerful Lessons In Personal Change',\n",
       "  'author': 'Stephen R. Covey',\n",
       "  'reviews': 4725,\n",
       "  'price': 16,\n",
       "  'genre': 'Non Fiction'},\n",
       " {'name': 'The Maze Runner (Book 1)',\n",
       "  'author': 'James Dashner',\n",
       "  'reviews': 10101,\n",
       "  'price': 8,\n",
       "  'genre': 'Fiction'},\n",
       " {'name': 'Wonder',\n",
       "  'author': 'R. J. Palacio',\n",
       "  'reviews': 21625,\n",
       "  'price': 9,\n",
       "  'genre': 'Fiction'},\n",
       " {'name': 'The Great Gatsby',\n",
       "  'author': 'F. Scott Fitzgerald',\n",
       "  'reviews': 11616,\n",
       "  'price': 7,\n",
       "  'genre': 'Fiction'},\n",
       " {'name': 'Adult Coloring Books: A Coloring Book For Adults Featuring Mandalas And Henna Inspired Flowers, Animals, And Paisley…',\n",
       "  'author': 'Coloring Books for Adults',\n",
       "  'reviews': 2426,\n",
       "  'price': 8,\n",
       "  'genre': 'Non Fiction'},\n",
       " {'name': 'The Guardians: A Novel',\n",
       "  'author': 'John Grisham',\n",
       "  'reviews': 13609,\n",
       "  'price': 14,\n",
       "  'genre': 'Fiction'},\n",
       " {'name': 'The Love Dare',\n",
       "  'author': 'Stephen Kendrick',\n",
       "  'reviews': 1655,\n",
       "  'price': 13,\n",
       "  'genre': 'Non Fiction'},\n",
       " {'name': \"George Washington'S Sacred Fire\",\n",
       "  'author': 'Peter A. Lillback',\n",
       "  'reviews': 408,\n",
       "  'price': 20,\n",
       "  'genre': 'Non Fiction'},\n",
       " {'name': 'The Girl Who Played With Fire (Millennium Series)',\n",
       "  'author': 'Stieg Larsson',\n",
       "  'reviews': 7251,\n",
       "  'price': 9,\n",
       "  'genre': 'Fiction'},\n",
       " {'name': 'Astrophysics For People In A Hurry',\n",
       "  'author': 'Neil deGrasse Tyson',\n",
       "  'reviews': 9374,\n",
       "  'price': 9,\n",
       "  'genre': 'Non Fiction'},\n",
       " {'name': 'What Should Danny Do? (The Power To Choose Series)',\n",
       "  'author': 'Adir Levy',\n",
       "  'reviews': 8170,\n",
       "  'price': 13,\n",
       "  'genre': 'Fiction'},\n",
       " {'name': \"The Daily Show With Jon Stewart Presents Earth (The Book): A Visitor'S Guide To The Human Race\",\n",
       "  'author': 'Jon Stewart',\n",
       "  'reviews': 440,\n",
       "  'price': 11,\n",
       "  'genre': 'Non Fiction'},\n",
       " {'name': 'National Geographic Kids Why?: Over 1,111 Answers To Everything',\n",
       "  'author': 'Crispin Boyer',\n",
       "  'reviews': 5347,\n",
       "  'price': 16,\n",
       "  'genre': 'Non Fiction'},\n",
       " {'name': 'The Legend Of Zelda: Hyrule Historia',\n",
       "  'author': 'Patrick Thorpe',\n",
       "  'reviews': 5396,\n",
       "  'price': 20,\n",
       "  'genre': 'Fiction'},\n",
       " {'name': \"Grain Brain: The Surprising Truth About Wheat, Carbs, And Sugar--Your Brain'S Silent Killers\",\n",
       "  'author': 'David Perlmutter MD',\n",
       "  'reviews': 5972,\n",
       "  'price': 10,\n",
       "  'genre': 'Non Fiction'},\n",
       " {'name': 'Twilight (The Twilight Saga, Book 1)',\n",
       "  'author': 'Stephenie Meyer',\n",
       "  'reviews': 11676,\n",
       "  'price': 9,\n",
       "  'genre': 'Fiction'},\n",
       " {'name': 'A Dance With Dragons (A Song Of Ice And Fire)',\n",
       "  'author': 'George R.R. Martin',\n",
       "  'reviews': 12643,\n",
       "  'price': 11,\n",
       "  'genre': 'Fiction'},\n",
       " {'name': 'A Higher Loyalty: Truth, Lies, And Leadership',\n",
       "  'author': 'James Comey',\n",
       "  'reviews': 5983,\n",
       "  'price': 3,\n",
       "  'genre': 'Non Fiction'},\n",
       " {'name': 'How To Win Friends & Influence People',\n",
       "  'author': 'Dale Carnegie',\n",
       "  'reviews': 25001,\n",
       "  'price': 11,\n",
       "  'genre': 'Non Fiction'},\n",
       " {'name': 'Fantastic Beasts And Where To Find Them: The Original Screenplay (Harry Potter)',\n",
       "  'author': 'J.K. Rowling',\n",
       "  'reviews': 4370,\n",
       "  'price': 15,\n",
       "  'genre': 'Fiction'},\n",
       " {'name': 'Brown Bear, Brown Bear, What Do You See?',\n",
       "  'author': 'Bill Martin Jr.',\n",
       "  'reviews': 14344,\n",
       "  'price': 5,\n",
       "  'genre': 'Fiction'},\n",
       " {'name': 'Women Food And God: An Unexpected Path To Almost Everything',\n",
       "  'author': 'Geneen Roth',\n",
       "  'reviews': 1302,\n",
       "  'price': 11,\n",
       "  'genre': 'Non Fiction'},\n",
       " {'name': 'If Animals Kissed Good Night',\n",
       "  'author': 'Ann Whitford Paul',\n",
       "  'reviews': 16643,\n",
       "  'price': 4,\n",
       "  'genre': 'Fiction'},\n",
       " {'name': 'Ultimate Sticker Book: Frozen: More Than 60 Reusable Full-Color Stickers',\n",
       "  'author': 'DK',\n",
       "  'reviews': 2586,\n",
       "  'price': 5,\n",
       "  'genre': 'Fiction'},\n",
       " {'name': 'The Pioneer Woman Cooks: Food From My Frontier',\n",
       "  'author': 'Ree Drummond',\n",
       "  'reviews': 2876,\n",
       "  'price': 21,\n",
       "  'genre': 'Non Fiction'},\n",
       " {'name': 'National Geographic Little Kids First Big Book Of Why (National Geographic Little Kids First Big Books)',\n",
       "  'author': 'Amy Shields',\n",
       "  'reviews': 7866,\n",
       "  'price': 11,\n",
       "  'genre': 'Non Fiction'},\n",
       " {'name': \"Can'T Hurt Me: Master Your Mind And Defy The Odds\",\n",
       "  'author': 'David Goggins',\n",
       "  'reviews': 16244,\n",
       "  'price': 18,\n",
       "  'genre': 'Non Fiction'},\n",
       " {'name': 'Liberty And Tyranny: A Conservative Manifesto',\n",
       "  'author': 'Mark R. Levin',\n",
       "  'reviews': 3828,\n",
       "  'price': 15,\n",
       "  'genre': 'Non Fiction'},\n",
       " {'name': 'School Zone - Big Preschool Workbook - Ages 4 And Up, Colors, Shapes, Numbers 1-10, Alphabet, Pre-Writing, Pre-Reading…',\n",
       "  'author': 'School Zone',\n",
       "  'reviews': 23047,\n",
       "  'price': 6,\n",
       "  'genre': 'Non Fiction'},\n",
       " {'name': 'Salt, Fat, Acid, Heat: Mastering The Elements Of Good Cooking',\n",
       "  'author': 'Samin Nosrat',\n",
       "  'reviews': 7802,\n",
       "  'price': 20,\n",
       "  'genre': 'Non Fiction'},\n",
       " {'name': 'Where The Wild Things Are',\n",
       "  'author': 'Maurice Sendak',\n",
       "  'reviews': 9967,\n",
       "  'price': 13,\n",
       "  'genre': 'Fiction'},\n",
       " {'name': 'Harry Potter And The Prisoner Of Azkaban: The Illustrated Edition (Harry Potter, Book 3)',\n",
       "  'author': 'J.K. Rowling',\n",
       "  'reviews': 3146,\n",
       "  'price': 30,\n",
       "  'genre': 'Fiction'},\n",
       " {'name': \"Killing Lincoln: The Shocking Assassination That Changed America Forever (Bill O'Reilly'S Killing Series)\",\n",
       "  'author': \"Bill O'Reilly\",\n",
       "  'reviews': 9342,\n",
       "  'price': 10,\n",
       "  'genre': 'Non Fiction'},\n",
       " {'name': 'The Constitution Of The United States',\n",
       "  'author': 'Delegates of the Constitutional\\x85',\n",
       "  'reviews': 2774,\n",
       "  'price': 0,\n",
       "  'genre': 'Non Fiction'},\n",
       " {'name': 'The Big Short: Inside The Doomsday Machine',\n",
       "  'author': 'Michael Lewis',\n",
       "  'reviews': 3536,\n",
       "  'price': 17,\n",
       "  'genre': 'Non Fiction'},\n",
       " {'name': 'Knock-Knock Jokes For Kids',\n",
       "  'author': 'Rob Elliott',\n",
       "  'reviews': 3673,\n",
       "  'price': 4,\n",
       "  'genre': 'Non Fiction'},\n",
       " {'name': 'Super Freakonomics: Global Cooling, Patriotic Prostitutes, And Why Suicide Bombers Should Buy Life Insurance',\n",
       "  'author': 'Steven D. Levitt',\n",
       "  'reviews': 1583,\n",
       "  'price': 18,\n",
       "  'genre': 'Non Fiction'},\n",
       " {'name': \"George Washington'S Secret Six: The Spy Ring That Saved The American Revolution\",\n",
       "  'author': 'Brian Kilmeade',\n",
       "  'reviews': 4799,\n",
       "  'price': 16,\n",
       "  'genre': 'Non Fiction'},\n",
       " {'name': \"Oh, The Places You'Ll Go!\",\n",
       "  'author': 'Dr. Seuss',\n",
       "  'reviews': 21834,\n",
       "  'price': 8,\n",
       "  'genre': 'Fiction'},\n",
       " {'name': 'And The Mountains Echoed',\n",
       "  'author': 'Khaled Hosseini',\n",
       "  'reviews': 12159,\n",
       "  'price': 13,\n",
       "  'genre': 'Fiction'},\n",
       " {'name': 'Creative Haven Owls Coloring Book (Adult Coloring)',\n",
       "  'author': 'Marjorie Sarnat',\n",
       "  'reviews': 3871,\n",
       "  'price': 5,\n",
       "  'genre': 'Non Fiction'},\n",
       " {'name': 'Eat This Not That! Supermarket Survival Guide: The No-Diet Weight Loss Solution',\n",
       "  'author': 'David Zinczenko',\n",
       "  'reviews': 720,\n",
       "  'price': 1,\n",
       "  'genre': 'Non Fiction'},\n",
       " {'name': 'The Complete Ketogenic Diet For Beginners: Your Essential Guide To Living The Keto Lifestyle',\n",
       "  'author': 'Amy Ramos',\n",
       "  'reviews': 13061,\n",
       "  'price': 6,\n",
       "  'genre': 'Non Fiction'},\n",
       " {'name': 'Instant Pot Pressure Cooker Cookbook: 500 Everyday Recipes For Beginners And Advanced Users. Try Easy And Healthy…',\n",
       "  'author': 'Jennifer Smith',\n",
       "  'reviews': 7396,\n",
       "  'price': 13,\n",
       "  'genre': 'Non Fiction'},\n",
       " {'name': 'Little Fires Everywhere',\n",
       "  'author': 'Celeste Ng',\n",
       "  'reviews': 25706,\n",
       "  'price': 12,\n",
       "  'genre': 'Fiction'},\n",
       " {'name': 'Goodnight, Goodnight Construction Site (Hardcover Books For Toddlers, Preschool Books For Kids)',\n",
       "  'author': 'Sherri Duskey Rinker',\n",
       "  'reviews': 7038,\n",
       "  'price': 7,\n",
       "  'genre': 'Fiction'},\n",
       " {'name': \"Killing The Rising Sun: How America Vanquished World War Ii Japan (Bill O'Reilly'S Killing Series)\",\n",
       "  'author': \"Bill O'Reilly\",\n",
       "  'reviews': 8916,\n",
       "  'price': 6,\n",
       "  'genre': 'Non Fiction'},\n",
       " {'name': 'Enchanted Forest: An Inky Quest And Coloring Book (Activity Books, Mindfulness And Meditation, Illustrated Floral Prints…',\n",
       "  'author': 'Johanna Basford',\n",
       "  'reviews': 5413,\n",
       "  'price': 9,\n",
       "  'genre': 'Non Fiction'},\n",
       " {'name': 'Fifty Shades Of Grey: Book One Of The Fifty Shades Trilogy (Fifty Shades Of Grey Series)',\n",
       "  'author': 'E L James',\n",
       "  'reviews': 47265,\n",
       "  'price': 14,\n",
       "  'genre': 'Fiction'},\n",
       " {'name': 'One Thousand Gifts: A Dare To Live Fully Right Where You Are',\n",
       "  'author': 'Ann Voskamp',\n",
       "  'reviews': 3163,\n",
       "  'price': 13,\n",
       "  'genre': 'Non Fiction'},\n",
       " {'name': \"Lettering And Modern Calligraphy: A Beginner'S Guide: Learn Hand Lettering And Brush Lettering\",\n",
       "  'author': 'Paper Peony Press',\n",
       "  'reviews': 7550,\n",
       "  'price': 6,\n",
       "  'genre': 'Non Fiction'},\n",
       " {'name': 'No Easy Day: The Autobiography Of A Navy Seal: The Firsthand Account Of The Mission That Killed Osama Bin Laden',\n",
       "  'author': 'Mark Owen',\n",
       "  'reviews': 8093,\n",
       "  'price': 14,\n",
       "  'genre': 'Non Fiction'},\n",
       " {'name': 'Capital In The Twenty First Century',\n",
       "  'author': 'Thomas Piketty',\n",
       "  'reviews': 2884,\n",
       "  'price': 28,\n",
       "  'genre': 'Non Fiction'},\n",
       " {'name': 'All The Light We Cannot See',\n",
       "  'author': 'Anthony Doerr',\n",
       "  'reviews': 36348,\n",
       "  'price': 14,\n",
       "  'genre': 'Fiction'},\n",
       " {'name': 'The Book Of Basketball: The Nba According To The Sports Guy',\n",
       "  'author': 'Bill Simmons',\n",
       "  'reviews': 858,\n",
       "  'price': 53,\n",
       "  'genre': 'Non Fiction'},\n",
       " {'name': 'Old School (Diary Of A Wimpy Kid #10)',\n",
       "  'author': 'Jeff Kinney',\n",
       "  'reviews': 6169,\n",
       "  'price': 7,\n",
       "  'genre': 'Fiction'},\n",
       " {'name': 'The Paris Wife: A Novel',\n",
       "  'author': 'Paula McLain',\n",
       "  'reviews': 3759,\n",
       "  'price': 16,\n",
       "  'genre': 'Fiction'},\n",
       " {'name': 'The Unofficial Harry Potter Cookbook: From Cauldron Cakes To Knickerbocker Glory--More Than 150 Magical Recipes For…',\n",
       "  'author': 'Dinah Bucholz',\n",
       "  'reviews': 9030,\n",
       "  'price': 10,\n",
       "  'genre': 'Non Fiction'},\n",
       " {'name': 'Sycamore Row (Jake Brigance)',\n",
       "  'author': 'John Grisham',\n",
       "  'reviews': 23114,\n",
       "  'price': 18,\n",
       "  'genre': 'Fiction'},\n",
       " {'name': 'Fifty Shades Darker',\n",
       "  'author': 'E L James',\n",
       "  'reviews': 23631,\n",
       "  'price': 7,\n",
       "  'genre': 'Fiction'},\n",
       " {'name': 'The Hunger Games Trilogy Boxed Set (1)',\n",
       "  'author': 'Suzanne Collins',\n",
       "  'reviews': 16949,\n",
       "  'price': 30,\n",
       "  'genre': 'Fiction'},\n",
       " {'name': 'Inheritance: Book Iv (Inheritance Cycle)',\n",
       "  'author': 'Christopher Paolini',\n",
       "  'reviews': 5299,\n",
       "  'price': 20,\n",
       "  'genre': 'Fiction'},\n",
       " {'name': 'The Immortal Life Of Henrietta Lacks',\n",
       "  'author': 'Rebecca Skloot',\n",
       "  'reviews': 9289,\n",
       "  'price': 9,\n",
       "  'genre': 'Non Fiction'},\n",
       " {'name': 'Guts',\n",
       "  'author': 'Raina Telgemeier',\n",
       "  'reviews': 5476,\n",
       "  'price': 7,\n",
       "  'genre': 'Non Fiction'},\n",
       " {'name': 'Act Like A Lady, Think Like A Man: What Men Really Think About Love, Relationships, Intimacy, And Commitment',\n",
       "  'author': 'Steve Harvey',\n",
       "  'reviews': 5013,\n",
       "  'price': 17,\n",
       "  'genre': 'Non Fiction'},\n",
       " {'name': 'Creative Haven Creative Cats Coloring Book (Adult Coloring)',\n",
       "  'author': 'Marjorie Sarnat',\n",
       "  'reviews': 4022,\n",
       "  'price': 4,\n",
       "  'genre': 'Non Fiction'},\n",
       " {'name': 'Thinking, Fast And Slow',\n",
       "  'author': 'Daniel Kahneman',\n",
       "  'reviews': 11034,\n",
       "  'price': 19,\n",
       "  'genre': 'Non Fiction'},\n",
       " {'name': 'Becoming',\n",
       "  'author': 'Michelle Obama',\n",
       "  'reviews': 61133,\n",
       "  'price': 11,\n",
       "  'genre': 'Non Fiction'},\n",
       " {'name': 'Soul Healing Miracles: Ancient And New Sacred Wisdom, Knowledge, And Practical Techniques For Healing The Spiritual…',\n",
       "  'author': 'Zhi Gang Sha',\n",
       "  'reviews': 220,\n",
       "  'price': 17,\n",
       "  'genre': 'Non Fiction'},\n",
       " {'name': 'Game Of Thrones Boxed Set: A Game Of Thrones/A Clash Of Kings/A Storm Of Swords/A Feast For Crows',\n",
       "  'author': 'George R.R. Martin',\n",
       "  'reviews': 5594,\n",
       "  'price': 5,\n",
       "  'genre': 'Fiction'},\n",
       " {'name': 'Crazy Love: Overwhelmed By A Relentless God',\n",
       "  'author': 'Francis Chan',\n",
       "  'reviews': 1542,\n",
       "  'price': 14,\n",
       "  'genre': 'Non Fiction'},\n",
       " {'name': 'A Man Called Ove: A Novel',\n",
       "  'author': 'Fredrik Backman',\n",
       "  'reviews': 23848,\n",
       "  'price': 8,\n",
       "  'genre': 'Fiction'},\n",
       " {'name': 'Eat This, Not That! Thousands Of Simple Food Swaps That Can Save You 10, 20, 30 Pounds--Or More!',\n",
       "  'author': 'David Zinczenko',\n",
       "  'reviews': 956,\n",
       "  'price': 14,\n",
       "  'genre': 'Non Fiction'},\n",
       " {'name': 'The Blood Sugar Solution: The Ultrahealthy Program For Losing Weight, Preventing Disease, And Feeling Great Now!',\n",
       "  'author': 'Mark Hyman M.D.',\n",
       "  'reviews': 1789,\n",
       "  'price': 14,\n",
       "  'genre': 'Non Fiction'},\n",
       " {'name': 'What Pet Should I Get? (Classic Seuss)',\n",
       "  'author': 'Dr. Seuss',\n",
       "  'reviews': 1873,\n",
       "  'price': 14,\n",
       "  'genre': 'Fiction'},\n",
       " {'name': 'Double Down (Diary Of A Wimpy Kid #11)',\n",
       "  'author': 'Jeff Kinney',\n",
       "  'reviews': 5118,\n",
       "  'price': 20,\n",
       "  'genre': 'Fiction'},\n",
       " {'name': 'Unfreedom Of The Press',\n",
       "  'author': 'Mark R. Levin',\n",
       "  'reviews': 5956,\n",
       "  'price': 11,\n",
       "  'genre': 'Non Fiction'}]"
      ]
     },
     "execution_count": 593,
     "metadata": {},
     "output_type": "execute_result"
    }
   ],
   "source": [
    "train_dicts"
   ]
  },
  {
   "cell_type": "code",
   "execution_count": 594,
   "id": "459e6071",
   "metadata": {},
   "outputs": [],
   "source": [
    "dv = DictVectorizer(sparse=False)\n",
    "X_train = dv.fit_transform(train_dicts)"
   ]
  },
  {
   "cell_type": "code",
   "execution_count": 595,
   "id": "d5049597",
   "metadata": {},
   "outputs": [
    {
     "data": {
      "text/plain": [
       "array([[   0.,    0.,    0., ...,    0.,   15., 3490.],\n",
       "       [   0.,    0.,    0., ...,    0.,   20.,  637.],\n",
       "       [   0.,    0.,    0., ...,    0.,   12., 6669.],\n",
       "       ...,\n",
       "       [   0.,    0.,    0., ...,    0.,   14., 1873.],\n",
       "       [   0.,    0.,    0., ...,    0.,   20., 5118.],\n",
       "       [   0.,    0.,    0., ...,    0.,   11., 5956.]])"
      ]
     },
     "execution_count": 595,
     "metadata": {},
     "output_type": "execute_result"
    }
   ],
   "source": [
    "X_train"
   ]
  },
  {
   "cell_type": "code",
   "execution_count": 596,
   "id": "72a64805",
   "metadata": {},
   "outputs": [],
   "source": [
    "val_dicts = df_val.fillna(0).to_dict(orient = 'records')\n",
    "X_val = dv.transform(val_dicts)"
   ]
  },
  {
   "cell_type": "markdown",
   "id": "b961b9a1",
   "metadata": {},
   "source": [
    "Create linear regression model"
   ]
  },
  {
   "cell_type": "code",
   "execution_count": 597,
   "id": "1a8e7277",
   "metadata": {},
   "outputs": [],
   "source": [
    "from sklearn.linear_model import LinearRegression"
   ]
  },
  {
   "cell_type": "code",
   "execution_count": 598,
   "id": "7c782b30",
   "metadata": {},
   "outputs": [],
   "source": [
    "#Instantiate a linear regression"
   ]
  },
  {
   "cell_type": "code",
   "execution_count": 599,
   "id": "3c47e1e4",
   "metadata": {},
   "outputs": [],
   "source": [
    "lreg = LinearRegression()"
   ]
  },
  {
   "cell_type": "code",
   "execution_count": 600,
   "id": "8cb63977",
   "metadata": {},
   "outputs": [],
   "source": [
    "#fit it to the training data set"
   ]
  },
  {
   "cell_type": "code",
   "execution_count": 601,
   "id": "489cbf54",
   "metadata": {},
   "outputs": [
    {
     "data": {
      "text/plain": [
       "LinearRegression()"
      ]
     },
     "execution_count": 601,
     "metadata": {},
     "output_type": "execute_result"
    }
   ],
   "source": [
    "lreg.fit(X_train, y_train)"
   ]
  },
  {
   "cell_type": "code",
   "execution_count": 602,
   "id": "42a8b835",
   "metadata": {},
   "outputs": [],
   "source": [
    "#Predict using the linear model"
   ]
  },
  {
   "cell_type": "code",
   "execution_count": 603,
   "id": "d7be9cc8",
   "metadata": {},
   "outputs": [],
   "source": [
    "y_pred = lreg.predict(X_val)"
   ]
  },
  {
   "cell_type": "code",
   "execution_count": 604,
   "id": "ddb14cfb",
   "metadata": {
    "scrolled": true
   },
   "outputs": [
    {
     "data": {
      "text/plain": [
       "array([4.61597857, 4.61944418, 4.6087915 , 4.61807366, 4.59859022,\n",
       "       4.6182567 , 4.59865762, 4.59780026, 4.65551073, 4.60057039,\n",
       "       4.5407164 , 4.83090661, 4.5970632 , 4.60099729, 4.63518213,\n",
       "       4.77011756, 4.61820774, 4.59815845, 4.60608186, 4.66020608,\n",
       "       4.65703058, 4.53353649, 4.53162518, 4.76647603, 4.60276636,\n",
       "       4.75957609, 4.62052231, 4.59931805, 4.69784393, 4.45151433,\n",
       "       4.625854  , 4.63288838, 4.59783791, 4.62942485, 4.60156585,\n",
       "       4.65415938, 4.62223555, 4.50463075, 4.60041452, 4.59396842,\n",
       "       4.6010104 , 4.60046367, 4.60042173, 4.63509354, 4.34009701,\n",
       "       4.617797  , 4.62250638, 4.59920195, 4.60126235, 4.61610774,\n",
       "       4.50472481, 4.5992959 , 4.70311667, 4.71467648, 4.59861391,\n",
       "       4.59658954, 4.77241515, 4.77103514, 4.59615094, 4.59674439,\n",
       "       4.60040015, 4.67452982, 4.60078172, 4.60665081, 4.59510487,\n",
       "       4.59663463, 4.65207871, 4.83063905, 4.61871629, 4.59653117])"
      ]
     },
     "execution_count": 604,
     "metadata": {},
     "output_type": "execute_result"
    }
   ],
   "source": [
    "y_pred"
   ]
  },
  {
   "cell_type": "code",
   "execution_count": 605,
   "id": "e1787698",
   "metadata": {},
   "outputs": [
    {
     "data": {
      "text/plain": [
       "0.2622495356225906"
      ]
     },
     "execution_count": 605,
     "metadata": {},
     "output_type": "execute_result"
    }
   ],
   "source": [
    "rmse_LinearReg = np.sqrt(mean_squared_error(y_val, y_pred))\n",
    "rmse_LinearReg"
   ]
  },
  {
   "cell_type": "code",
   "execution_count": 606,
   "id": "1bd9cb2b",
   "metadata": {
    "scrolled": false
   },
   "outputs": [
    {
     "data": {
      "text/plain": [
       "1.0"
      ]
     },
     "execution_count": 606,
     "metadata": {},
     "output_type": "execute_result"
    }
   ],
   "source": [
    "lreg.score(X_train, y_train)"
   ]
  },
  {
   "cell_type": "markdown",
   "id": "ea4a3960",
   "metadata": {},
   "source": [
    "Create Ridge regression model"
   ]
  },
  {
   "cell_type": "code",
   "execution_count": 607,
   "id": "f691286a",
   "metadata": {},
   "outputs": [],
   "source": [
    "from sklearn.linear_model import Ridge"
   ]
  },
  {
   "cell_type": "code",
   "execution_count": 608,
   "id": "1ccf6552",
   "metadata": {},
   "outputs": [],
   "source": [
    "#instantiate ridge regression"
   ]
  },
  {
   "cell_type": "code",
   "execution_count": 609,
   "id": "3702bf23",
   "metadata": {},
   "outputs": [],
   "source": [
    "rrg= Ridge(random_state=28)"
   ]
  },
  {
   "cell_type": "code",
   "execution_count": 610,
   "id": "4d8acc5f",
   "metadata": {},
   "outputs": [],
   "source": [
    "#fit to training data set"
   ]
  },
  {
   "cell_type": "code",
   "execution_count": 611,
   "id": "6a010c34",
   "metadata": {},
   "outputs": [
    {
     "data": {
      "text/plain": [
       "Ridge(random_state=28)"
      ]
     },
     "execution_count": 611,
     "metadata": {},
     "output_type": "execute_result"
    }
   ],
   "source": [
    "rrg.fit(X_train, y_train)"
   ]
  },
  {
   "cell_type": "code",
   "execution_count": 612,
   "id": "3fe0b984",
   "metadata": {},
   "outputs": [
    {
     "data": {
      "text/plain": [
       "array([4.62823116, 4.6290309 , 4.60015599, 4.62885704, 4.60088884,\n",
       "       4.6285317 , 4.60163895, 4.60142296, 4.64957113, 4.60084907,\n",
       "       4.54898598, 4.79063461, 4.60186304, 4.60096024, 4.63107201,\n",
       "       4.75110128, 4.62861873, 4.59991643, 4.60062237, 4.64980716,\n",
       "       4.65023162, 4.55130813, 4.54948569, 4.7605753 , 4.60129565,\n",
       "       4.71956409, 4.62450497, 4.60133507, 4.66767529, 4.50053763,\n",
       "       4.62459782, 4.63079922, 4.60048613, 4.63173559, 4.60081962,\n",
       "       4.65338033, 4.62580954, 4.53282414, 4.59862242, 4.60214403,\n",
       "       4.60093693, 4.60103875, 4.60024337, 4.6273141 , 4.39117597,\n",
       "       4.62934874, 4.61923883, 4.59893169, 4.60048914, 4.62887148,\n",
       "       4.53819253, 4.60050453, 4.66735919, 4.68506339, 4.60109076,\n",
       "       4.60183499, 4.75049733, 4.75943152, 4.6008747 , 4.60155977,\n",
       "       4.60115164, 4.67167232, 4.59786374, 4.61979568, 4.60186401,\n",
       "       4.60175484, 4.65359873, 4.79111015, 4.62597505, 4.60193872])"
      ]
     },
     "execution_count": 612,
     "metadata": {},
     "output_type": "execute_result"
    }
   ],
   "source": [
    "y_pred = rrg.predict(X_val)\n",
    "y_pred"
   ]
  },
  {
   "cell_type": "code",
   "execution_count": 613,
   "id": "c6b985c4",
   "metadata": {},
   "outputs": [
    {
     "data": {
      "text/plain": [
       "0.2604948362483331"
      ]
     },
     "execution_count": 613,
     "metadata": {},
     "output_type": "execute_result"
    }
   ],
   "source": [
    "rmse_Ridge= np.sqrt(mean_squared_error(y_val, y_pred))\n",
    "rmse_Ridge"
   ]
  },
  {
   "cell_type": "markdown",
   "id": "22657ec1",
   "metadata": {},
   "source": [
    "Creat Lasso regression model"
   ]
  },
  {
   "cell_type": "code",
   "execution_count": 614,
   "id": "04ac3e57",
   "metadata": {},
   "outputs": [],
   "source": [
    "from sklearn.linear_model import Lasso"
   ]
  },
  {
   "cell_type": "code",
   "execution_count": 615,
   "id": "1553a5d4",
   "metadata": {},
   "outputs": [],
   "source": [
    "#instantiate and fit Lasso to data"
   ]
  },
  {
   "cell_type": "code",
   "execution_count": 616,
   "id": "ad1de28b",
   "metadata": {},
   "outputs": [
    {
     "data": {
      "text/plain": [
       "Lasso(random_state=28)"
      ]
     },
     "execution_count": 616,
     "metadata": {},
     "output_type": "execute_result"
    }
   ],
   "source": [
    "lgr= Lasso(random_state=28)\n",
    "\n",
    "lgr.fit(X_train, y_train)"
   ]
  },
  {
   "cell_type": "code",
   "execution_count": 617,
   "id": "fe4113b7",
   "metadata": {
    "scrolled": true
   },
   "outputs": [
    {
     "data": {
      "text/plain": [
       "array([4.61586782, 4.61996031, 4.62011939, 4.61882788, 4.61860776,\n",
       "       4.6177896 , 4.62119421, 4.62011982, 4.60809299, 4.61925093,\n",
       "       4.6134671 , 4.61647789, 4.62133179, 4.61979823, 4.6195364 ,\n",
       "       4.62005877, 4.61806734, 4.61511932, 4.62064519, 4.61700584,\n",
       "       4.61720533, 4.61856778, 4.61159648, 4.61996633, 4.62163876,\n",
       "       4.62025396, 4.60493861, 4.6204169 , 4.62042937, 4.62002867,\n",
       "       4.60735266, 4.61770319, 4.61693749, 4.6195364 , 4.61954199,\n",
       "       4.62107598, 4.61006465, 4.61742073, 4.61232091, 4.6210734 ,\n",
       "       4.61972385, 4.61985627, 4.61712536, 4.62025697, 4.61589964,\n",
       "       4.62039712, 4.58774705, 4.61216915, 4.61829477, 4.61810388,\n",
       "       4.61509094, 4.61757378, 4.62027975, 4.61546197, 4.62170067,\n",
       "       4.62104975, 4.6189014 , 4.61785624, 4.61760001, 4.62017141,\n",
       "       4.62021655, 4.61736355, 4.60914589, 4.62033736, 4.62056479,\n",
       "       4.62079395, 4.62100289, 4.61799554, 4.6092452 , 4.6213808 ])"
      ]
     },
     "execution_count": 617,
     "metadata": {},
     "output_type": "execute_result"
    }
   ],
   "source": [
    "y_pred= lgr.predict(X_val)\n",
    "y_pred"
   ]
  },
  {
   "cell_type": "code",
   "execution_count": 618,
   "id": "fec5d45a",
   "metadata": {
    "scrolled": true
   },
   "outputs": [
    {
     "data": {
      "text/plain": [
       "0.2609866021678631"
      ]
     },
     "execution_count": 618,
     "metadata": {},
     "output_type": "execute_result"
    }
   ],
   "source": [
    "rmse_Lasso=np.sqrt(mean_squared_error(y_val, y_pred))\n",
    "rmse_Lasso"
   ]
  },
  {
   "cell_type": "markdown",
   "id": "74236c22",
   "metadata": {},
   "source": [
    "Create ElasticNet model"
   ]
  },
  {
   "cell_type": "code",
   "execution_count": 619,
   "id": "b6751368",
   "metadata": {},
   "outputs": [],
   "source": [
    "from sklearn.linear_model import ElasticNet"
   ]
  },
  {
   "cell_type": "code",
   "execution_count": 620,
   "id": "bee2976d",
   "metadata": {},
   "outputs": [],
   "source": [
    "#instantiate and fit ElasticNet to data"
   ]
  },
  {
   "cell_type": "code",
   "execution_count": 621,
   "id": "1d57f612",
   "metadata": {},
   "outputs": [
    {
     "data": {
      "text/plain": [
       "ElasticNet(random_state=28)"
      ]
     },
     "execution_count": 621,
     "metadata": {},
     "output_type": "execute_result"
    }
   ],
   "source": [
    "eln= ElasticNet(random_state=28)\n",
    "\n",
    "eln.fit(X_train, y_train)"
   ]
  },
  {
   "cell_type": "code",
   "execution_count": 622,
   "id": "b855759d",
   "metadata": {},
   "outputs": [
    {
     "data": {
      "text/plain": [
       "array([4.61585131, 4.61998239, 4.62014297, 4.61883928, 4.61861708,\n",
       "       4.61779121, 4.62122792, 4.6201434 , 4.60800317, 4.61926632,\n",
       "       4.61342795, 4.61646713, 4.6213668 , 4.61981878, 4.61955448,\n",
       "       4.62008177, 4.61807157, 4.61509575, 4.62067373, 4.61700006,\n",
       "       4.61720143, 4.61857672, 4.61153969, 4.61998847, 4.62167666,\n",
       "       4.6202788 , 4.60481903, 4.62044328, 4.62045587, 4.62005139,\n",
       "       4.60725585, 4.61770398, 4.61693106, 4.61955448, 4.61956013,\n",
       "       4.62110858, 4.60999341, 4.61741886, 4.61227095, 4.62110597,\n",
       "       4.6197437 , 4.61987737, 4.61712071, 4.62028184, 4.61588342,\n",
       "       4.62042332, 4.58746537, 4.61211776, 4.61830114, 4.61810845,\n",
       "       4.6150671 , 4.61757335, 4.62030484, 4.61544163, 4.62173915,\n",
       "       4.6210821 , 4.61891349, 4.61785848, 4.61759983, 4.62019548,\n",
       "       4.62024105, 4.61736114, 4.60906599, 4.62036299, 4.62059257,\n",
       "       4.62082388, 4.6210348 , 4.61799909, 4.60916624, 4.62141627])"
      ]
     },
     "execution_count": 622,
     "metadata": {},
     "output_type": "execute_result"
    }
   ],
   "source": [
    "y_pred= eln.predict(X_val)\n",
    "y_pred"
   ]
  },
  {
   "cell_type": "code",
   "execution_count": 623,
   "id": "972b98e9",
   "metadata": {},
   "outputs": [
    {
     "data": {
      "text/plain": [
       "0.260973364530911"
      ]
     },
     "execution_count": 623,
     "metadata": {},
     "output_type": "execute_result"
    }
   ],
   "source": [
    "rmse_ElasticNet=np.sqrt(mean_squared_error(y_val, y_pred))\n",
    "rmse_ElasticNet"
   ]
  },
  {
   "cell_type": "markdown",
   "id": "0ae69fdf",
   "metadata": {},
   "source": [
    "Create Decision Tree Regressor"
   ]
  },
  {
   "cell_type": "code",
   "execution_count": 624,
   "id": "31e45e07",
   "metadata": {},
   "outputs": [],
   "source": [
    "#import decision tree classifier and roc_auc_score\n",
    "from sklearn.tree import DecisionTreeRegressor"
   ]
  },
  {
   "cell_type": "code",
   "execution_count": 625,
   "id": "bcdf4915",
   "metadata": {},
   "outputs": [
    {
     "data": {
      "text/plain": [
       "array([[   0.,    0.,    0., ...,    0.,   15., 3490.],\n",
       "       [   0.,    0.,    0., ...,    0.,   20.,  637.],\n",
       "       [   0.,    0.,    0., ...,    0.,   12., 6669.],\n",
       "       ...,\n",
       "       [   0.,    0.,    0., ...,    0.,   14., 1873.],\n",
       "       [   0.,    0.,    0., ...,    0.,   20., 5118.],\n",
       "       [   0.,    0.,    0., ...,    0.,   11., 5956.]])"
      ]
     },
     "execution_count": 625,
     "metadata": {},
     "output_type": "execute_result"
    }
   ],
   "source": [
    "X_train"
   ]
  },
  {
   "cell_type": "code",
   "execution_count": 626,
   "id": "12a77a0f",
   "metadata": {},
   "outputs": [],
   "source": [
    "#instantiate and fit decision tree to data"
   ]
  },
  {
   "cell_type": "code",
   "execution_count": 627,
   "id": "3b907362",
   "metadata": {},
   "outputs": [
    {
     "data": {
      "text/plain": [
       "DecisionTreeRegressor(random_state=28)"
      ]
     },
     "execution_count": 627,
     "metadata": {},
     "output_type": "execute_result"
    }
   ],
   "source": [
    "dtr= DecisionTreeRegressor( random_state=28)\n",
    "\n",
    "dtr.fit(X_train, y_train)"
   ]
  },
  {
   "cell_type": "code",
   "execution_count": 628,
   "id": "38148bed",
   "metadata": {},
   "outputs": [],
   "source": [
    "y_pred = dtr.predict(X_val)"
   ]
  },
  {
   "cell_type": "code",
   "execution_count": 629,
   "id": "0b0763bf",
   "metadata": {},
   "outputs": [
    {
     "data": {
      "text/plain": [
       "array([4.7, 4.6, 4.5, 4.7, 4.8, 4.8, 4.6, 4.6, 4.7, 4.5, 4.8, 4.9, 4.7,\n",
       "       4.6, 4.6, 4.8, 4.7, 4.7, 4.5, 4.6, 4.6, 4.7, 4.7, 4.8, 4.4, 4.9,\n",
       "       4.7, 4.6, 4.6, 4.7, 4.7, 4.8, 4.7, 4.6, 4.6, 4.7, 4.6, 4.4, 4.6,\n",
       "       4.6, 4.6, 4.6, 4.6, 4.5, 4.5, 4.6, 4.8, 4.6, 4.6, 4.6, 4.7, 4.6,\n",
       "       4.7, 4.7, 4.4, 4.1, 4.8, 4.8, 4.8, 4.6, 4.6, 4.6, 4.7, 4.8, 4.6,\n",
       "       4.5, 4.6, 4.9, 4.8, 4.6])"
      ]
     },
     "execution_count": 629,
     "metadata": {},
     "output_type": "execute_result"
    }
   ],
   "source": [
    "y_pred"
   ]
  },
  {
   "cell_type": "code",
   "execution_count": 630,
   "id": "c88c467f",
   "metadata": {},
   "outputs": [
    {
     "data": {
      "text/plain": [
       "0.28435390424107576"
      ]
     },
     "execution_count": 630,
     "metadata": {},
     "output_type": "execute_result"
    }
   ],
   "source": [
    "rmse_DecisionTree=np.sqrt(mean_squared_error(y_val,y_pred))\n",
    "rmse_DecisionTree"
   ]
  },
  {
   "cell_type": "code",
   "execution_count": 631,
   "id": "4c7f7d74",
   "metadata": {},
   "outputs": [
    {
     "data": {
      "text/plain": [
       "1.0"
      ]
     },
     "execution_count": 631,
     "metadata": {},
     "output_type": "execute_result"
    }
   ],
   "source": [
    "dtr.score(X_train, y_train)"
   ]
  },
  {
   "cell_type": "markdown",
   "id": "6795ccb0",
   "metadata": {},
   "source": [
    "Create Random Forest Regressor"
   ]
  },
  {
   "cell_type": "code",
   "execution_count": 632,
   "id": "fdacd21e",
   "metadata": {},
   "outputs": [],
   "source": [
    "from sklearn.ensemble import RandomForestRegressor"
   ]
  },
  {
   "cell_type": "code",
   "execution_count": 633,
   "id": "475b8b8e",
   "metadata": {},
   "outputs": [
    {
     "data": {
      "text/plain": [
       "RandomForestRegressor(random_state=28)"
      ]
     },
     "execution_count": 633,
     "metadata": {},
     "output_type": "execute_result"
    }
   ],
   "source": [
    "#instantiate and fit decision tree to data\n",
    "rfg= RandomForestRegressor(random_state=28)\n",
    "rfg.fit(X_train, y_train)"
   ]
  },
  {
   "cell_type": "code",
   "execution_count": 634,
   "id": "ccb14712",
   "metadata": {},
   "outputs": [
    {
     "data": {
      "text/plain": [
       "array([4.791, 4.731, 4.635, 4.704, 4.669, 4.71 , 4.605, 4.684, 4.672,\n",
       "       4.648, 4.764, 4.777, 4.571, 4.642, 4.686, 4.76 , 4.704, 4.665,\n",
       "       4.596, 4.677, 4.677, 4.743, 4.65 , 4.791, 4.494, 4.77 , 4.686,\n",
       "       4.651, 4.666, 4.556, 4.704, 4.74 , 4.675, 4.718, 4.644, 4.624,\n",
       "       4.643, 4.632, 4.701, 4.596, 4.647, 4.68 , 4.684, 4.733, 4.596,\n",
       "       4.655, 4.687, 4.704, 4.692, 4.762, 4.66 , 4.71 , 4.666, 4.714,\n",
       "       4.504, 4.555, 4.772, 4.753, 4.727, 4.697, 4.701, 4.728, 4.694,\n",
       "       4.704, 4.612, 4.597, 4.641, 4.807, 4.746, 4.593])"
      ]
     },
     "execution_count": 634,
     "metadata": {},
     "output_type": "execute_result"
    }
   ],
   "source": [
    "y_pred = rfg.predict(X_val)\n",
    "y_pred"
   ]
  },
  {
   "cell_type": "code",
   "execution_count": 635,
   "id": "a4c76b01",
   "metadata": {},
   "outputs": [
    {
     "data": {
      "text/plain": [
       "0.26745555037907204"
      ]
     },
     "execution_count": 635,
     "metadata": {},
     "output_type": "execute_result"
    }
   ],
   "source": [
    "rmse_randomforest=np.sqrt(mean_squared_error(y_val,y_pred))\n",
    "rmse_randomforest"
   ]
  },
  {
   "cell_type": "markdown",
   "id": "6e0a4a77",
   "metadata": {},
   "source": [
    "Create Gradient Boosting Regressor"
   ]
  },
  {
   "cell_type": "code",
   "execution_count": 636,
   "id": "49700972",
   "metadata": {},
   "outputs": [],
   "source": [
    "from sklearn.ensemble import GradientBoostingRegressor"
   ]
  },
  {
   "cell_type": "code",
   "execution_count": 637,
   "id": "efe90bca",
   "metadata": {},
   "outputs": [
    {
     "data": {
      "text/plain": [
       "GradientBoostingRegressor(random_state=28)"
      ]
     },
     "execution_count": 637,
     "metadata": {},
     "output_type": "execute_result"
    }
   ],
   "source": [
    "#instantiate and fit decision tree to data\n",
    "gbr=GradientBoostingRegressor(random_state=28)\n",
    "gbr.fit(X_train, y_train)"
   ]
  },
  {
   "cell_type": "code",
   "execution_count": 638,
   "id": "e3544eb0",
   "metadata": {
    "scrolled": false
   },
   "outputs": [
    {
     "data": {
      "text/plain": [
       "array([4.71026233, 4.64908116, 4.64493586, 4.64908116, 4.64493586,\n",
       "       4.64908116, 4.57683255, 4.64493586, 4.65325172, 4.64493586,\n",
       "       4.75033821, 4.7790179 , 4.56981307, 4.64493586, 4.64908116,\n",
       "       4.73692477, 4.64908116, 4.64493586, 4.64002507, 4.64493586,\n",
       "       4.64493586, 4.70068996, 4.70486052, 4.74846067, 4.53910022,\n",
       "       4.69573179, 4.65325172, 4.64002507, 4.64002507, 4.5970986 ,\n",
       "       4.65325172, 4.64908116, 4.64493586, 4.64908116, 4.64493586,\n",
       "       4.59009776, 4.65325172, 4.62070313, 4.64910643, 4.6340856 ,\n",
       "       4.64493586, 4.64493586, 4.64493586, 4.64908116, 4.51374221,\n",
       "       4.64417037, 4.69396817, 4.64910643, 4.64493586, 4.68996986,\n",
       "       4.64908116, 4.64493586, 4.64002507, 4.64908116, 4.53910022,\n",
       "       4.58595246, 4.73692477, 4.73630325, 4.64493586, 4.64493586,\n",
       "       4.64493586, 4.68996986, 4.64910643, 4.67506386, 4.64002507,\n",
       "       4.63668498, 4.6382309 , 4.7790179 , 4.65325172, 4.56981307])"
      ]
     },
     "execution_count": 638,
     "metadata": {},
     "output_type": "execute_result"
    }
   ],
   "source": [
    "y_pred = gbr.predict(X_val)\n",
    "y_pred"
   ]
  },
  {
   "cell_type": "code",
   "execution_count": 639,
   "id": "ad2b845e",
   "metadata": {
    "scrolled": true
   },
   "outputs": [
    {
     "data": {
      "text/plain": [
       "0.2587497208648259"
      ]
     },
     "execution_count": 639,
     "metadata": {},
     "output_type": "execute_result"
    }
   ],
   "source": [
    "rmse_gboost=np.sqrt(mean_squared_error(y_val,y_pred))\n",
    "rmse_gboost"
   ]
  },
  {
   "cell_type": "markdown",
   "id": "95b440a7",
   "metadata": {},
   "source": [
    "I choose the the with the small rmse and fine tuned the hyperparameters"
   ]
  },
  {
   "cell_type": "code",
   "execution_count": 640,
   "id": "2d344927",
   "metadata": {},
   "outputs": [],
   "source": [
    "model_rmses=[]\n",
    "model_rmses.append((rmse_gboost,rmse_randomforest,rmse_DecisionTree,rmse_ElasticNet,rmse_Lasso,rmse_Ridge,rmse_LinearReg))"
   ]
  },
  {
   "cell_type": "code",
   "execution_count": 641,
   "id": "026811d7",
   "metadata": {
    "scrolled": true
   },
   "outputs": [
    {
     "data": {
      "text/plain": [
       "[(0.2587497208648259,\n",
       "  0.26745555037907204,\n",
       "  0.28435390424107576,\n",
       "  0.260973364530911,\n",
       "  0.2609866021678631,\n",
       "  0.2604948362483331,\n",
       "  0.2622495356225906)]"
      ]
     },
     "execution_count": 641,
     "metadata": {},
     "output_type": "execute_result"
    }
   ],
   "source": [
    "model_rmses"
   ]
  },
  {
   "cell_type": "markdown",
   "id": "23b0737d",
   "metadata": {},
   "source": [
    "Create a dataframe of RMSEs from models"
   ]
  },
  {
   "cell_type": "code",
   "execution_count": 642,
   "id": "c8d48000",
   "metadata": {
    "scrolled": true
   },
   "outputs": [
    {
     "data": {
      "text/html": [
       "<div>\n",
       "<style scoped>\n",
       "    .dataframe tbody tr th:only-of-type {\n",
       "        vertical-align: middle;\n",
       "    }\n",
       "\n",
       "    .dataframe tbody tr th {\n",
       "        vertical-align: top;\n",
       "    }\n",
       "\n",
       "    .dataframe thead th {\n",
       "        text-align: right;\n",
       "    }\n",
       "</style>\n",
       "<table border=\"1\" class=\"dataframe\">\n",
       "  <thead>\n",
       "    <tr style=\"text-align: right;\">\n",
       "      <th></th>\n",
       "      <th>0</th>\n",
       "    </tr>\n",
       "  </thead>\n",
       "  <tbody>\n",
       "    <tr>\n",
       "      <th>rmse_gboost</th>\n",
       "      <td>0.258750</td>\n",
       "    </tr>\n",
       "    <tr>\n",
       "      <th>rmse_randomforest</th>\n",
       "      <td>0.267456</td>\n",
       "    </tr>\n",
       "    <tr>\n",
       "      <th>rmse_DecisionTree</th>\n",
       "      <td>0.284354</td>\n",
       "    </tr>\n",
       "    <tr>\n",
       "      <th>rmse_ElasticNet</th>\n",
       "      <td>0.260973</td>\n",
       "    </tr>\n",
       "    <tr>\n",
       "      <th>rmse_Lasso</th>\n",
       "      <td>0.260987</td>\n",
       "    </tr>\n",
       "    <tr>\n",
       "      <th>rmse_Ridge</th>\n",
       "      <td>0.260495</td>\n",
       "    </tr>\n",
       "    <tr>\n",
       "      <th>rmse_LinearReg</th>\n",
       "      <td>0.262250</td>\n",
       "    </tr>\n",
       "  </tbody>\n",
       "</table>\n",
       "</div>"
      ],
      "text/plain": [
       "                          0\n",
       "rmse_gboost        0.258750\n",
       "rmse_randomforest  0.267456\n",
       "rmse_DecisionTree  0.284354\n",
       "rmse_ElasticNet    0.260973\n",
       "rmse_Lasso         0.260987\n",
       "rmse_Ridge         0.260495\n",
       "rmse_LinearReg     0.262250"
      ]
     },
     "execution_count": 642,
     "metadata": {},
     "output_type": "execute_result"
    }
   ],
   "source": [
    "columns =['rmse_gboost', 'rmse_randomforest', 'rmse_DecisionTree', 'rmse_ElasticNet', 'rmse_Lasso', 'rmse_Ridge', 'rmse_LinearReg']\n",
    "df_rmses =pd.DataFrame(model_rmses, columns=columns)\n",
    "\n",
    "df_rmses.T"
   ]
  },
  {
   "cell_type": "code",
   "execution_count": 643,
   "id": "1c3e861c",
   "metadata": {},
   "outputs": [
    {
     "data": {
      "text/plain": [
       "array([1., 2., 3., 4., 5., 6., 7., 8., 9.])"
      ]
     },
     "execution_count": 643,
     "metadata": {},
     "output_type": "execute_result"
    }
   ],
   "source": [
    "np.arange(1.0,10)"
   ]
  },
  {
   "cell_type": "markdown",
   "id": "477bae13",
   "metadata": {},
   "source": [
    "Model to fine tune is the Gradient Boosting Regressor "
   ]
  },
  {
   "cell_type": "code",
   "execution_count": 644,
   "id": "c0df2d2f",
   "metadata": {},
   "outputs": [],
   "source": [
    "# import GridSearchCV for fine tuning hyperparameters"
   ]
  },
  {
   "cell_type": "code",
   "execution_count": 645,
   "id": "c5eca6ea",
   "metadata": {},
   "outputs": [],
   "source": [
    "from sklearn.model_selection import GridSearchCV"
   ]
  },
  {
   "cell_type": "code",
   "execution_count": 646,
   "id": "702fe566",
   "metadata": {},
   "outputs": [
    {
     "data": {
      "text/plain": [
       "{'learning_rate': 0.1, 'max_depth': 2, 'n_estimators': 700}"
      ]
     },
     "execution_count": 646,
     "metadata": {},
     "output_type": "execute_result"
    }
   ],
   "source": [
    "param_grid = {'learning_rate':np.arange(0.1, 1.0),'n_estimators':(500,600,700,800,900),'max_depth':(np.arange(1,5))}\n",
    "                \n",
    "gbr=GradientBoostingRegressor(random_state=28)\n",
    "\n",
    "gbr_cv = GridSearchCV(gbr, param_grid, cv=6)\n",
    "\n",
    "gbr_cv.fit(X_train, y_train)\n",
    "\n",
    "gbr_cv.best_params_"
   ]
  },
  {
   "cell_type": "code",
   "execution_count": 647,
   "id": "8c8ea273",
   "metadata": {},
   "outputs": [],
   "source": [
    "#Tuned model\n",
    "gbr_f= GradientBoostingRegressor(random_state=28, max_depth=2,n_estimators=700, learning_rate=0.1)"
   ]
  },
  {
   "cell_type": "code",
   "execution_count": 648,
   "id": "2fae0f05",
   "metadata": {},
   "outputs": [],
   "source": [
    "#fit model to df_full_train"
   ]
  },
  {
   "cell_type": "code",
   "execution_count": 649,
   "id": "a1d0e8a8",
   "metadata": {},
   "outputs": [
    {
     "data": {
      "text/plain": [
       "array([[0.0000e+00, 0.0000e+00, 0.0000e+00, ..., 0.0000e+00, 9.0000e+00,\n",
       "        8.0300e+02],\n",
       "       [0.0000e+00, 0.0000e+00, 0.0000e+00, ..., 0.0000e+00, 4.0000e+00,\n",
       "        3.6730e+03],\n",
       "       [0.0000e+00, 0.0000e+00, 0.0000e+00, ..., 0.0000e+00, 5.0000e+00,\n",
       "        2.5860e+03],\n",
       "       ...,\n",
       "       [0.0000e+00, 0.0000e+00, 0.0000e+00, ..., 0.0000e+00, 1.2000e+01,\n",
       "        2.7440e+03],\n",
       "       [0.0000e+00, 0.0000e+00, 0.0000e+00, ..., 0.0000e+00, 1.1000e+01,\n",
       "        1.2643e+04],\n",
       "       [0.0000e+00, 0.0000e+00, 0.0000e+00, ..., 0.0000e+00, 7.0000e+00,\n",
       "        1.3871e+04]])"
      ]
     },
     "execution_count": 649,
     "metadata": {},
     "output_type": "execute_result"
    }
   ],
   "source": [
    "#Create full train dataset\n",
    "full_train_dicts = df_full_train.to_dict(orient = 'records')\n",
    "X_full_train = dv.transform(full_train_dicts)\n",
    "X_full_train"
   ]
  },
  {
   "cell_type": "code",
   "execution_count": 650,
   "id": "853ef68a",
   "metadata": {},
   "outputs": [
    {
     "data": {
      "text/plain": [
       "GradientBoostingRegressor(max_depth=2, n_estimators=700, random_state=28)"
      ]
     },
     "execution_count": 650,
     "metadata": {},
     "output_type": "execute_result"
    }
   ],
   "source": [
    "gbr_f.fit(X_full_train, y_full_train)"
   ]
  },
  {
   "cell_type": "code",
   "execution_count": 651,
   "id": "68d73aab",
   "metadata": {},
   "outputs": [],
   "source": [
    "#Test model using test dataset"
   ]
  },
  {
   "cell_type": "code",
   "execution_count": 652,
   "id": "0867cbb8",
   "metadata": {},
   "outputs": [
    {
     "data": {
      "text/plain": [
       "array([[0.0000e+00, 0.0000e+00, 0.0000e+00, ..., 0.0000e+00, 8.0000e+00,\n",
       "        1.7739e+04],\n",
       "       [0.0000e+00, 0.0000e+00, 0.0000e+00, ..., 0.0000e+00, 8.0000e+00,\n",
       "        4.7860e+03],\n",
       "       [0.0000e+00, 0.0000e+00, 0.0000e+00, ..., 0.0000e+00, 3.0000e+01,\n",
       "        1.9735e+04],\n",
       "       ...,\n",
       "       [0.0000e+00, 0.0000e+00, 0.0000e+00, ..., 0.0000e+00, 1.5000e+01,\n",
       "        7.0340e+03],\n",
       "       [0.0000e+00, 0.0000e+00, 0.0000e+00, ..., 0.0000e+00, 1.2000e+01,\n",
       "        1.2361e+04],\n",
       "       [0.0000e+00, 0.0000e+00, 0.0000e+00, ..., 0.0000e+00, 1.0000e+01,\n",
       "        8.5870e+03]])"
      ]
     },
     "execution_count": 652,
     "metadata": {},
     "output_type": "execute_result"
    }
   ],
   "source": [
    "#Create test dataset\n",
    "test_dicts = df_test.to_dict(orient = 'records')\n",
    "X_test = dv.transform(test_dicts)\n",
    "X_test"
   ]
  },
  {
   "cell_type": "code",
   "execution_count": 653,
   "id": "458f591d",
   "metadata": {},
   "outputs": [],
   "source": [
    "y_pred = gbr_f.predict(X_test)"
   ]
  },
  {
   "cell_type": "code",
   "execution_count": 654,
   "id": "0af6ba31",
   "metadata": {},
   "outputs": [
    {
     "data": {
      "text/plain": [
       "0.2021367502293974"
      ]
     },
     "execution_count": 654,
     "metadata": {},
     "output_type": "execute_result"
    }
   ],
   "source": [
    "rmse_gbr_f=np.sqrt(mean_squared_error(y_test,y_pred))\n",
    "rmse_gbr_f"
   ]
  },
  {
   "cell_type": "code",
   "execution_count": null,
   "id": "5a267777",
   "metadata": {},
   "outputs": [],
   "source": []
  }
 ],
 "metadata": {
  "kernelspec": {
   "display_name": "Python 3 (ipykernel)",
   "language": "python",
   "name": "python3"
  },
  "language_info": {
   "codemirror_mode": {
    "name": "ipython",
    "version": 3
   },
   "file_extension": ".py",
   "mimetype": "text/x-python",
   "name": "python",
   "nbconvert_exporter": "python",
   "pygments_lexer": "ipython3",
   "version": "3.8.12"
  }
 },
 "nbformat": 4,
 "nbformat_minor": 5
}
